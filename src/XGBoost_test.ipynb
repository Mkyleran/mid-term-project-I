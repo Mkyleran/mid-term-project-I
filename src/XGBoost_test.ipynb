{
 "cells": [
  {
   "cell_type": "markdown",
   "id": "447e030a-9b17-40da-b328-da30cd91bb74",
   "metadata": {},
   "source": [
    "# XGBoost Test"
   ]
  },
  {
   "cell_type": "code",
   "execution_count": 1,
   "id": "7e435086-1347-41e3-a72e-775a54da94b3",
   "metadata": {},
   "outputs": [],
   "source": [
    "import pickle"
   ]
  },
  {
   "cell_type": "markdown",
   "id": "25a28fc6-5a55-48fd-b29b-a467745151e1",
   "metadata": {},
   "source": [
    "## Load model"
   ]
  },
  {
   "cell_type": "code",
   "execution_count": 2,
   "id": "488faa38-7b51-4dbf-9f99-e98273cafcc9",
   "metadata": {},
   "outputs": [],
   "source": [
    "# load model from file\n",
    "xg_reg = pickle.load(open('models/flight_delay_xgboost.pickle.dat', 'rb'))"
   ]
  },
  {
   "cell_type": "code",
   "execution_count": null,
   "id": "5e68fba2-54f7-4d90-b643-c5a14ffd23a6",
   "metadata": {},
   "outputs": [],
   "source": []
  }
 ],
 "metadata": {
  "kernelspec": {
   "display_name": "Python 3 (ipykernel)",
   "language": "python",
   "name": "python3"
  },
  "language_info": {
   "codemirror_mode": {
    "name": "ipython",
    "version": 3
   },
   "file_extension": ".py",
   "mimetype": "text/x-python",
   "name": "python",
   "nbconvert_exporter": "python",
   "pygments_lexer": "ipython3",
   "version": "3.10.0"
  }
 },
 "nbformat": 4,
 "nbformat_minor": 5
}
