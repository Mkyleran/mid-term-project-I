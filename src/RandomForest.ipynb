{
 "cells": [
  {
   "cell_type": "code",
   "execution_count": 1,
   "metadata": {},
   "outputs": [],
   "source": [
    "import modules.preprocessing_functions as pre\n",
    "import modules.save_model as save\n",
    "import warnings\n",
    "warnings.filterwarnings('ignore')"
   ]
  },
  {
   "cell_type": "code",
   "execution_count": 2,
   "metadata": {},
   "outputs": [],
   "source": [
    "import pandas as pd\n",
    "import numpy as np\n",
    "import seaborn as sns\n",
    "\n",
    "from sklearn.tree import DecisionTreeRegressor\n",
    "from sklearn.ensemble import RandomForestRegressor\n",
    "from sklearn.model_selection import train_test_split\n",
    "from sklearn.preprocessing import MinMaxScaler\n",
    "\n",
    "from sklearn.preprocessing import OneHotEncoder\n",
    "from sklearn.preprocessing import OrdinalEncoder\n",
    "from sklearn.metrics import mean_squared_error\n",
    "\n",
    "\n",
    "def split_data(X, y, test_size=0.2, random_state=99):\n",
    "    '''Returns training and test data.'''\n",
    "    X_train, X_test, y_train, y_test = train_test_split(X, y, test_size = test_size, random_state = random_state)\n",
    "    \n",
    "    return X_train, X_test, y_train, y_test\n",
    "\n",
    "def decision_tree(X_train, X_test, y_train, y_test):\n",
    "    '''Returns a tuple of decision tree regressor object and a prediction array of the test data.'''\n",
    "    \n",
    "    dec_tree = DecisionTreeRegressor()\n",
    "    dec_tree.fit(X_train, y_train)\n",
    "    y_pred = dec_tree.predict(X_test)\n",
    "    print('Mean Squared Error: {0:0.4f}'.format(mean_squared_error(y_test, y_pred)))\n",
    "    print('RSME: {0:0.4f}'.format(mean_squared_error(y_test, y_pred, squared=False)))\n",
    "\n",
    "    return dec_tree, y_pred\n",
    "\n",
    "def random_forest(X_train, X_test, y_train, y_test, random_state=99):\n",
    "    '''Returns a tuple of random forest regressor object and a prediction array of the test data.'''\n",
    "    \n",
    "    rand_for = RandomForestRegressor(max_depth=100, min_samples_split=3, min_samples_leaf=3)\n",
    "    rand_for.fit(X_train, y_train)\n",
    "    y_pred = rand_for.predict(X_test)\n",
    "    \n",
    "    print('Mean Squared Error: {0:0.4f}'.format(mean_squared_error(y_test, y_pred)))\n",
    "    print('RSME: {0:0.4f}'.format(mean_squared_error(y_test, y_pred, squared=False)))\n",
    "    \n",
    "    return rand_for, y_pred\n",
    "\n",
    "\n",
    "def cleaning(df, year='2019', month='01', day='08', delay_max = 60, delay_min = -20, greater=False):\n",
    "    '''Return a cleaned data set filtered by year, month and date. Optional parameters to filter by the \n",
    "    maximum and minimum delay times you want to keep. Default is set to 60 and -20. Greater equals false.'''\n",
    "    \n",
    "    cut_off = year + '-' + month + '-' + day\n",
    "    \n",
    "    if greater==True:\n",
    "        df = df[df.fl_date > cut_off]\n",
    "    else:\n",
    "        df = df[df.fl_date < cut_off]\n",
    "    df = df.loc[df['cancelled']==0]\n",
    "    df = df.loc[df['diverted']==0]\n",
    "    \n",
    "    is_delay = np.zeros(df.shape[0])\n",
    "    \n",
    "    for i, entry in enumerate(df.arr_delay):\n",
    "        is_delay[i] = entry > 0\n",
    "\n",
    "    df['is_delay'] = is_delay\n",
    "    \n",
    "    df = df.loc[df['arr_delay'] < delay_max]\n",
    "    df = df.loc[df['arr_delay'] > delay_min]\n",
    "    \n",
    "    df['arr_delay'] = df['arr_delay'].fillna(0)\n",
    "    \n",
    "    \n",
    "    return df \n",
    " "
   ]
  },
  {
   "cell_type": "code",
   "execution_count": 3,
   "metadata": {},
   "outputs": [],
   "source": [
    "# Note: the data is in my local file but not pushed to GitHub- adjust your path\n",
    "\n",
    "flights = pd.read_csv('../data/2019-jan.csv', low_memory=False)\n",
    "\n",
    "# For Dec flights \n",
    "# flights_2 = pd.read_csv('../data/2019-dec.csv', low_memory=False)"
   ]
  },
  {
   "cell_type": "code",
   "execution_count": 4,
   "metadata": {},
   "outputs": [
    {
     "data": {
      "text/html": [
       "<div>\n",
       "<style scoped>\n",
       "    .dataframe tbody tr th:only-of-type {\n",
       "        vertical-align: middle;\n",
       "    }\n",
       "\n",
       "    .dataframe tbody tr th {\n",
       "        vertical-align: top;\n",
       "    }\n",
       "\n",
       "    .dataframe thead th {\n",
       "        text-align: right;\n",
       "    }\n",
       "</style>\n",
       "<table border=\"1\" class=\"dataframe\">\n",
       "  <thead>\n",
       "    <tr style=\"text-align: right;\">\n",
       "      <th></th>\n",
       "      <th>arr_delay</th>\n",
       "    </tr>\n",
       "  </thead>\n",
       "  <tbody>\n",
       "    <tr>\n",
       "      <th>count</th>\n",
       "      <td>617649.000000</td>\n",
       "    </tr>\n",
       "    <tr>\n",
       "      <th>mean</th>\n",
       "      <td>4.714467</td>\n",
       "    </tr>\n",
       "    <tr>\n",
       "      <th>std</th>\n",
       "      <td>52.089993</td>\n",
       "    </tr>\n",
       "    <tr>\n",
       "      <th>min</th>\n",
       "      <td>-85.000000</td>\n",
       "    </tr>\n",
       "    <tr>\n",
       "      <th>25%</th>\n",
       "      <td>-16.000000</td>\n",
       "    </tr>\n",
       "    <tr>\n",
       "      <th>50%</th>\n",
       "      <td>-7.000000</td>\n",
       "    </tr>\n",
       "    <tr>\n",
       "      <th>75%</th>\n",
       "      <td>7.000000</td>\n",
       "    </tr>\n",
       "    <tr>\n",
       "      <th>max</th>\n",
       "      <td>1707.000000</td>\n",
       "    </tr>\n",
       "  </tbody>\n",
       "</table>\n",
       "</div>"
      ],
      "text/plain": [
       "           arr_delay\n",
       "count  617649.000000\n",
       "mean        4.714467\n",
       "std        52.089993\n",
       "min       -85.000000\n",
       "25%       -16.000000\n",
       "50%        -7.000000\n",
       "75%         7.000000\n",
       "max      1707.000000"
      ]
     },
     "execution_count": 4,
     "metadata": {},
     "output_type": "execute_result"
    }
   ],
   "source": [
    "# check arrival delay stats\n",
    "pd.DataFrame(flights.arr_delay.describe())"
   ]
  },
  {
   "cell_type": "code",
   "execution_count": 5,
   "metadata": {},
   "outputs": [],
   "source": [
    "# For expanding the test data set\n",
    "# df_1 = cleaning(flights, '2019', '01', '08')\n",
    "# df_2 = cleaning(flights_2, '2019', '12', '19', greater=True)\n",
    "# df = pd.concat([df_1, df_2])\n",
    "\n",
    "# Filter for the first week of January\n",
    "df = cleaning(flights, '2019', '01', '08', delay_max=30, delay_min=-7)"
   ]
  },
  {
   "cell_type": "code",
   "execution_count": 6,
   "metadata": {},
   "outputs": [],
   "source": [
    "# Looking at some other stats\n",
    "# pre.binomial_stats(df,['mkt_carrier', 'arr_delay'], threshold=10)"
   ]
  },
  {
   "cell_type": "code",
   "execution_count": 7,
   "metadata": {},
   "outputs": [],
   "source": [
    "# Get the target\n",
    "y = df.arr_delay"
   ]
  },
  {
   "cell_type": "code",
   "execution_count": null,
   "metadata": {},
   "outputs": [],
   "source": []
  },
  {
   "cell_type": "code",
   "execution_count": 8,
   "metadata": {},
   "outputs": [],
   "source": [
    "# df = pre.is_stat_holiday(df)"
   ]
  },
  {
   "cell_type": "code",
   "execution_count": 9,
   "metadata": {},
   "outputs": [
    {
     "data": {
      "text/html": [
       "<div>\n",
       "<style scoped>\n",
       "    .dataframe tbody tr th:only-of-type {\n",
       "        vertical-align: middle;\n",
       "    }\n",
       "\n",
       "    .dataframe tbody tr th {\n",
       "        vertical-align: top;\n",
       "    }\n",
       "\n",
       "    .dataframe thead th {\n",
       "        text-align: right;\n",
       "    }\n",
       "</style>\n",
       "<table border=\"1\" class=\"dataframe\">\n",
       "  <thead>\n",
       "    <tr style=\"text-align: right;\">\n",
       "      <th></th>\n",
       "      <th>fl_date</th>\n",
       "      <th>mkt_carrier</th>\n",
       "      <th>tail_num</th>\n",
       "      <th>origin_city_name</th>\n",
       "      <th>crs_dep_time</th>\n",
       "      <th>taxi_out</th>\n",
       "      <th>taxi_in</th>\n",
       "    </tr>\n",
       "  </thead>\n",
       "  <tbody>\n",
       "    <tr>\n",
       "      <th>2</th>\n",
       "      <td>2019-01-01</td>\n",
       "      <td>AS</td>\n",
       "      <td>N524VA</td>\n",
       "      <td>Las Vegas, NV</td>\n",
       "      <td>1345</td>\n",
       "      <td>25.0</td>\n",
       "      <td>8.0</td>\n",
       "    </tr>\n",
       "  </tbody>\n",
       "</table>\n",
       "</div>"
      ],
      "text/plain": [
       "      fl_date mkt_carrier tail_num origin_city_name  crs_dep_time  taxi_out  \\\n",
       "2  2019-01-01          AS   N524VA    Las Vegas, NV          1345      25.0   \n",
       "\n",
       "   taxi_in  \n",
       "2      8.0  "
      ]
     },
     "execution_count": 9,
     "metadata": {},
     "output_type": "execute_result"
    }
   ],
   "source": [
    "# For Custom Purging\n",
    "# keep = ['is_delay', 'stat_holiday', 'fl_date', 'mkt_carrier', 'tail_num', 'origin_city_name', 'crs_dep_time', 'taxi_out', 'taxi_in']\n",
    "\n",
    "keep = ['fl_date', 'mkt_carrier', 'tail_num', 'origin_city_name', 'crs_dep_time', 'taxi_out', 'taxi_in']\n",
    "df_new = df[keep]\n",
    "df_new.head(1)\n"
   ]
  },
  {
   "cell_type": "code",
   "execution_count": null,
   "metadata": {},
   "outputs": [],
   "source": []
  },
  {
   "cell_type": "code",
   "execution_count": 10,
   "metadata": {},
   "outputs": [],
   "source": [
    "# Functions for parsing departure time into hours and flight date into day of the week.\n",
    "\n",
    "def split_into_hours(series): \n",
    "    size = series.shape[0]\n",
    "    hours = np.empty(size)\n",
    "    hours\n",
    "    for i, line in enumerate(series):\n",
    "        line = str(line)\n",
    "        if (len(line) == 2) or (len(line) == 1):\n",
    "            hours[i] = 0\n",
    "        elif len(line) == 3:\n",
    "            hours[i] = line[0]\n",
    "        elif len(line) == 4:\n",
    "            hours[i] = line[:2]\n",
    "        else:\n",
    "            hours[i] = np.nan\n",
    "    return hours\n",
    "\n",
    "def split_into_day(series): \n",
    "    size = series.shape[0]\n",
    "    days = np.empty(size)\n",
    "    for i, line in enumerate(series):\n",
    "        line = str(line)\n",
    "        if line[-2] == 0:\n",
    "            days[i] = int(line[-1])\n",
    "        else:\n",
    "            days[i] = int(line[-2:])\n",
    "    return days"
   ]
  },
  {
   "cell_type": "code",
   "execution_count": 11,
   "metadata": {},
   "outputs": [],
   "source": [
    "# Create new columns and drop old ones.\n",
    "\n",
    "day_of_month = split_into_day(df_new.fl_date)\n",
    "hours_of_day = split_into_hours(df_new.crs_dep_time)\n",
    "\n",
    "df_new['day_of_month'] = day_of_month\n",
    "df_new['dep_hour'] = hours_of_day\n",
    "\n",
    "\n",
    "df_new.drop(['fl_date','crs_dep_time'], axis=1, inplace=True)"
   ]
  },
  {
   "cell_type": "code",
   "execution_count": 12,
   "metadata": {},
   "outputs": [
    {
     "name": "stdout",
     "output_type": "stream",
     "text": [
      "0\n",
      "228\n",
      "Null Values\n",
      "0\n",
      "        arr_delay\n",
      "mean     9.837583\n",
      "median  -4.000000\n",
      "std     57.083195\n"
     ]
    }
   ],
   "source": [
    "# Create delay dictionaries to get the historical averages and probabilities \n",
    "# Can be used for combined Monthly Tables or just for Jan or just for Dec\n",
    "\n",
    "# flight_18 = pd.concat(\n",
    "#     map(pd.read_csv, ['../data/2018-jan.csv', '../data/2018-dec.csv']), ignore_index=True)\n",
    "# flight_18_dec = pd.read_csv('../data/2018-dec.csv', low_memory=False)\n",
    "\n",
    "\n",
    "flight_18_jan = pd.read_csv('../data/2018-jan.csv', low_memory=False)\n",
    "\n",
    "# To filter the first week\n",
    "flight_18 = flight_18_jan[flight_18_jan.fl_date < '2018-01-08']\n",
    "\n",
    "# Create is Delay column\n",
    "\n",
    "is_delay = np.zeros(flight_18.shape[0])\n",
    "for i, entry in enumerate(flight_18.arr_delay):\n",
    "        is_delay[i] = entry > 0\n",
    "flight_18['is_delay'] = is_delay\n",
    "\n",
    "\n",
    "flight_18.shape\n",
    "\n",
    "# Check total number of null values\n",
    "flight_18['arr_delay'].isnull().sum()\n",
    "\n",
    "\n",
    "# Check total number of null values from cancelled and diverted flights\n",
    "print(flight_18[flight_18['cancelled'] == 1].shape[0])\n",
    "print(flight_18[flight_18['diverted'] == 1].shape[0])\n",
    "flight_18[flight_18['cancelled'] == 1].shape[0] + flight_18[flight_18['diverted'] == 1].shape[0]\n",
    "\n",
    "flight_18 = flight_18.loc[flight_18['cancelled']==0]\n",
    "flight_18 = flight_18.loc[flight_18['diverted']==0]\n",
    "\n",
    "# filter out null values using a lambda function\n",
    "flights['arr_delay'] = flights.apply(\n",
    "    lambda row: 0 if ( np.isnan(row['arr_delay']) & (row['cancelled'] == 0) ) else row['arr_delay'],\n",
    "    axis=1\n",
    ")\n",
    "flight_18['arr_delay'] = flight_18.apply(\n",
    "    lambda row: 0 if ( np.isnan(row['arr_delay']) & (row['diverted'] == 0) ) else row['arr_delay'],\n",
    "    axis=1\n",
    ")\n",
    "\n",
    "# Double check\n",
    "print('Null Values')\n",
    "print(flight_18['arr_delay'].isnull().sum())\n",
    "\n",
    "# transform fl_date into more granular time values (only using day of the week)\n",
    "import datetime as dt\n",
    "\n",
    "pd.to_datetime(flight_18.fl_date)\n",
    "# flight_18['month'] = pd.to_datetime(flight_18.fl_date).dt.month\n",
    "# flight_18['year'] = pd.to_datetime(flight_18.fl_date).dt.year\n",
    "flight_18['day'] = pd.to_datetime(flight_18.fl_date).dt.day\n",
    "\n",
    "# Overall stats for delays: same as previously printed\n",
    "print(pd.DataFrame(flight_18.arr_delay.agg(['mean', 'median', 'std'])))\n",
    "\n",
    "\n",
    "# get the departure hour\n",
    "flight_18['dep_hr'] = flight_18.crs_dep_time//100\n",
    "\n",
    "# dictionary function\n",
    "def average_dictionary(df):\n",
    "    stat_dict = {}\n",
    "    for index, row in df.iterrows():\n",
    "        stat_dict[index] = row[0]\n",
    "   \n",
    "    return stat_dict\n",
    "\n",
    "# create dictionaries that correspond to the weekly or monthly stat aggregation (depending on previous groupings)\n",
    "\n",
    "summary = pd.DataFrame(flight_18[['arr_delay','day']].groupby('day').agg(['mean', 'median', 'std']))\n",
    "daily_delay = average_dictionary(summary)\n",
    "\n",
    "summary = pd.DataFrame(flight_18[['is_delay','day']].groupby('day').agg(['mean', 'median', 'std']))\n",
    "prob_daily = average_dictionary(summary)\n",
    "\n",
    "summary = pd.DataFrame(flight_18[['arr_delay','mkt_carrier']].groupby('mkt_carrier').agg(['mean', 'median', 'std']))\n",
    "carrier_delay = average_dictionary(summary)\n",
    "\n",
    "summary = pd.DataFrame(flight_18[['is_delay','mkt_carrier']].groupby('mkt_carrier').agg(['mean', 'median', 'std']))\n",
    "prob_carrier = average_dictionary(summary)\n",
    "\n",
    "summary = pd.DataFrame(flight_18[['arr_delay','origin_city_name']].groupby('origin_city_name').agg(['mean', 'median', 'std']))\n",
    "city_delay = average_dictionary(summary)\n",
    "\n",
    "summary = pd.DataFrame(flight_18[['is_delay','origin_city_name']].groupby('origin_city_name').agg(['mean', 'median', 'std']))\n",
    "prob_city = average_dictionary(summary)\n",
    "\n",
    "summary = pd.DataFrame(flight_18[['arr_delay','dep_hr']].groupby('dep_hr').agg(['mean', 'median', 'std']))\n",
    "hour_delay = average_dictionary(summary)\n",
    "\n",
    "summary = pd.DataFrame(flight_18[['is_delay','dep_hr']].groupby('dep_hr').agg(['mean', 'median', 'std']))\n",
    "prob_hour = average_dictionary(summary)\n",
    "                                 \n",
    "summary = pd.DataFrame(flight_18[['arr_delay','tail_num']].groupby('tail_num').agg(['mean', 'median', 'std']))\n",
    "tail_delay = average_dictionary(summary)\n",
    "\n",
    "summary = pd.DataFrame(flight_18[['is_delay','tail_num']].groupby('tail_num').agg(['mean', 'median', 'std']))\n",
    "prob_tail = average_dictionary(summary)\n",
    "\n",
    "summary = pd.DataFrame(flight_18[['arr_delay','taxi_out']].groupby('taxi_out').agg(['mean', 'median', 'std']))\n",
    "taxi_out_delay = average_dictionary(summary)\n",
    "\n",
    "# summary = pd.DataFrame(flight_18[['is_delay','taxi_out']].groupby('taxi_out').agg(['mean', 'median', 'std']))\n",
    "# prob_taxi_out = average_dictionary(summary)\n",
    "\n",
    "summary = pd.DataFrame(flight_18[['arr_delay','taxi_in']].groupby('taxi_in').agg(['mean', 'median', 'std']))\n",
    "taxi_in_delay = average_dictionary(summary)\n",
    "                                 \n",
    "# summary = pd.DataFrame(flight_18[['is_delay','taxi_in']].groupby('taxi_in').agg(['mean', 'median', 'std']))\n",
    "# prob_taxi_in = average_dictionary(summary)"
   ]
  },
  {
   "cell_type": "code",
   "execution_count": 13,
   "metadata": {},
   "outputs": [],
   "source": [
    "# create arrays to match the feature values to the average delay times\n",
    "\n",
    "daily_average = np.empty(len(df_new))\n",
    "for i, entry in enumerate(df_new.day_of_month):\n",
    "    daily_average[i] = daily_delay[entry]\n",
    "\n",
    "\n",
    "carrier_average = np.empty(len(df_new))\n",
    "for i, entry in enumerate(df_new.mkt_carrier):\n",
    "    carrier_average[i] = carrier_delay[entry]\n",
    "\n",
    "\n",
    "city_mean = sum(city_delay.values())/len(city_delay.values())\n",
    "\n",
    "city_average = np.empty(len(df_new))\n",
    "for i, entry in enumerate(df_new.origin_city_name):\n",
    "    try:\n",
    "        city_average[i] = city_delay[entry]\n",
    "    except KeyError:\n",
    "        city_average[i] = city_mean\n",
    "\n",
    "\n",
    "hour_average = np.empty(len(df_new))\n",
    "for i, entry in enumerate(df_new.dep_hour):\n",
    "    hour_average[i] = hour_delay[entry]\n",
    "\n",
    "\n",
    "\n",
    "tail_average = np.empty(len(df_new))\n",
    "for i, entry in enumerate(df_new.tail_num):\n",
    "    try:\n",
    "        tail_average[i] = tail_delay[entry]\n",
    "    except KeyError:\n",
    "        tail_average[i] = 0\n",
    "\n",
    "\n",
    "taxi_out_mean = sum(taxi_out_delay.values())/len(taxi_out_delay.values())\n",
    "\n",
    "taxi_out_average = np.empty(len(df_new))\n",
    "for i, entry in enumerate(df_new.taxi_out):\n",
    "    try:\n",
    "        taxi_out_average[i] = taxi_out_delay[entry]\n",
    "    except KeyError:\n",
    "        tail_average[i] = 0\n",
    "\n",
    "\n",
    "taxi_in_mean = sum(taxi_in_delay.values())/len(taxi_in_delay.values())\n",
    "\n",
    "taxi_in_average = np.empty(len(df_new))\n",
    "for i, entry in enumerate(df_new.taxi_in):\n",
    "    try:\n",
    "        taxi_in_average[i] = taxi_in_delay[entry]\n",
    "    except KeyError:\n",
    "        tail_average[i] = 0\n"
   ]
  },
  {
   "cell_type": "code",
   "execution_count": 14,
   "metadata": {},
   "outputs": [],
   "source": [
    "# create arrays to match the feature values to the probabilities based on frequency counts\n",
    "\n",
    "daily_prob = np.empty(len(df_new))\n",
    "for i, entry in enumerate(df_new.day_of_month):\n",
    "    daily_prob[i] = prob_daily[entry]\n",
    "\n",
    "    \n",
    "carrier_prob = np.empty(len(df_new))\n",
    "for i, entry in enumerate(df_new.mkt_carrier):\n",
    "    carrier_prob[i] = prob_carrier[entry]\n",
    "\n",
    "\n",
    "city_prob = np.empty(len(df_new))\n",
    "for i, entry in enumerate(df_new.origin_city_name):\n",
    "    try:\n",
    "        city_prob[i] = prob_city[entry]\n",
    "    except:\n",
    "        city_prob[i] = 0\n",
    "\n",
    "\n",
    "hour_prob = np.empty(len(df_new))\n",
    "for i, entry in enumerate(df_new.dep_hour):\n",
    "    hour_prob[i] = prob_hour[entry]\n",
    "\n",
    "\n",
    "tail_prob = np.empty(len(df_new))\n",
    "for i, entry in enumerate(df_new.tail_num):\n",
    "    try:\n",
    "        tail_prob[i] = prob_tail[entry]\n",
    "    except:\n",
    "        tail_prob[i] = 0"
   ]
  },
  {
   "cell_type": "code",
   "execution_count": 15,
   "metadata": {},
   "outputs": [],
   "source": [
    "# create new columns for feature engineering\n",
    "\n",
    "df_new['daily_del'] = daily_average\n",
    "df_new['carrier_del'] = carrier_average\n",
    "df_new['city_del'] = city_average\n",
    "df_new['dep_hr_del'] = hour_average\n",
    "df_new['tail_del'] = tail_average\n",
    "df_new['taxi_out_del'] = taxi_out_average\n",
    "df_new['taxi_in_del'] = taxi_in_average\n",
    "\n",
    "df_new['daily_prob'] = daily_prob\n",
    "df_new['carrier_prob'] = carrier_prob\n",
    "df_new['city_prob'] = city_prob\n",
    "df_new['hour_prob'] = hour_prob\n",
    "df_new['tail_prob'] = tail_prob"
   ]
  },
  {
   "cell_type": "code",
   "execution_count": 16,
   "metadata": {},
   "outputs": [
    {
     "data": {
      "text/html": [
       "<div>\n",
       "<style scoped>\n",
       "    .dataframe tbody tr th:only-of-type {\n",
       "        vertical-align: middle;\n",
       "    }\n",
       "\n",
       "    .dataframe tbody tr th {\n",
       "        vertical-align: top;\n",
       "    }\n",
       "\n",
       "    .dataframe thead th {\n",
       "        text-align: right;\n",
       "    }\n",
       "</style>\n",
       "<table border=\"1\" class=\"dataframe\">\n",
       "  <thead>\n",
       "    <tr style=\"text-align: right;\">\n",
       "      <th></th>\n",
       "      <th>mkt_carrier</th>\n",
       "      <th>tail_num</th>\n",
       "      <th>origin_city_name</th>\n",
       "      <th>taxi_out</th>\n",
       "      <th>taxi_in</th>\n",
       "      <th>day_of_month</th>\n",
       "      <th>dep_hour</th>\n",
       "      <th>daily_del</th>\n",
       "      <th>carrier_del</th>\n",
       "      <th>city_del</th>\n",
       "      <th>dep_hr_del</th>\n",
       "      <th>tail_del</th>\n",
       "      <th>taxi_out_del</th>\n",
       "      <th>taxi_in_del</th>\n",
       "      <th>daily_prob</th>\n",
       "      <th>carrier_prob</th>\n",
       "      <th>city_prob</th>\n",
       "      <th>hour_prob</th>\n",
       "      <th>tail_prob</th>\n",
       "    </tr>\n",
       "  </thead>\n",
       "  <tbody>\n",
       "    <tr>\n",
       "      <th>2</th>\n",
       "      <td>AS</td>\n",
       "      <td>N524VA</td>\n",
       "      <td>Las Vegas, NV</td>\n",
       "      <td>25.0</td>\n",
       "      <td>8.0</td>\n",
       "      <td>1.0</td>\n",
       "      <td>13.0</td>\n",
       "      <td>14.478215</td>\n",
       "      <td>-3.031137</td>\n",
       "      <td>2.483601</td>\n",
       "      <td>11.159584</td>\n",
       "      <td>3.769231</td>\n",
       "      <td>17.104167</td>\n",
       "      <td>10.068289</td>\n",
       "      <td>0.462505</td>\n",
       "      <td>0.28039</td>\n",
       "      <td>0.344043</td>\n",
       "      <td>0.427269</td>\n",
       "      <td>0.384615</td>\n",
       "    </tr>\n",
       "    <tr>\n",
       "      <th>5</th>\n",
       "      <td>AS</td>\n",
       "      <td>N623VA</td>\n",
       "      <td>San Jose, CA</td>\n",
       "      <td>12.0</td>\n",
       "      <td>8.0</td>\n",
       "      <td>1.0</td>\n",
       "      <td>20.0</td>\n",
       "      <td>14.478215</td>\n",
       "      <td>-3.031137</td>\n",
       "      <td>3.233966</td>\n",
       "      <td>15.462294</td>\n",
       "      <td>-1.157895</td>\n",
       "      <td>5.213340</td>\n",
       "      <td>10.068289</td>\n",
       "      <td>0.462505</td>\n",
       "      <td>0.28039</td>\n",
       "      <td>0.341463</td>\n",
       "      <td>0.475070</td>\n",
       "      <td>0.473684</td>\n",
       "    </tr>\n",
       "    <tr>\n",
       "      <th>7</th>\n",
       "      <td>AS</td>\n",
       "      <td>N625VA</td>\n",
       "      <td>San Jose, CA</td>\n",
       "      <td>20.0</td>\n",
       "      <td>10.0</td>\n",
       "      <td>1.0</td>\n",
       "      <td>8.0</td>\n",
       "      <td>14.478215</td>\n",
       "      <td>-3.031137</td>\n",
       "      <td>3.233966</td>\n",
       "      <td>5.729919</td>\n",
       "      <td>32.133333</td>\n",
       "      <td>10.898827</td>\n",
       "      <td>11.805962</td>\n",
       "      <td>0.462505</td>\n",
       "      <td>0.28039</td>\n",
       "      <td>0.341463</td>\n",
       "      <td>0.356387</td>\n",
       "      <td>0.600000</td>\n",
       "    </tr>\n",
       "    <tr>\n",
       "      <th>10</th>\n",
       "      <td>AS</td>\n",
       "      <td>N521VA</td>\n",
       "      <td>Seattle, WA</td>\n",
       "      <td>33.0</td>\n",
       "      <td>4.0</td>\n",
       "      <td>1.0</td>\n",
       "      <td>9.0</td>\n",
       "      <td>14.478215</td>\n",
       "      <td>-3.031137</td>\n",
       "      <td>-0.903305</td>\n",
       "      <td>4.458312</td>\n",
       "      <td>0.857143</td>\n",
       "      <td>29.282463</td>\n",
       "      <td>6.263212</td>\n",
       "      <td>0.462505</td>\n",
       "      <td>0.28039</td>\n",
       "      <td>0.311200</td>\n",
       "      <td>0.345160</td>\n",
       "      <td>0.428571</td>\n",
       "    </tr>\n",
       "    <tr>\n",
       "      <th>11</th>\n",
       "      <td>AS</td>\n",
       "      <td>N526VA</td>\n",
       "      <td>Seattle, WA</td>\n",
       "      <td>20.0</td>\n",
       "      <td>4.0</td>\n",
       "      <td>1.0</td>\n",
       "      <td>17.0</td>\n",
       "      <td>14.478215</td>\n",
       "      <td>-3.031137</td>\n",
       "      <td>-0.903305</td>\n",
       "      <td>14.440137</td>\n",
       "      <td>0.500000</td>\n",
       "      <td>10.898827</td>\n",
       "      <td>6.263212</td>\n",
       "      <td>0.462505</td>\n",
       "      <td>0.28039</td>\n",
       "      <td>0.311200</td>\n",
       "      <td>0.458744</td>\n",
       "      <td>0.500000</td>\n",
       "    </tr>\n",
       "  </tbody>\n",
       "</table>\n",
       "</div>"
      ],
      "text/plain": [
       "   mkt_carrier tail_num origin_city_name  taxi_out  taxi_in  day_of_month  \\\n",
       "2           AS   N524VA    Las Vegas, NV      25.0      8.0           1.0   \n",
       "5           AS   N623VA     San Jose, CA      12.0      8.0           1.0   \n",
       "7           AS   N625VA     San Jose, CA      20.0     10.0           1.0   \n",
       "10          AS   N521VA      Seattle, WA      33.0      4.0           1.0   \n",
       "11          AS   N526VA      Seattle, WA      20.0      4.0           1.0   \n",
       "\n",
       "    dep_hour  daily_del  carrier_del  city_del  dep_hr_del   tail_del  \\\n",
       "2       13.0  14.478215    -3.031137  2.483601   11.159584   3.769231   \n",
       "5       20.0  14.478215    -3.031137  3.233966   15.462294  -1.157895   \n",
       "7        8.0  14.478215    -3.031137  3.233966    5.729919  32.133333   \n",
       "10       9.0  14.478215    -3.031137 -0.903305    4.458312   0.857143   \n",
       "11      17.0  14.478215    -3.031137 -0.903305   14.440137   0.500000   \n",
       "\n",
       "    taxi_out_del  taxi_in_del  daily_prob  carrier_prob  city_prob  hour_prob  \\\n",
       "2      17.104167    10.068289    0.462505       0.28039   0.344043   0.427269   \n",
       "5       5.213340    10.068289    0.462505       0.28039   0.341463   0.475070   \n",
       "7      10.898827    11.805962    0.462505       0.28039   0.341463   0.356387   \n",
       "10     29.282463     6.263212    0.462505       0.28039   0.311200   0.345160   \n",
       "11     10.898827     6.263212    0.462505       0.28039   0.311200   0.458744   \n",
       "\n",
       "    tail_prob  \n",
       "2    0.384615  \n",
       "5    0.473684  \n",
       "7    0.600000  \n",
       "10   0.428571  \n",
       "11   0.500000  "
      ]
     },
     "execution_count": 16,
     "metadata": {},
     "output_type": "execute_result"
    }
   ],
   "source": [
    "df_new.head()"
   ]
  },
  {
   "cell_type": "code",
   "execution_count": 17,
   "metadata": {},
   "outputs": [],
   "source": [
    "# potential more feature engineering\n",
    "\n",
    "# df_new['daily'] = df_new.daily_del*df_new.daily_prob\n",
    "# df_new['carrier'] = df_new.carrier_del*df_new.carrier_prob"
   ]
  },
  {
   "cell_type": "code",
   "execution_count": 18,
   "metadata": {},
   "outputs": [],
   "source": [
    "# features = ['daily_del', 'carrier_del', 'city_del', 'tail_del', 'taxi_out_del', 'taxi_in_del', 'daily_prob', 'carrier_prob', 'city_prob', 'hour_prob', 'tail_prob']\n",
    "# features = ['daily_prob', 'carrier_prob', 'city_prob', 'hour_prob', 'tail_prob']\n",
    "\n",
    "features = ['daily_del', 'carrier_del', 'city_del', 'tail_del', 'taxi_out_del', 'taxi_in_del']"
   ]
  },
  {
   "cell_type": "code",
   "execution_count": 19,
   "metadata": {},
   "outputs": [],
   "source": [
    "# potential one-hot encoding of categorical variables\n",
    "\n",
    "# df_new = pd.get_dummies(df_new, columns=['mkt_carrier', 'tail_num', 'origin_city_name'],drop_first=False)"
   ]
  },
  {
   "cell_type": "code",
   "execution_count": 20,
   "metadata": {},
   "outputs": [],
   "source": [
    "X = df_new[features]"
   ]
  },
  {
   "cell_type": "code",
   "execution_count": 21,
   "metadata": {},
   "outputs": [
    {
     "data": {
      "text/plain": [
       "daily_del       0\n",
       "carrier_del     0\n",
       "city_del        0\n",
       "tail_del        0\n",
       "taxi_out_del    0\n",
       "taxi_in_del     0\n",
       "dtype: int64"
      ]
     },
     "execution_count": 21,
     "metadata": {},
     "output_type": "execute_result"
    }
   ],
   "source": [
    "# Check null values- Sometimes here are a few null values for tail- not sure where the bug in the code is\n",
    "# is so just drop them if present\n",
    "\n",
    "X.isnull().sum()\n",
    "X.tail_del.fillna(0, inplace=True)\n",
    "# X.taxi_in_del.fillna(0, inplace=True)\n",
    "X.isnull().sum()"
   ]
  },
  {
   "cell_type": "code",
   "execution_count": 22,
   "metadata": {},
   "outputs": [
    {
     "data": {
      "text/plain": [
       "((57171, 6), (57171,))"
      ]
     },
     "execution_count": 22,
     "metadata": {},
     "output_type": "execute_result"
    }
   ],
   "source": [
    "X.shape, y.shape"
   ]
  },
  {
   "cell_type": "code",
   "execution_count": 23,
   "metadata": {},
   "outputs": [
    {
     "data": {
      "text/html": [
       "<div>\n",
       "<style scoped>\n",
       "    .dataframe tbody tr th:only-of-type {\n",
       "        vertical-align: middle;\n",
       "    }\n",
       "\n",
       "    .dataframe tbody tr th {\n",
       "        vertical-align: top;\n",
       "    }\n",
       "\n",
       "    .dataframe thead th {\n",
       "        text-align: right;\n",
       "    }\n",
       "</style>\n",
       "<table border=\"1\" class=\"dataframe\">\n",
       "  <thead>\n",
       "    <tr style=\"text-align: right;\">\n",
       "      <th></th>\n",
       "      <th>daily_del</th>\n",
       "      <th>carrier_del</th>\n",
       "      <th>city_del</th>\n",
       "      <th>tail_del</th>\n",
       "      <th>taxi_out_del</th>\n",
       "      <th>taxi_in_del</th>\n",
       "    </tr>\n",
       "  </thead>\n",
       "  <tbody>\n",
       "    <tr>\n",
       "      <th>2</th>\n",
       "      <td>14.478215</td>\n",
       "      <td>-3.031137</td>\n",
       "      <td>2.483601</td>\n",
       "      <td>3.769231</td>\n",
       "      <td>17.104167</td>\n",
       "      <td>10.068289</td>\n",
       "    </tr>\n",
       "    <tr>\n",
       "      <th>5</th>\n",
       "      <td>14.478215</td>\n",
       "      <td>-3.031137</td>\n",
       "      <td>3.233966</td>\n",
       "      <td>-1.157895</td>\n",
       "      <td>5.213340</td>\n",
       "      <td>10.068289</td>\n",
       "    </tr>\n",
       "    <tr>\n",
       "      <th>7</th>\n",
       "      <td>14.478215</td>\n",
       "      <td>-3.031137</td>\n",
       "      <td>3.233966</td>\n",
       "      <td>32.133333</td>\n",
       "      <td>10.898827</td>\n",
       "      <td>11.805962</td>\n",
       "    </tr>\n",
       "    <tr>\n",
       "      <th>10</th>\n",
       "      <td>14.478215</td>\n",
       "      <td>-3.031137</td>\n",
       "      <td>-0.903305</td>\n",
       "      <td>0.857143</td>\n",
       "      <td>29.282463</td>\n",
       "      <td>6.263212</td>\n",
       "    </tr>\n",
       "    <tr>\n",
       "      <th>11</th>\n",
       "      <td>14.478215</td>\n",
       "      <td>-3.031137</td>\n",
       "      <td>-0.903305</td>\n",
       "      <td>0.500000</td>\n",
       "      <td>10.898827</td>\n",
       "      <td>6.263212</td>\n",
       "    </tr>\n",
       "  </tbody>\n",
       "</table>\n",
       "</div>"
      ],
      "text/plain": [
       "    daily_del  carrier_del  city_del   tail_del  taxi_out_del  taxi_in_del\n",
       "2   14.478215    -3.031137  2.483601   3.769231     17.104167    10.068289\n",
       "5   14.478215    -3.031137  3.233966  -1.157895      5.213340    10.068289\n",
       "7   14.478215    -3.031137  3.233966  32.133333     10.898827    11.805962\n",
       "10  14.478215    -3.031137 -0.903305   0.857143     29.282463     6.263212\n",
       "11  14.478215    -3.031137 -0.903305   0.500000     10.898827     6.263212"
      ]
     },
     "execution_count": 23,
     "metadata": {},
     "output_type": "execute_result"
    }
   ],
   "source": [
    "X.head()"
   ]
  },
  {
   "cell_type": "code",
   "execution_count": 24,
   "metadata": {},
   "outputs": [],
   "source": [
    "X_train, X_test, y_train, y_test = split_data(X, y, test_size=0.2, random_state=99)"
   ]
  },
  {
   "cell_type": "code",
   "execution_count": 25,
   "metadata": {},
   "outputs": [],
   "source": [
    "# Scale numeric features\n",
    "scaler = MinMaxScaler()\n",
    "col_num = features\n",
    "for col in col_num:\n",
    "    scaled_train = scaler.fit_transform(X_train[col].to_numpy().reshape(-1,1))\n",
    "    X_train[col] = scaled_train\n",
    "\n",
    "for col in col_num:\n",
    "    scaled_test = scaler.transform(X_test[col].to_numpy().reshape(-1,1))\n",
    "    X_test[col] = scaled_test"
   ]
  },
  {
   "cell_type": "code",
   "execution_count": 26,
   "metadata": {},
   "outputs": [
    {
     "name": "stdout",
     "output_type": "stream",
     "text": [
      "Mean Squared Error: 96.0596\n",
      "RSME: 9.8010\n"
     ]
    }
   ],
   "source": [
    "tree, y_pred = random_forest(X_train, X_test, y_train, y_test)"
   ]
  },
  {
   "cell_type": "code",
   "execution_count": 27,
   "metadata": {},
   "outputs": [
    {
     "data": {
      "text/plain": [
       "<seaborn.axisgrid.FacetGrid at 0x7f81491b8cd0>"
      ]
     },
     "execution_count": 27,
     "metadata": {},
     "output_type": "execute_result"
    },
    {
     "data": {
      "image/png": "[encoded data removed]",
      "text/plain": [
       "<Figure size 360x360 with 1 Axes>"
      ]
     },
     "metadata": {
      "needs_background": "light"
     },
     "output_type": "display_data"
    }
   ],
   "source": [
    "sns.displot(y_pred - y_test)"
   ]
  },
  {
   "cell_type": "code",
   "execution_count": 28,
   "metadata": {},
   "outputs": [
    {
     "data": {
      "text/plain": [
       "(21.197106782106776, -2.5419931457431453)"
      ]
     },
     "execution_count": 28,
     "metadata": {},
     "output_type": "execute_result"
    }
   ],
   "source": [
    "max(y_pred), min(y_pred)"
   ]
  },
  {
   "cell_type": "code",
   "execution_count": 29,
   "metadata": {},
   "outputs": [],
   "source": [
    "save.jar(tree, 'random_forest_regressor')"
   ]
  },
  {
   "cell_type": "code",
   "execution_count": null,
   "metadata": {},
   "outputs": [],
   "source": []
  },
  {
   "cell_type": "code",
   "execution_count": 30,
   "metadata": {},
   "outputs": [],
   "source": [
    "from sklearn.linear_model import Ridge\n",
    "from sklearn.linear_model import Lasso"
   ]
  },
  {
   "cell_type": "code",
   "execution_count": 31,
   "metadata": {},
   "outputs": [],
   "source": [
    "X_train, X_test, y_train, y_test = split_data(X, y, test_size=0.2, random_state=99)\n",
    "\n",
    "ridgereg = Ridge(alpha=0.001,normalize=True)\n",
    "ridgereg.fit(X_train, y_train)\n",
    "y_pred = ridgereg.predict(X_test)"
   ]
  },
  {
   "cell_type": "code",
   "execution_count": 32,
   "metadata": {},
   "outputs": [
    {
     "name": "stdout",
     "output_type": "stream",
     "text": [
      "Mean Squared Error: 83.6499\n",
      "RSME: 9.1460\n"
     ]
    }
   ],
   "source": [
    "print('Mean Squared Error: {0:0.4f}'.format(mean_squared_error(y_test, y_pred)))\n",
    "print('RSME: {0:0.4f}'.format(mean_squared_error(y_test, y_pred, squared=False)))"
   ]
  },
  {
   "cell_type": "code",
   "execution_count": 33,
   "metadata": {},
   "outputs": [
    {
     "data": {
      "text/plain": [
       "(24.722123298347206, 2.182996088392135)"
      ]
     },
     "execution_count": 33,
     "metadata": {},
     "output_type": "execute_result"
    }
   ],
   "source": [
    "max(y_pred), min(y_pred)"
   ]
  },
  {
   "cell_type": "code",
   "execution_count": 34,
   "metadata": {},
   "outputs": [
    {
     "data": {
      "text/plain": [
       "<seaborn.axisgrid.FacetGrid at 0x7f80aa0a4d60>"
      ]
     },
     "execution_count": 34,
     "metadata": {},
     "output_type": "execute_result"
    },
    {
     "data": {
      "image/png": "[encoded data removed]",
      "text/plain": [
       "<Figure size 360x360 with 1 Axes>"
      ]
     },
     "metadata": {
      "needs_background": "light"
     },
     "output_type": "display_data"
    }
   ],
   "source": [
    "sns.displot(y_pred - y_test)"
   ]
  },
  {
   "cell_type": "code",
   "execution_count": 35,
   "metadata": {},
   "outputs": [],
   "source": [
    "X_train, X_test, y_train, y_test = split_data(X, y, test_size=0.2, random_state=99)\n",
    "\n",
    "lassoreg = Lasso(alpha=0.0001,normalize=False)\n",
    "lassoreg.fit(X_train, y_train)\n",
    "y_pred = lassoreg.predict(X_test)"
   ]
  },
  {
   "cell_type": "code",
   "execution_count": 36,
   "metadata": {},
   "outputs": [
    {
     "name": "stdout",
     "output_type": "stream",
     "text": [
      "Mean Squared Error: 83.6506\n",
      "RSME: 9.1461\n"
     ]
    }
   ],
   "source": [
    "print('Mean Squared Error: {0:0.4f}'.format(mean_squared_error(y_test, y_pred)))\n",
    "print('RSME: {0:0.4f}'.format(mean_squared_error(y_test, y_pred, squared=False)))"
   ]
  },
  {
   "cell_type": "code",
   "execution_count": 37,
   "metadata": {},
   "outputs": [
    {
     "data": {
      "text/plain": [
       "(24.742797469748393, 2.174675084853113)"
      ]
     },
     "execution_count": 37,
     "metadata": {},
     "output_type": "execute_result"
    }
   ],
   "source": [
    "max(y_pred), min(y_pred)"
   ]
  },
  {
   "cell_type": "code",
   "execution_count": 38,
   "metadata": {},
   "outputs": [
    {
     "data": {
      "text/plain": [
       "<seaborn.axisgrid.FacetGrid at 0x7f80a6b4f940>"
      ]
     },
     "execution_count": 38,
     "metadata": {},
     "output_type": "execute_result"
    },
    {
     "data": {
      "image/png": "[encoded data removed]",
      "text/plain": [
       "<Figure size 360x360 with 1 Axes>"
      ]
     },
     "metadata": {
      "needs_background": "light"
     },
     "output_type": "display_data"
    }
   ],
   "source": [
    "sns.displot(y_pred - y_test)"
   ]
  }
 ],
 "metadata": {
  "kernelspec": {
   "display_name": "the_trees",
   "language": "python",
   "name": "the_trees"
  },
  "language_info": {
   "codemirror_mode": {
    "name": "ipython",
    "version": 3
   },
   "file_extension": ".py",
   "mimetype": "text/x-python",
   "name": "python",
   "nbconvert_exporter": "python",
   "pygments_lexer": "ipython3",
   "version": "3.8.2"
  }
 },
 "nbformat": 4,
 "nbformat_minor": 5
}
