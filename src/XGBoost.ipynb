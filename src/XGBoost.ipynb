{
 "cells": [
  {
   "cell_type": "markdown",
   "id": "e44d7187-33c1-480d-a34e-9c338287135b",
   "metadata": {},
   "source": [
    "# XGBoost"
   ]
  },
  {
   "cell_type": "code",
   "execution_count": 1,
   "id": "ad04ddba-2e63-4141-a73b-aae1150312c0",
   "metadata": {},
   "outputs": [],
   "source": [
    "import pandas as pd\n",
    "import numpy as np\n",
    "import matplotlib.pyplot as plt\n",
    "\n",
    "import xgboost as xgb\n",
    "\n",
    "from sklearn.preprocessing import StandardScaler, MinMaxScaler\n",
    "from sklearn.model_selection import train_test_split\n",
    "from sklearn.metrics import mean_squared_error,\n",
    "\n",
    "# Project level modules\n",
    "import modules.preprocessing_functions as ppf"
   ]
  },
  {
   "cell_type": "code",
   "execution_count": 2,
   "id": "88dd72bf-464b-4a24-9332-e051b043f49e",
   "metadata": {},
   "outputs": [],
   "source": [
    "# Random State\n",
    "rs = 99"
   ]
  },
  {
   "cell_type": "markdown",
   "id": "94768d50-e9d4-4169-9d97-3be998a2cd7d",
   "metadata": {},
   "source": [
    "## Load Data"
   ]
  },
  {
   "cell_type": "code",
   "execution_count": 69,
   "id": "7c878ad2-ce01-4fa3-beac-69d6ca22a3ab",
   "metadata": {},
   "outputs": [],
   "source": [
    "google_drive_path = ('~/Google Drive/My Drive/Lighthouse Labs/'\n",
    "                     + 'Mid-term Project/Data-Jan/')"
   ]
  },
  {
   "cell_type": "code",
   "execution_count": 131,
   "id": "9081317e-472d-46c2-b05d-e054b7662b45",
   "metadata": {},
   "outputs": [],
   "source": [
    "# Use the command line to take a random sample of the input data without\n",
    "# loading the entire file to memory.\n",
    "# On MacOS Monterey gshuf is available by installing coreutils\n",
    "# https://formulae.brew.sh/formula/coreutils\n",
    "\n",
    "# Keep the header\n",
    "!head -n 1 ~/Google\\ Drive/My\\ Drive/Lighthouse\\ Labs/Mid-term\\ Project/Data-Jan/2018-01.csv > ../data/sample.csv\n",
    "# randomly sample rows and append to header\n",
    "!tail -n +2 ~/Google\\ Drive/My\\ Drive/Lighthouse\\ Labs/Mid-term\\ Project/Data-Jan/2018-01.csv | gshuf -n 10000 >> ../data/sample.csv"
   ]
  },
  {
   "cell_type": "code",
   "execution_count": 3,
   "id": "27d45f1d-f310-43ad-96a0-de0928713a98",
   "metadata": {},
   "outputs": [],
   "source": [
    "def load_and_process(csv_path: 'str'):\n",
    "    \"\"\"\n",
    "    Load the csv, process NAN values in the target variable, and\n",
    "    drop irrelevant rows\n",
    "    \n",
    "    Parameters\n",
    "    ----------\n",
    "    csv_path : string\n",
    "    \n",
    "    Returns\n",
    "    -------\n",
    "    df : Pandas Dataframe\n",
    "    \"\"\"\n",
    "    \n",
    "    # Load csv and parse the first column as dates\n",
    "    df = pd.read_csv(csv_path, parse_dates=[0])\n",
    "    \n",
    "    # Set NAN values in the target feature to 0\n",
    "    df = ppf.process_nan_values(\n",
    "        df=df,\n",
    "        features_to_zero=['arr_delay']\n",
    "    )\n",
    "    \n",
    "    # Drop flight rows that were cancelled or diverted\n",
    "    df = df[\n",
    "        (df['cancelled'] == 0) &\n",
    "        (df['diverted'] == 0)\n",
    "    ]\n",
    "    \n",
    "    return df"
   ]
  },
  {
   "cell_type": "code",
   "execution_count": 4,
   "id": "5e16c73b-2890-418b-93d0-9001379c4f50",
   "metadata": {},
   "outputs": [],
   "source": [
    "file_name = 'sample'\n",
    "path = f'../data/{file_name}.csv'"
   ]
  },
  {
   "cell_type": "code",
   "execution_count": 5,
   "id": "53f07d02-547b-4b7e-9dad-cc7b1983386a",
   "metadata": {},
   "outputs": [],
   "source": [
    "data = load_and_process(csv_path=path)"
   ]
  },
  {
   "cell_type": "markdown",
   "id": "2a948d1d-5d7d-48f4-bd19-c11d2fa7041e",
   "metadata": {
    "tags": []
   },
   "source": [
    "## Data Split"
   ]
  },
  {
   "cell_type": "code",
   "execution_count": 6,
   "id": "da9358eb-346b-441a-be19-f4e9b5d0b511",
   "metadata": {},
   "outputs": [],
   "source": [
    "# Predictor features set\n",
    "X = ppf.flight_test_features(data, purged=True)\n",
    "# Target variable\n",
    "y = data['arr_delay']"
   ]
  },
  {
   "cell_type": "code",
   "execution_count": 7,
   "id": "7826995d-2964-4795-9641-b3cb074f5bd8",
   "metadata": {},
   "outputs": [
    {
     "data": {
      "text/plain": [
       "((9982, 10), (9982,))"
      ]
     },
     "execution_count": 7,
     "metadata": {},
     "output_type": "execute_result"
    }
   ],
   "source": [
    "X.shape, y.shape"
   ]
  },
  {
   "cell_type": "markdown",
   "id": "66dbb6ee-aa0d-4441-9aad-9b0f3b6ed8ff",
   "metadata": {},
   "source": [
    "## Preprocessing"
   ]
  },
  {
   "cell_type": "code",
   "execution_count": null,
   "id": "880b55c4-c6c0-40fc-b5aa-8f7b44a7ec61",
   "metadata": {},
   "outputs": [],
   "source": [
    "# NA replacement\n",
    "# Split X into categorical and numeric features\n",
    "# For numeric\n",
    "# Scale and transform\n",
    "# For categorical\n",
    "# One hot encode/dummy"
   ]
  },
  {
   "cell_type": "markdown",
   "id": "59b04ae2-6c09-4be4-b3fb-5db76fcbdc4d",
   "metadata": {},
   "source": [
    "### Categorical"
   ]
  },
  {
   "cell_type": "code",
   "execution_count": 8,
   "id": "9360a6c9-36ba-446d-979c-ebc1f6305d7d",
   "metadata": {},
   "outputs": [],
   "source": [
    "X_numerical, X_categorical = ppf.numerical_categorical_split(df=X)"
   ]
  },
  {
   "cell_type": "markdown",
   "id": "ab8479ee-0b06-435d-9cc5-e9e05e296023",
   "metadata": {
    "tags": []
   },
   "source": [
    "#### One hot encoding\n",
    "Doing One hot encoding before the train test split is based on the Machine Learning Mastery tutorial [Data Preparation for Gradient Boosting with XGBoost in Python](https://machinelearningmastery.com/data-preparation-gradient-boosting-xgboost-python/)"
   ]
  },
  {
   "cell_type": "code",
   "execution_count": 9,
   "id": "d1bd781c-353d-4ad8-b585-4980bb367de5",
   "metadata": {},
   "outputs": [
    {
     "data": {
      "text/html": [
       "<div>\n",
       "<style scoped>\n",
       "    .dataframe tbody tr th:only-of-type {\n",
       "        vertical-align: middle;\n",
       "    }\n",
       "\n",
       "    .dataframe tbody tr th {\n",
       "        vertical-align: top;\n",
       "    }\n",
       "\n",
       "    .dataframe thead th {\n",
       "        text-align: right;\n",
       "    }\n",
       "</style>\n",
       "<table border=\"1\" class=\"dataframe\">\n",
       "  <thead>\n",
       "    <tr style=\"text-align: right;\">\n",
       "      <th></th>\n",
       "      <th>fl_date</th>\n",
       "      <th>op_unique_carrier_9K</th>\n",
       "      <th>op_unique_carrier_AA</th>\n",
       "      <th>op_unique_carrier_AS</th>\n",
       "      <th>op_unique_carrier_AX</th>\n",
       "      <th>op_unique_carrier_B6</th>\n",
       "      <th>op_unique_carrier_C5</th>\n",
       "      <th>op_unique_carrier_CP</th>\n",
       "      <th>op_unique_carrier_DL</th>\n",
       "      <th>op_unique_carrier_EV</th>\n",
       "      <th>...</th>\n",
       "      <th>dest_city_name_West Palm Beach/Palm Beach, FL</th>\n",
       "      <th>dest_city_name_White Plains, NY</th>\n",
       "      <th>dest_city_name_Wichita Falls, TX</th>\n",
       "      <th>dest_city_name_Wichita, KS</th>\n",
       "      <th>dest_city_name_Williamsport, PA</th>\n",
       "      <th>dest_city_name_Williston, ND</th>\n",
       "      <th>dest_city_name_Wilmington, NC</th>\n",
       "      <th>dest_city_name_Worcester, MA</th>\n",
       "      <th>dest_city_name_Yakima, WA</th>\n",
       "      <th>dest_city_name_Yuma, AZ</th>\n",
       "    </tr>\n",
       "  </thead>\n",
       "  <tbody>\n",
       "    <tr>\n",
       "      <th>0</th>\n",
       "      <td>2018-01-04</td>\n",
       "      <td>0</td>\n",
       "      <td>0</td>\n",
       "      <td>0</td>\n",
       "      <td>0</td>\n",
       "      <td>0</td>\n",
       "      <td>0</td>\n",
       "      <td>0</td>\n",
       "      <td>0</td>\n",
       "      <td>0</td>\n",
       "      <td>...</td>\n",
       "      <td>0</td>\n",
       "      <td>0</td>\n",
       "      <td>0</td>\n",
       "      <td>0</td>\n",
       "      <td>0</td>\n",
       "      <td>0</td>\n",
       "      <td>0</td>\n",
       "      <td>0</td>\n",
       "      <td>0</td>\n",
       "      <td>0</td>\n",
       "    </tr>\n",
       "    <tr>\n",
       "      <th>1</th>\n",
       "      <td>2018-01-23</td>\n",
       "      <td>0</td>\n",
       "      <td>0</td>\n",
       "      <td>0</td>\n",
       "      <td>0</td>\n",
       "      <td>0</td>\n",
       "      <td>0</td>\n",
       "      <td>0</td>\n",
       "      <td>0</td>\n",
       "      <td>0</td>\n",
       "      <td>...</td>\n",
       "      <td>0</td>\n",
       "      <td>0</td>\n",
       "      <td>0</td>\n",
       "      <td>0</td>\n",
       "      <td>0</td>\n",
       "      <td>0</td>\n",
       "      <td>0</td>\n",
       "      <td>0</td>\n",
       "      <td>0</td>\n",
       "      <td>0</td>\n",
       "    </tr>\n",
       "  </tbody>\n",
       "</table>\n",
       "<p>2 rows × 5582 columns</p>\n",
       "</div>"
      ],
      "text/plain": [
       "     fl_date  op_unique_carrier_9K  op_unique_carrier_AA  \\\n",
       "0 2018-01-04                     0                     0   \n",
       "1 2018-01-23                     0                     0   \n",
       "\n",
       "   op_unique_carrier_AS  op_unique_carrier_AX  op_unique_carrier_B6  \\\n",
       "0                     0                     0                     0   \n",
       "1                     0                     0                     0   \n",
       "\n",
       "   op_unique_carrier_C5  op_unique_carrier_CP  op_unique_carrier_DL  \\\n",
       "0                     0                     0                     0   \n",
       "1                     0                     0                     0   \n",
       "\n",
       "   op_unique_carrier_EV  ...  dest_city_name_West Palm Beach/Palm Beach, FL  \\\n",
       "0                     0  ...                                              0   \n",
       "1                     0  ...                                              0   \n",
       "\n",
       "   dest_city_name_White Plains, NY  dest_city_name_Wichita Falls, TX  \\\n",
       "0                                0                                 0   \n",
       "1                                0                                 0   \n",
       "\n",
       "   dest_city_name_Wichita, KS  dest_city_name_Williamsport, PA  \\\n",
       "0                           0                                0   \n",
       "1                           0                                0   \n",
       "\n",
       "   dest_city_name_Williston, ND  dest_city_name_Wilmington, NC  \\\n",
       "0                             0                              0   \n",
       "1                             0                              0   \n",
       "\n",
       "   dest_city_name_Worcester, MA  dest_city_name_Yakima, WA  \\\n",
       "0                             0                          0   \n",
       "1                             0                          0   \n",
       "\n",
       "   dest_city_name_Yuma, AZ  \n",
       "0                        0  \n",
       "1                        0  \n",
       "\n",
       "[2 rows x 5582 columns]"
      ]
     },
     "execution_count": 9,
     "metadata": {},
     "output_type": "execute_result"
    }
   ],
   "source": [
    "# One hot encoding\n",
    "X_cat_one_hot = pd.get_dummies(\n",
    "    X_categorical,\n",
    "    prefix=X_categorical.columns[1:],\n",
    "    # will fl_date be encoded if there was more than one date?\n",
    "    drop_first=True\n",
    ")\n",
    "X_cat_one_hot.head(2)"
   ]
  },
  {
   "cell_type": "code",
   "execution_count": 10,
   "id": "0fd0e84f-4376-4a58-bdf8-2bf962f5973f",
   "metadata": {},
   "outputs": [
    {
     "data": {
      "text/html": [
       "<div>\n",
       "<style scoped>\n",
       "    .dataframe tbody tr th:only-of-type {\n",
       "        vertical-align: middle;\n",
       "    }\n",
       "\n",
       "    .dataframe tbody tr th {\n",
       "        vertical-align: top;\n",
       "    }\n",
       "\n",
       "    .dataframe thead th {\n",
       "        text-align: right;\n",
       "    }\n",
       "</style>\n",
       "<table border=\"1\" class=\"dataframe\">\n",
       "  <thead>\n",
       "    <tr style=\"text-align: right;\">\n",
       "      <th></th>\n",
       "      <th>fl_date</th>\n",
       "      <th>op_unique_carrier_9K</th>\n",
       "      <th>op_unique_carrier_AA</th>\n",
       "      <th>op_unique_carrier_AS</th>\n",
       "      <th>op_unique_carrier_AX</th>\n",
       "      <th>op_unique_carrier_B6</th>\n",
       "      <th>op_unique_carrier_C5</th>\n",
       "      <th>op_unique_carrier_CP</th>\n",
       "      <th>op_unique_carrier_DL</th>\n",
       "      <th>op_unique_carrier_EV</th>\n",
       "      <th>...</th>\n",
       "      <th>dest_city_name_Wichita, KS</th>\n",
       "      <th>dest_city_name_Williamsport, PA</th>\n",
       "      <th>dest_city_name_Williston, ND</th>\n",
       "      <th>dest_city_name_Wilmington, NC</th>\n",
       "      <th>dest_city_name_Worcester, MA</th>\n",
       "      <th>dest_city_name_Yakima, WA</th>\n",
       "      <th>dest_city_name_Yuma, AZ</th>\n",
       "      <th>crs_dep_time</th>\n",
       "      <th>crs_arr_time</th>\n",
       "      <th>distance</th>\n",
       "    </tr>\n",
       "  </thead>\n",
       "  <tbody>\n",
       "    <tr>\n",
       "      <th>0</th>\n",
       "      <td>2018-01-04</td>\n",
       "      <td>0</td>\n",
       "      <td>0</td>\n",
       "      <td>0</td>\n",
       "      <td>0</td>\n",
       "      <td>0</td>\n",
       "      <td>0</td>\n",
       "      <td>0</td>\n",
       "      <td>0</td>\n",
       "      <td>0</td>\n",
       "      <td>...</td>\n",
       "      <td>0</td>\n",
       "      <td>0</td>\n",
       "      <td>0</td>\n",
       "      <td>0</td>\n",
       "      <td>0</td>\n",
       "      <td>0</td>\n",
       "      <td>0</td>\n",
       "      <td>845</td>\n",
       "      <td>1125</td>\n",
       "      <td>1790</td>\n",
       "    </tr>\n",
       "    <tr>\n",
       "      <th>1</th>\n",
       "      <td>2018-01-23</td>\n",
       "      <td>0</td>\n",
       "      <td>0</td>\n",
       "      <td>0</td>\n",
       "      <td>0</td>\n",
       "      <td>0</td>\n",
       "      <td>0</td>\n",
       "      <td>0</td>\n",
       "      <td>0</td>\n",
       "      <td>0</td>\n",
       "      <td>...</td>\n",
       "      <td>0</td>\n",
       "      <td>0</td>\n",
       "      <td>0</td>\n",
       "      <td>0</td>\n",
       "      <td>0</td>\n",
       "      <td>0</td>\n",
       "      <td>0</td>\n",
       "      <td>1334</td>\n",
       "      <td>1655</td>\n",
       "      <td>875</td>\n",
       "    </tr>\n",
       "  </tbody>\n",
       "</table>\n",
       "<p>2 rows × 5585 columns</p>\n",
       "</div>"
      ],
      "text/plain": [
       "     fl_date  op_unique_carrier_9K  op_unique_carrier_AA  \\\n",
       "0 2018-01-04                     0                     0   \n",
       "1 2018-01-23                     0                     0   \n",
       "\n",
       "   op_unique_carrier_AS  op_unique_carrier_AX  op_unique_carrier_B6  \\\n",
       "0                     0                     0                     0   \n",
       "1                     0                     0                     0   \n",
       "\n",
       "   op_unique_carrier_C5  op_unique_carrier_CP  op_unique_carrier_DL  \\\n",
       "0                     0                     0                     0   \n",
       "1                     0                     0                     0   \n",
       "\n",
       "   op_unique_carrier_EV  ...  dest_city_name_Wichita, KS  \\\n",
       "0                     0  ...                           0   \n",
       "1                     0  ...                           0   \n",
       "\n",
       "   dest_city_name_Williamsport, PA  dest_city_name_Williston, ND  \\\n",
       "0                                0                             0   \n",
       "1                                0                             0   \n",
       "\n",
       "   dest_city_name_Wilmington, NC  dest_city_name_Worcester, MA  \\\n",
       "0                              0                             0   \n",
       "1                              0                             0   \n",
       "\n",
       "   dest_city_name_Yakima, WA  dest_city_name_Yuma, AZ  crs_dep_time  \\\n",
       "0                          0                        0           845   \n",
       "1                          0                        0          1334   \n",
       "\n",
       "   crs_arr_time  distance  \n",
       "0          1125      1790  \n",
       "1          1655       875  \n",
       "\n",
       "[2 rows x 5585 columns]"
      ]
     },
     "execution_count": 10,
     "metadata": {},
     "output_type": "execute_result"
    }
   ],
   "source": [
    "# Reconstitue original data table with one hot encoded features\n",
    "X_one_hot = pd.concat([X_cat_one_hot, X_numerical], axis=1)\n",
    "X_one_hot.head(2)"
   ]
  },
  {
   "cell_type": "markdown",
   "id": "ad6f9ee6-41aa-4b8a-8105-64f0e0f23fb7",
   "metadata": {},
   "source": [
    "### Train Test Split"
   ]
  },
  {
   "cell_type": "code",
   "execution_count": 11,
   "id": "a68779ed-9132-4692-98bf-b574c13417ec",
   "metadata": {},
   "outputs": [],
   "source": [
    "X_train, X_test, y_train, y_test = train_test_split(\n",
    "    X_one_hot, y,\n",
    "    train_size=0.8,\n",
    "    test_size=0.2,\n",
    "    random_state=rs\n",
    ")"
   ]
  },
  {
   "cell_type": "code",
   "execution_count": 12,
   "id": "0235c886-21f5-4ac2-b44c-986baf666f79",
   "metadata": {},
   "outputs": [],
   "source": [
    "X_train.reset_index(drop=True, inplace=True)\n",
    "X_test.reset_index(drop=True, inplace=True)\n",
    "\n",
    "y_train.reset_index(drop=True, inplace=True)\n",
    "y_test.reset_index(drop=True, inplace=True)"
   ]
  },
  {
   "cell_type": "markdown",
   "id": "4c8c292e-ef84-4fe7-9c10-28eb03d825fa",
   "metadata": {},
   "source": [
    "### Numerical"
   ]
  },
  {
   "cell_type": "code",
   "execution_count": 13,
   "id": "141ddd64-039b-4738-8a85-950812ac8176",
   "metadata": {},
   "outputs": [],
   "source": [
    "# Separate numeric and categorical features\n",
    "\n",
    "numeric_features = X_numerical.columns.to_list() + ['fl_date']\n",
    "\n",
    "X_train_num = X_train[numeric_features].copy()\n",
    "X_train_cat = X_train.drop(numeric_features, axis=1)  # One hot encoded\n",
    "\n",
    "X_test_num = X_test[numeric_features].copy()\n",
    "X_test_cat = X_test.drop(numeric_features, axis=1)  # One hot encoded"
   ]
  },
  {
   "cell_type": "code",
   "execution_count": 14,
   "id": "836053ea-b088-4651-8946-1f6d3fa512b8",
   "metadata": {},
   "outputs": [],
   "source": [
    "X_train_num.loc[:, 'fl_date'] = X_train_num['fl_date'].view(int) / 1e11\n",
    "X_test_num.loc[:, 'fl_date'] = X_test_num['fl_date'].view(int) / 1e11"
   ]
  },
  {
   "cell_type": "code",
   "execution_count": 15,
   "id": "78488fdd-21f1-488c-82b5-c56f7a2687fe",
   "metadata": {},
   "outputs": [],
   "source": [
    "# Scale numeric features\n",
    "scaler = MinMaxScaler()\n",
    "X_train_num_scaled = pd.DataFrame(\n",
    "    scaler.fit_transform(X=X_train_num),\n",
    "    columns=X_train_num.columns\n",
    ")\n",
    "X_test_num_scaled = pd.DataFrame(\n",
    "    scaler.transform(X=X_test_num),\n",
    "    columns=X_test_num.columns\n",
    ")"
   ]
  },
  {
   "cell_type": "code",
   "execution_count": 16,
   "id": "2ea4396c-406c-411e-bf4f-2e29c46533f8",
   "metadata": {},
   "outputs": [],
   "source": [
    "# Reconstitue train and test datasets\n",
    "X_train = pd.concat([X_train_cat, X_train_num_scaled], axis=1)\n",
    "X_test = pd.concat([X_test_cat, X_test_num_scaled], axis=1)"
   ]
  },
  {
   "cell_type": "code",
   "execution_count": 114,
   "id": "686e911b-0b57-4e22-9c5e-f003f15e803c",
   "metadata": {},
   "outputs": [],
   "source": [
    "# Dmatrix : XGBoost optimized data structure\n",
    "DMat_train = xgb.DMatrix(\n",
    "    data=X_train,\n",
    "    label=y_train\n",
    ")\n",
    "DMat_test = xgb.DMatrix(\n",
    "    data=X_test,\n",
    "    label=y_test\n",
    ")"
   ]
  },
  {
   "cell_type": "code",
   "execution_count": null,
   "id": "0544f35b-c3d9-4e5e-b371-2f2c6f3af694",
   "metadata": {},
   "outputs": [],
   "source": []
  },
  {
   "cell_type": "markdown",
   "id": "778f3e71-20cb-4d00-b578-7c06d415fe1e",
   "metadata": {},
   "source": [
    "## Training"
   ]
  },
  {
   "cell_type": "markdown",
   "id": "40882d26-65ee-4068-8efc-0705205cc1e0",
   "metadata": {},
   "source": [
    "### Default"
   ]
  },
  {
   "cell_type": "code",
   "execution_count": 17,
   "id": "30847ecb-ea83-432a-8351-96e71f8f0fc9",
   "metadata": {},
   "outputs": [
    {
     "data": {
      "text/plain": [
       "XGBRegressor(base_score=0.5, booster='gbtree', colsample_bylevel=1,\n",
       "             colsample_bynode=1, colsample_bytree=1, enable_categorical=False,\n",
       "             gamma=0, gpu_id=-1, importance_type=None,\n",
       "             interaction_constraints='', learning_rate=0.300000012,\n",
       "             max_delta_step=0, max_depth=6, min_child_weight=1, missing=nan,\n",
       "             monotone_constraints='()', n_estimators=100, n_jobs=8,\n",
       "             num_parallel_tree=1, predictor='auto', random_state=0, reg_alpha=0,\n",
       "             reg_lambda=1, scale_pos_weight=1, subsample=1, tree_method='exact',\n",
       "             validate_parameters=1, verbosity=None)"
      ]
     },
     "execution_count": 17,
     "metadata": {},
     "output_type": "execute_result"
    }
   ],
   "source": [
    "xg_reg_default = xgb.XGBRegressor()\n",
    "xg_reg_default.fit(X=X_train, y=y_train)"
   ]
  },
  {
   "cell_type": "code",
   "execution_count": 18,
   "id": "1e2dc0e0-40d9-4453-a170-0115fdec91ef",
   "metadata": {},
   "outputs": [],
   "source": [
    "y_pred_default = xg_reg_default.predict(X_test)"
   ]
  },
  {
   "cell_type": "code",
   "execution_count": 20,
   "id": "8c0338b8-3420-4d71-bb3b-8e09a984f64c",
   "metadata": {},
   "outputs": [
    {
     "name": "stdout",
     "output_type": "stream",
     "text": [
      "RMSE: 54.3046192617478\n"
     ]
    }
   ],
   "source": [
    "# Root mean squared error\n",
    "rmse = mean_squared_error(\n",
    "    y_true=y_test,\n",
    "    y_pred=y_pred_default,\n",
    "    squared=False\n",
    ")\n",
    "print(f'RMSE: {rmse}')"
   ]
  },
  {
   "cell_type": "code",
   "execution_count": null,
   "id": "f50aa3c6-b839-469d-8a85-afd4b767e43a",
   "metadata": {},
   "outputs": [],
   "source": [
    "# See documentation for all XGBoost parameters\n",
    "# https://xgboost.readthedocs.io/en/stable/parameter.html\n",
    "\n",
    "parameters = dict(\n",
    "    # General parameters\n",
    "    booster = 'gbtree',  # default gbtree\n",
    "    # Tree Booster Parameters\n",
    "    eta = 0.3,  # learning_rate default 0.3 range [0, 1]\n",
    "    max_depth = 6,  # default 6 typical 1–10\n",
    "    colsample_bytree = 0.3,  # default 1 range (0, 1]\n",
    "    reg_lambda = 1,  # L2 regularization default 1\n",
    "    alpha = 0,  # L1 regularization default 0\n",
    "    # Learning Task Parameters\n",
    "    objective = 'reg:squarederror',  # default reg:squarederror\n",
    "    eval_metric = 'rmse',  # regression default 'rmse'\n",
    "    seed = rs  # random seed\n",
    ")\n"
   ]
  },
  {
   "cell_type": "code",
   "execution_count": 20,
   "id": "b3657ffd-0719-4225-94d6-68df7213ef12",
   "metadata": {},
   "outputs": [],
   "source": [
    "# SKlearn wrapper\n",
    "xg_reg = xgb.XGBRegressor(\n",
    "    objective='reg:linear',\n",
    "    colsample_bytree = 0.3,\n",
    "    learning_rate = 0.1,\n",
    "    max_depth = 5,\n",
    "    alpha = 10,\n",
    "    n_estimators = 10\n",
    ")"
   ]
  },
  {
   "cell_type": "code",
   "execution_count": null,
   "id": "62cd6fda-df97-4139-8760-f7b5256bcc16",
   "metadata": {},
   "outputs": [],
   "source": [
    "xg_reg.fit(X_train, y_train)"
   ]
  },
  {
   "cell_type": "markdown",
   "id": "74c8f353-6084-4dbc-b5ef-cbd461bdb621",
   "metadata": {},
   "source": [
    "## Predicting "
   ]
  },
  {
   "cell_type": "code",
   "execution_count": null,
   "id": "aafcfd42-82e2-4803-97ca-1e9e6b807e08",
   "metadata": {},
   "outputs": [],
   "source": [
    "y_pred = xg_reg.predict(X_test)"
   ]
  },
  {
   "cell_type": "markdown",
   "id": "53c563f1-bd68-4c2f-820e-c6ea5d1876b3",
   "metadata": {},
   "source": [
    "## Model Evaluation"
   ]
  },
  {
   "cell_type": "code",
   "execution_count": null,
   "id": "d9c09b24-7e23-4165-8e24-475b05137bd6",
   "metadata": {},
   "outputs": [],
   "source": [
    "# Root mean squared error\n",
    "rmse = np.sqrt(mean_squared_error(y_true=y_test,\n",
    "                                  y_pred=y_pred))\n",
    "print(f'RMSE: {rmse}')"
   ]
  },
  {
   "cell_type": "code",
   "execution_count": null,
   "id": "d4f35fb8-647d-45e2-ab26-a7cab9ca05f0",
   "metadata": {},
   "outputs": [],
   "source": []
  },
  {
   "cell_type": "markdown",
   "id": "fd4e16f4-cf5d-4418-8c4b-580d216258f5",
   "metadata": {},
   "source": [
    "## Cross validation"
   ]
  },
  {
   "cell_type": "code",
   "execution_count": null,
   "id": "c337bac9-3525-4149-a072-056b66903be0",
   "metadata": {},
   "outputs": [],
   "source": [
    "params = {\"objective\":\"reg:linear\",\n",
    "          'colsample_bytree': 0.3,\n",
    "          'learning_rate': 0.1,\n",
    "          'max_depth': 5,\n",
    "          'alpha': 10}\n",
    "\n",
    "cv_results = xgb.cv(\n",
    "    dtrain=data_dmatrix,\n",
    "    params=params,\n",
    "    nfold=3,\n",
    "    num_boost_round=50,\n",
    "    early_stopping_rounds=10,\n",
    "    metrics=\"rmse\",\n",
    "    as_pandas=True,\n",
    "    seed=123\n",
    ")"
   ]
  },
  {
   "cell_type": "markdown",
   "id": "7c1ed2dc-480a-4100-b90e-3f807ae69967",
   "metadata": {},
   "source": [
    "## Visualize"
   ]
  },
  {
   "cell_type": "code",
   "execution_count": null,
   "id": "be268903-320a-449d-935f-eca1370c33e8",
   "metadata": {},
   "outputs": [],
   "source": [
    "xg_reg = xgb.train(\n",
    "    params=params,\n",
    "    dtrain=data_dmatrix,\n",
    "    num_boost_round=10\n",
    ")"
   ]
  },
  {
   "cell_type": "code",
   "execution_count": null,
   "id": "b02031ff-2e3f-4e05-8d0b-47ce39682329",
   "metadata": {},
   "outputs": [],
   "source": [
    "fig, ax = plt.subplots(figsize=[50, 10])\n",
    "ax = xgb.plot_tree(booster=xg_reg, num_trees=0)\n",
    "plt.show()"
   ]
  },
  {
   "cell_type": "code",
   "execution_count": null,
   "id": "d704c82b-339f-40dd-8328-be544caf16a4",
   "metadata": {},
   "outputs": [],
   "source": [
    "# Feature Importance\n",
    "fig, ax = plt.subplots(figsize=[5, 5])\n",
    "ax = xgb.plot_importance(xg_reg)\n",
    "plt.show()"
   ]
  },
  {
   "cell_type": "code",
   "execution_count": null,
   "id": "774301b2-9625-4531-bb05-652b5025f8f9",
   "metadata": {},
   "outputs": [],
   "source": []
  },
  {
   "cell_type": "code",
   "execution_count": null,
   "id": "f95cad73-16f3-412a-9dd4-8a0f29a6b359",
   "metadata": {},
   "outputs": [],
   "source": []
  }
 ],
 "metadata": {
  "kernelspec": {
   "display_name": "Python 3 (ipykernel)",
   "language": "python",
   "name": "python3"
  },
  "language_info": {
   "codemirror_mode": {
    "name": "ipython",
    "version": 3
   },
   "file_extension": ".py",
   "mimetype": "text/x-python",
   "name": "python",
   "nbconvert_exporter": "python",
   "pygments_lexer": "ipython3",
   "version": "3.10.0"
  }
 },
 "nbformat": 4,
 "nbformat_minor": 5
}
