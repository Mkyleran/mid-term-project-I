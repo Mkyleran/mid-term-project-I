{
 "cells": [
  {
   "cell_type": "markdown",
   "id": "5c93a0f6-8097-48ed-8fdc-5c3d5fe460b4",
   "metadata": {},
   "source": [
    "# Connect to the mid-term PostgreSQL database"
   ]
  },
  {
   "cell_type": "code",
   "execution_count": 1,
   "id": "b683bafd-2f5f-491f-b7fe-205324e10465",
   "metadata": {},
   "outputs": [],
   "source": [
    "import psycopg2  # PostgreSQL database adapter"
   ]
  },
  {
   "cell_type": "markdown",
   "id": "854c275b-a4a0-445f-adad-1462635302e0",
   "metadata": {},
   "source": [
    "[psycopg2 documentation](https://www.psycopg.org/docs/)"
   ]
  },
  {
   "cell_type": "markdown",
   "id": "1f5fac88-e949-4eed-a735-84120b2c2d0b",
   "metadata": {},
   "source": [
    "Use database credentials from [Compass](https://data.compass.lighthouselabs.ca/days/w05d5/activities/823)"
   ]
  },
  {
   "cell_type": "code",
   "execution_count": 2,
   "id": "ffd21296-1eb9-4b17-8c20-a69d49f4850f",
   "metadata": {},
   "outputs": [],
   "source": [
    "# These credentials should probably not be pushed.\n",
    "con = psycopg2.connect(\n",
    "    database='',\n",
    "    user='',\n",
    "    password='',\n",
    "    host='',\n",
    "    port='5432'\n",
    ")"
   ]
  },
  {
   "cell_type": "code",
   "execution_count": 3,
   "id": "47532fbc-6d4e-4eda-8fd0-326864a1be69",
   "metadata": {},
   "outputs": [],
   "source": [
    "cur = con.cursor()"
   ]
  },
  {
   "cell_type": "code",
   "execution_count": 5,
   "id": "06b154db-d6ca-4975-932e-501d1dddc4c1",
   "metadata": {},
   "outputs": [],
   "source": [
    "SQL = '''\n",
    "SELECT \n",
    "FROM\n",
    "WHERE\n",
    "GROUP BY\n",
    "ORDER BY\n",
    "LIMIT;\n",
    "'''"
   ]
  },
  {
   "cell_type": "code",
   "execution_count": null,
   "id": "9dac7dcb-0826-46bb-9954-113aa0c03c75",
   "metadata": {},
   "outputs": [],
   "source": [
    "cur.execute(SQL)\n",
    "rows = cur.fetchall()"
   ]
  },
  {
   "cell_type": "markdown",
   "id": "7b97735d-db91-46cc-b6b7-362465a19013",
   "metadata": {},
   "source": [
    "# Save to CSV\n",
    "\n",
    "Adapted from [ObjectRocket](https://kb.objectrocket.com/postgresql/from-postgres-to-csv-with-python-910)"
   ]
  },
  {
   "cell_type": "code",
   "execution_count": null,
   "id": "65407ead-0d37-4468-9105-d144e309ee96",
   "metadata": {},
   "outputs": [],
   "source": [
    "S = '''\n",
    "SELECT \n",
    "FROM\n",
    "WHERE\n",
    "GROUP BY\n",
    "ORDER BY\n",
    "LIMIT\n",
    "'''  # no semi-colon as per PostgreSQL documentation"
   ]
  },
  {
   "cell_type": "code",
   "execution_count": 6,
   "id": "0d4211fd-dd11-4bfb-8e6c-237e43485fe6",
   "metadata": {},
   "outputs": [],
   "source": [
    "SQL_for_file_output = f'COPY ({S}) TO STDOUT WITH CSV HEADER'"
   ]
  },
  {
   "cell_type": "code",
   "execution_count": null,
   "id": "f871c86f-76b5-4a68-a821-a868d3d0665b",
   "metadata": {},
   "outputs": [],
   "source": [
    "with open('filename.csv', 'w') as f_output:\n",
    "    cur.copy_expert(SQL_for_file_output, f_output)"
   ]
  },
  {
   "cell_type": "markdown",
   "id": "04ba4117-5af6-4ff3-96d6-875553c568ab",
   "metadata": {},
   "source": [
    "# Close database cursor and connection"
   ]
  },
  {
   "cell_type": "code",
   "execution_count": 7,
   "id": "969aec8a-7c30-463c-8e33-0f8f08d737bc",
   "metadata": {},
   "outputs": [],
   "source": [
    "cur.close()\n",
    "con.close()"
   ]
  },
  {
   "cell_type": "code",
   "execution_count": null,
   "id": "5d2a1bfc-9027-4ffb-bc2f-8da7eeb3fe01",
   "metadata": {},
   "outputs": [],
   "source": []
  }
 ],
 "metadata": {
  "kernelspec": {
   "display_name": "Python 3 (ipykernel)",
   "language": "python",
   "name": "python3"
  },
  "language_info": {
   "codemirror_mode": {
    "name": "ipython",
    "version": 3
   },
   "file_extension": ".py",
   "mimetype": "text/x-python",
   "name": "python",
   "nbconvert_exporter": "python",
   "pygments_lexer": "ipython3",
   "version": "3.10.0"
  }
 },
 "nbformat": 4,
 "nbformat_minor": 5
}
