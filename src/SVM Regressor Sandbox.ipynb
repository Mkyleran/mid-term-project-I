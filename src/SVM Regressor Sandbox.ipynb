{
 "cells": [
  {
   "cell_type": "code",
   "execution_count": 106,
   "id": "7dd5220b-6fa9-48b0-81a9-e998d2acdcdc",
   "metadata": {},
   "outputs": [],
   "source": [
    "import pandas as pd\n",
    "import numpy as np\n",
    "import scipy.stats as stats\n",
    "import sys\n",
    "import sklearn.preprocessing as pp\n",
    "import sklearn.decomposition\n",
    "import sklearn.metrics\n",
    "import sklearn.svm\n",
    "import sklearn.model_selection"
   ]
  },
  {
   "cell_type": "code",
   "execution_count": 47,
   "id": "2b2c10bd-ebd6-4588-a3ce-b742a16efd59",
   "metadata": {},
   "outputs": [],
   "source": [
    "sys.path.append('C:\\\\Users\\\\dfeld\\\\Documents\\\\Data Sci Course\\\\Course Work\\\\W06 Midterm Project\\\\src\\\\modules\\\\')"
   ]
  },
  {
   "cell_type": "code",
   "execution_count": 48,
   "id": "1add5a28-680f-44c8-8b5e-ec0b81f74577",
   "metadata": {},
   "outputs": [],
   "source": [
    "import preprocessing_functions"
   ]
  },
  {
   "cell_type": "code",
   "execution_count": 138,
   "id": "af4ad849-5665-442b-b5b7-57a88058c545",
   "metadata": {},
   "outputs": [],
   "source": [
    "data = pd.read_csv('2019-01 flight data.csv')"
   ]
  },
  {
   "cell_type": "code",
   "execution_count": 50,
   "id": "a26e5d94-da19-4b74-a1ba-1165d801c4ea",
   "metadata": {},
   "outputs": [
    {
     "data": {
      "text/plain": [
       "(638649, 42)"
      ]
     },
     "execution_count": 50,
     "metadata": {},
     "output_type": "execute_result"
    }
   ],
   "source": [
    "data.shape"
   ]
  },
  {
   "cell_type": "code",
   "execution_count": 139,
   "id": "e0a030a4-290c-42a6-8ed3-a9bfb7135bb3",
   "metadata": {},
   "outputs": [],
   "source": [
    "data = data[data['fl_date'] <= '2019-01-07']"
   ]
  },
  {
   "cell_type": "code",
   "execution_count": 52,
   "id": "8e568edf-5976-4dd4-987c-773b15e9d562",
   "metadata": {},
   "outputs": [],
   "source": [
    "# data = data.iloc[0:1000]"
   ]
  },
  {
   "cell_type": "code",
   "execution_count": 140,
   "id": "0a843aa3-08ef-459e-a823-ac8ea16243c9",
   "metadata": {},
   "outputs": [],
   "source": [
    "y = data['arr_delay']"
   ]
  },
  {
   "cell_type": "code",
   "execution_count": 141,
   "id": "91dd8750-e20d-4aac-905f-71ae00877739",
   "metadata": {},
   "outputs": [],
   "source": [
    "data = preprocessing_functions.flight_test_features(data, True)"
   ]
  },
  {
   "cell_type": "code",
   "execution_count": 142,
   "id": "c5269f84-0a04-47fe-b319-37aa6ece14de",
   "metadata": {},
   "outputs": [],
   "source": [
    "data['arr_delay'] = y"
   ]
  },
  {
   "cell_type": "code",
   "execution_count": 56,
   "id": "df2db558-ff1b-4ff2-baed-299c734649ff",
   "metadata": {},
   "outputs": [],
   "source": [
    "import timeit"
   ]
  },
  {
   "cell_type": "code",
   "execution_count": 143,
   "id": "24173589-9919-46e3-9d45-1d0d810f3bff",
   "metadata": {},
   "outputs": [
    {
     "name": "stdout",
     "output_type": "stream",
     "text": [
      "-0.004926400011754595\n"
     ]
    }
   ],
   "source": [
    "start = timeit.timeit()\n",
    "data = preprocessing_functions.datetime_binning(data, {'h', 'wd', 'w'})\n",
    "end = timeit.timeit()\n",
    "print(end - start)"
   ]
  },
  {
   "cell_type": "code",
   "execution_count": 58,
   "id": "050cb8fb-d5e9-489f-bea0-1a03c09f11f8",
   "metadata": {},
   "outputs": [],
   "source": [
    "delay_list = data.columns[data.columns.str.endswith('delay')]"
   ]
  },
  {
   "cell_type": "code",
   "execution_count": 144,
   "id": "d5921687-d00e-40be-b6d4-2585895fdcc8",
   "metadata": {},
   "outputs": [],
   "source": [
    "data = preprocessing_functions.process_nan_values(data, features_to_zero=['arr_delay'])"
   ]
  },
  {
   "cell_type": "code",
   "execution_count": 147,
   "id": "6bc91ce7-964f-452e-abc5-cd590dc466b7",
   "metadata": {},
   "outputs": [],
   "source": [
    "data = preprocessing_functions.daily_flight_order(data)"
   ]
  },
  {
   "cell_type": "code",
   "execution_count": 148,
   "id": "bedda4b3-7535-4006-a754-e0812e1be892",
   "metadata": {},
   "outputs": [
    {
     "data": {
      "text/html": [
       "<div>\n",
       "<style scoped>\n",
       "    .dataframe tbody tr th:only-of-type {\n",
       "        vertical-align: middle;\n",
       "    }\n",
       "\n",
       "    .dataframe tbody tr th {\n",
       "        vertical-align: top;\n",
       "    }\n",
       "\n",
       "    .dataframe thead th {\n",
       "        text-align: right;\n",
       "    }\n",
       "</style>\n",
       "<table border=\"1\" class=\"dataframe\">\n",
       "  <thead>\n",
       "    <tr style=\"text-align: right;\">\n",
       "      <th></th>\n",
       "      <th>fl_date</th>\n",
       "      <th>op_unique_carrier</th>\n",
       "      <th>tail_num</th>\n",
       "      <th>origin</th>\n",
       "      <th>origin_city_name</th>\n",
       "      <th>dest</th>\n",
       "      <th>dest_city_name</th>\n",
       "      <th>crs_dep_time</th>\n",
       "      <th>crs_arr_time</th>\n",
       "      <th>distance</th>\n",
       "      <th>arr_delay</th>\n",
       "      <th>dep_hour</th>\n",
       "      <th>weekday</th>\n",
       "      <th>week</th>\n",
       "      <th>n_previous_flights</th>\n",
       "    </tr>\n",
       "  </thead>\n",
       "  <tbody>\n",
       "    <tr>\n",
       "      <th>0</th>\n",
       "      <td>2019-01-01</td>\n",
       "      <td>G4</td>\n",
       "      <td>215NV</td>\n",
       "      <td>PGD</td>\n",
       "      <td>Punta Gorda, FL</td>\n",
       "      <td>RFD</td>\n",
       "      <td>Rockford, IL</td>\n",
       "      <td>810</td>\n",
       "      <td>956</td>\n",
       "      <td>1127</td>\n",
       "      <td>33.0</td>\n",
       "      <td>8</td>\n",
       "      <td>1.0</td>\n",
       "      <td>1.0</td>\n",
       "      <td>0</td>\n",
       "    </tr>\n",
       "    <tr>\n",
       "      <th>1</th>\n",
       "      <td>2019-01-01</td>\n",
       "      <td>G4</td>\n",
       "      <td>215NV</td>\n",
       "      <td>RFD</td>\n",
       "      <td>Rockford, IL</td>\n",
       "      <td>PGD</td>\n",
       "      <td>Punta Gorda, FL</td>\n",
       "      <td>1041</td>\n",
       "      <td>1422</td>\n",
       "      <td>1127</td>\n",
       "      <td>61.0</td>\n",
       "      <td>10</td>\n",
       "      <td>1.0</td>\n",
       "      <td>1.0</td>\n",
       "      <td>1</td>\n",
       "    </tr>\n",
       "    <tr>\n",
       "      <th>2</th>\n",
       "      <td>2019-01-01</td>\n",
       "      <td>G4</td>\n",
       "      <td>216NV</td>\n",
       "      <td>PIE</td>\n",
       "      <td>St. Petersburg, FL</td>\n",
       "      <td>TOL</td>\n",
       "      <td>Toledo, OH</td>\n",
       "      <td>823</td>\n",
       "      <td>1046</td>\n",
       "      <td>945</td>\n",
       "      <td>-16.0</td>\n",
       "      <td>8</td>\n",
       "      <td>1.0</td>\n",
       "      <td>1.0</td>\n",
       "      <td>0</td>\n",
       "    </tr>\n",
       "    <tr>\n",
       "      <th>3</th>\n",
       "      <td>2019-01-01</td>\n",
       "      <td>G4</td>\n",
       "      <td>216NV</td>\n",
       "      <td>TOL</td>\n",
       "      <td>Toledo, OH</td>\n",
       "      <td>PIE</td>\n",
       "      <td>St. Petersburg, FL</td>\n",
       "      <td>1131</td>\n",
       "      <td>1353</td>\n",
       "      <td>945</td>\n",
       "      <td>-19.0</td>\n",
       "      <td>11</td>\n",
       "      <td>1.0</td>\n",
       "      <td>1.0</td>\n",
       "      <td>1</td>\n",
       "    </tr>\n",
       "    <tr>\n",
       "      <th>4</th>\n",
       "      <td>2019-01-01</td>\n",
       "      <td>G4</td>\n",
       "      <td>216NV</td>\n",
       "      <td>PIE</td>\n",
       "      <td>St. Petersburg, FL</td>\n",
       "      <td>GRR</td>\n",
       "      <td>Grand Rapids, MI</td>\n",
       "      <td>1443</td>\n",
       "      <td>1720</td>\n",
       "      <td>1044</td>\n",
       "      <td>-25.0</td>\n",
       "      <td>14</td>\n",
       "      <td>1.0</td>\n",
       "      <td>1.0</td>\n",
       "      <td>2</td>\n",
       "    </tr>\n",
       "    <tr>\n",
       "      <th>...</th>\n",
       "      <td>...</td>\n",
       "      <td>...</td>\n",
       "      <td>...</td>\n",
       "      <td>...</td>\n",
       "      <td>...</td>\n",
       "      <td>...</td>\n",
       "      <td>...</td>\n",
       "      <td>...</td>\n",
       "      <td>...</td>\n",
       "      <td>...</td>\n",
       "      <td>...</td>\n",
       "      <td>...</td>\n",
       "      <td>...</td>\n",
       "      <td>...</td>\n",
       "      <td>...</td>\n",
       "    </tr>\n",
       "    <tr>\n",
       "      <th>146480</th>\n",
       "      <td>2019-01-07</td>\n",
       "      <td>AX</td>\n",
       "      <td>NaN</td>\n",
       "      <td>TVC</td>\n",
       "      <td>Traverse City, MI</td>\n",
       "      <td>ORD</td>\n",
       "      <td>Chicago, IL</td>\n",
       "      <td>1140</td>\n",
       "      <td>1205</td>\n",
       "      <td>224</td>\n",
       "      <td>0.0</td>\n",
       "      <td>11</td>\n",
       "      <td>0.0</td>\n",
       "      <td>2.0</td>\n",
       "      <td>0</td>\n",
       "    </tr>\n",
       "    <tr>\n",
       "      <th>146481</th>\n",
       "      <td>2019-01-07</td>\n",
       "      <td>UA</td>\n",
       "      <td>NaN</td>\n",
       "      <td>BNA</td>\n",
       "      <td>Nashville, TN</td>\n",
       "      <td>ORD</td>\n",
       "      <td>Chicago, IL</td>\n",
       "      <td>1215</td>\n",
       "      <td>1402</td>\n",
       "      <td>409</td>\n",
       "      <td>0.0</td>\n",
       "      <td>12</td>\n",
       "      <td>0.0</td>\n",
       "      <td>2.0</td>\n",
       "      <td>0</td>\n",
       "    </tr>\n",
       "    <tr>\n",
       "      <th>146482</th>\n",
       "      <td>2019-01-07</td>\n",
       "      <td>G7</td>\n",
       "      <td>NaN</td>\n",
       "      <td>IND</td>\n",
       "      <td>Indianapolis, IN</td>\n",
       "      <td>DEN</td>\n",
       "      <td>Denver, CO</td>\n",
       "      <td>1255</td>\n",
       "      <td>1357</td>\n",
       "      <td>977</td>\n",
       "      <td>0.0</td>\n",
       "      <td>12</td>\n",
       "      <td>0.0</td>\n",
       "      <td>2.0</td>\n",
       "      <td>0</td>\n",
       "    </tr>\n",
       "    <tr>\n",
       "      <th>146483</th>\n",
       "      <td>2019-01-07</td>\n",
       "      <td>AX</td>\n",
       "      <td>NaN</td>\n",
       "      <td>DEN</td>\n",
       "      <td>Denver, CO</td>\n",
       "      <td>GUC</td>\n",
       "      <td>Gunnison, CO</td>\n",
       "      <td>1510</td>\n",
       "      <td>1622</td>\n",
       "      <td>152</td>\n",
       "      <td>0.0</td>\n",
       "      <td>15</td>\n",
       "      <td>0.0</td>\n",
       "      <td>2.0</td>\n",
       "      <td>0</td>\n",
       "    </tr>\n",
       "    <tr>\n",
       "      <th>146484</th>\n",
       "      <td>2019-01-07</td>\n",
       "      <td>AX</td>\n",
       "      <td>NaN</td>\n",
       "      <td>GUC</td>\n",
       "      <td>Gunnison, CO</td>\n",
       "      <td>DEN</td>\n",
       "      <td>Denver, CO</td>\n",
       "      <td>1655</td>\n",
       "      <td>1758</td>\n",
       "      <td>152</td>\n",
       "      <td>0.0</td>\n",
       "      <td>16</td>\n",
       "      <td>0.0</td>\n",
       "      <td>2.0</td>\n",
       "      <td>0</td>\n",
       "    </tr>\n",
       "  </tbody>\n",
       "</table>\n",
       "<p>146485 rows × 15 columns</p>\n",
       "</div>"
      ],
      "text/plain": [
       "           fl_date op_unique_carrier tail_num origin    origin_city_name dest  \\\n",
       "0       2019-01-01                G4    215NV    PGD     Punta Gorda, FL  RFD   \n",
       "1       2019-01-01                G4    215NV    RFD        Rockford, IL  PGD   \n",
       "2       2019-01-01                G4    216NV    PIE  St. Petersburg, FL  TOL   \n",
       "3       2019-01-01                G4    216NV    TOL          Toledo, OH  PIE   \n",
       "4       2019-01-01                G4    216NV    PIE  St. Petersburg, FL  GRR   \n",
       "...            ...               ...      ...    ...                 ...  ...   \n",
       "146480  2019-01-07                AX      NaN    TVC   Traverse City, MI  ORD   \n",
       "146481  2019-01-07                UA      NaN    BNA       Nashville, TN  ORD   \n",
       "146482  2019-01-07                G7      NaN    IND    Indianapolis, IN  DEN   \n",
       "146483  2019-01-07                AX      NaN    DEN          Denver, CO  GUC   \n",
       "146484  2019-01-07                AX      NaN    GUC        Gunnison, CO  DEN   \n",
       "\n",
       "            dest_city_name  crs_dep_time  crs_arr_time  distance  arr_delay  \\\n",
       "0             Rockford, IL           810           956      1127       33.0   \n",
       "1          Punta Gorda, FL          1041          1422      1127       61.0   \n",
       "2               Toledo, OH           823          1046       945      -16.0   \n",
       "3       St. Petersburg, FL          1131          1353       945      -19.0   \n",
       "4         Grand Rapids, MI          1443          1720      1044      -25.0   \n",
       "...                    ...           ...           ...       ...        ...   \n",
       "146480         Chicago, IL          1140          1205       224        0.0   \n",
       "146481         Chicago, IL          1215          1402       409        0.0   \n",
       "146482          Denver, CO          1255          1357       977        0.0   \n",
       "146483        Gunnison, CO          1510          1622       152        0.0   \n",
       "146484          Denver, CO          1655          1758       152        0.0   \n",
       "\n",
       "        dep_hour  weekday  week  n_previous_flights  \n",
       "0              8      1.0   1.0                   0  \n",
       "1             10      1.0   1.0                   1  \n",
       "2              8      1.0   1.0                   0  \n",
       "3             11      1.0   1.0                   1  \n",
       "4             14      1.0   1.0                   2  \n",
       "...          ...      ...   ...                 ...  \n",
       "146480        11      0.0   2.0                   0  \n",
       "146481        12      0.0   2.0                   0  \n",
       "146482        12      0.0   2.0                   0  \n",
       "146483        15      0.0   2.0                   0  \n",
       "146484        16      0.0   2.0                   0  \n",
       "\n",
       "[146485 rows x 15 columns]"
      ]
     },
     "execution_count": 148,
     "metadata": {},
     "output_type": "execute_result"
    }
   ],
   "source": [
    "data"
   ]
  },
  {
   "cell_type": "code",
   "execution_count": 248,
   "id": "ebef227a-4ae1-4cc6-b68d-4350a641e0fa",
   "metadata": {},
   "outputs": [],
   "source": [
    "airline_stats = data[['op_unique_carrier', 'arr_delay']].groupby('op_unique_carrier').mean()"
   ]
  },
  {
   "cell_type": "code",
   "execution_count": 249,
   "id": "009fd49b-03b8-45bd-9dbc-7b5e038604df",
   "metadata": {},
   "outputs": [],
   "source": [
    "origin_airport_stats = data[['origin', 'arr_delay']].groupby('origin').mean()"
   ]
  },
  {
   "cell_type": "code",
   "execution_count": 250,
   "id": "32d0afba-ad6b-4a26-9b79-e5f9d422272c",
   "metadata": {},
   "outputs": [],
   "source": [
    "dest_airport_stats = data[['dest', 'arr_delay']].groupby('dest').mean()"
   ]
  },
  {
   "cell_type": "code",
   "execution_count": 303,
   "id": "94b02f53-31f0-4d65-a7d8-222124d2113a",
   "metadata": {},
   "outputs": [],
   "source": [
    "airplane_stats = data[['tail_num', 'arr_delay']].groupby('tail_num').mean()"
   ]
  },
  {
   "cell_type": "code",
   "execution_count": 377,
   "id": "6570b059-c2e8-4fde-bab4-7ca7cc3d6606",
   "metadata": {},
   "outputs": [],
   "source": [
    "num, cat = preprocessing_functions.numerical_categorical_split(data)"
   ]
  },
  {
   "cell_type": "code",
   "execution_count": 378,
   "id": "214ca9a5-4a2d-4d3f-ac58-090876b52c38",
   "metadata": {},
   "outputs": [
    {
     "name": "stderr",
     "output_type": "stream",
     "text": [
      "<ipython-input-378-cd7bf3de3cf5>:1: SettingWithCopyWarning: \n",
      "A value is trying to be set on a copy of a slice from a DataFrame.\n",
      "Try using .loc[row_indexer,col_indexer] = value instead\n",
      "\n",
      "See the caveats in the documentation: https://pandas.pydata.org/pandas-docs/stable/user_guide/indexing.html#returning-a-view-versus-a-copy\n",
      "  num['origin'] = cat['origin']\n",
      "<ipython-input-378-cd7bf3de3cf5>:2: SettingWithCopyWarning: \n",
      "A value is trying to be set on a copy of a slice from a DataFrame.\n",
      "Try using .loc[row_indexer,col_indexer] = value instead\n",
      "\n",
      "See the caveats in the documentation: https://pandas.pydata.org/pandas-docs/stable/user_guide/indexing.html#returning-a-view-versus-a-copy\n",
      "  num['dest'] = cat['dest']\n",
      "<ipython-input-378-cd7bf3de3cf5>:3: SettingWithCopyWarning: \n",
      "A value is trying to be set on a copy of a slice from a DataFrame.\n",
      "Try using .loc[row_indexer,col_indexer] = value instead\n",
      "\n",
      "See the caveats in the documentation: https://pandas.pydata.org/pandas-docs/stable/user_guide/indexing.html#returning-a-view-versus-a-copy\n",
      "  num['op_unique_carrier'] = cat['op_unique_carrier']\n",
      "<ipython-input-378-cd7bf3de3cf5>:4: SettingWithCopyWarning: \n",
      "A value is trying to be set on a copy of a slice from a DataFrame.\n",
      "Try using .loc[row_indexer,col_indexer] = value instead\n",
      "\n",
      "See the caveats in the documentation: https://pandas.pydata.org/pandas-docs/stable/user_guide/indexing.html#returning-a-view-versus-a-copy\n",
      "  num['tail_num'] = cat['tail_num']\n"
     ]
    }
   ],
   "source": [
    "num['origin'] = cat['origin']\n",
    "num['dest'] = cat['dest']\n",
    "num['op_unique_carrier'] = cat['op_unique_carrier']\n",
    "num['tail_num'] = cat['tail_num']"
   ]
  },
  {
   "cell_type": "code",
   "execution_count": 379,
   "id": "63dedf05-8c0b-4c5b-9e84-abb6e64bfbbe",
   "metadata": {},
   "outputs": [],
   "source": [
    "num = num.dropna()"
   ]
  },
  {
   "cell_type": "code",
   "execution_count": 380,
   "id": "1cb15558-d576-48cc-af0c-08fa53e12b1a",
   "metadata": {},
   "outputs": [],
   "source": [
    "# num = num.join(pd.get_dummies(num['op_unique_carrier'], prefix='carrier'), on = num.index).join(pd.get_dummies(num['origin'], prefix='origin'), on = num.index) #.join(pd.get_dummies(num['dest'], prefix='dest'), on = num.index)"
   ]
  },
  {
   "cell_type": "code",
   "execution_count": null,
   "id": "effd8bd7-b739-4986-84ab-9f939a430deb",
   "metadata": {},
   "outputs": [],
   "source": []
  },
  {
   "cell_type": "code",
   "execution_count": null,
   "id": "416bc03f-2782-4c5b-8a4d-8055cd73023e",
   "metadata": {},
   "outputs": [],
   "source": []
  },
  {
   "cell_type": "code",
   "execution_count": 381,
   "id": "319059eb-5040-4e43-b073-72d819317e58",
   "metadata": {},
   "outputs": [],
   "source": [
    "num['origin_mean_delay'] = list(origin_airport_stats.loc[num['origin'], 'arr_delay'])\n",
    "num['dest_mean_delay'] = list(dest_airport_stats.loc[num['dest'], 'arr_delay'])\n",
    "num['carrier_mean_delay'] = list(airline_stats.loc[num['op_unique_carrier'], 'arr_delay'])\n",
    "num['plane_mean_delay'] = list(airplane_stats.loc[num['tail_num'], 'arr_delay'])"
   ]
  },
  {
   "cell_type": "code",
   "execution_count": null,
   "id": "e64ef047-bcd9-429c-9c5e-1b9e6b5240bd",
   "metadata": {},
   "outputs": [],
   "source": []
  },
  {
   "cell_type": "code",
   "execution_count": 382,
   "id": "3699942f-e6db-4f44-b6f1-6763e7b23840",
   "metadata": {},
   "outputs": [
    {
     "data": {
      "text/html": [
       "<div>\n",
       "<style scoped>\n",
       "    .dataframe tbody tr th:only-of-type {\n",
       "        vertical-align: middle;\n",
       "    }\n",
       "\n",
       "    .dataframe tbody tr th {\n",
       "        vertical-align: top;\n",
       "    }\n",
       "\n",
       "    .dataframe thead th {\n",
       "        text-align: right;\n",
       "    }\n",
       "</style>\n",
       "<table border=\"1\" class=\"dataframe\">\n",
       "  <thead>\n",
       "    <tr style=\"text-align: right;\">\n",
       "      <th></th>\n",
       "      <th>crs_dep_time</th>\n",
       "      <th>crs_arr_time</th>\n",
       "      <th>distance</th>\n",
       "      <th>arr_delay</th>\n",
       "      <th>dep_hour</th>\n",
       "      <th>weekday</th>\n",
       "      <th>week</th>\n",
       "      <th>n_previous_flights</th>\n",
       "      <th>origin</th>\n",
       "      <th>dest</th>\n",
       "      <th>op_unique_carrier</th>\n",
       "      <th>tail_num</th>\n",
       "      <th>origin_mean_delay</th>\n",
       "      <th>dest_mean_delay</th>\n",
       "      <th>carrier_mean_delay</th>\n",
       "      <th>plane_mean_delay</th>\n",
       "    </tr>\n",
       "  </thead>\n",
       "  <tbody>\n",
       "    <tr>\n",
       "      <th>0</th>\n",
       "      <td>810</td>\n",
       "      <td>956</td>\n",
       "      <td>1127</td>\n",
       "      <td>33.0</td>\n",
       "      <td>8</td>\n",
       "      <td>1.0</td>\n",
       "      <td>1.0</td>\n",
       "      <td>0</td>\n",
       "      <td>PGD</td>\n",
       "      <td>RFD</td>\n",
       "      <td>G4</td>\n",
       "      <td>215NV</td>\n",
       "      <td>2.950820</td>\n",
       "      <td>6.333333</td>\n",
       "      <td>11.213221</td>\n",
       "      <td>-6.909091</td>\n",
       "    </tr>\n",
       "    <tr>\n",
       "      <th>1</th>\n",
       "      <td>1041</td>\n",
       "      <td>1422</td>\n",
       "      <td>1127</td>\n",
       "      <td>61.0</td>\n",
       "      <td>10</td>\n",
       "      <td>1.0</td>\n",
       "      <td>1.0</td>\n",
       "      <td>1</td>\n",
       "      <td>RFD</td>\n",
       "      <td>PGD</td>\n",
       "      <td>G4</td>\n",
       "      <td>215NV</td>\n",
       "      <td>10.666667</td>\n",
       "      <td>8.040984</td>\n",
       "      <td>11.213221</td>\n",
       "      <td>-6.909091</td>\n",
       "    </tr>\n",
       "    <tr>\n",
       "      <th>2</th>\n",
       "      <td>823</td>\n",
       "      <td>1046</td>\n",
       "      <td>945</td>\n",
       "      <td>-16.0</td>\n",
       "      <td>8</td>\n",
       "      <td>1.0</td>\n",
       "      <td>1.0</td>\n",
       "      <td>0</td>\n",
       "      <td>PIE</td>\n",
       "      <td>TOL</td>\n",
       "      <td>G4</td>\n",
       "      <td>216NV</td>\n",
       "      <td>-8.527273</td>\n",
       "      <td>1.071429</td>\n",
       "      <td>11.213221</td>\n",
       "      <td>13.916667</td>\n",
       "    </tr>\n",
       "    <tr>\n",
       "      <th>3</th>\n",
       "      <td>1131</td>\n",
       "      <td>1353</td>\n",
       "      <td>945</td>\n",
       "      <td>-19.0</td>\n",
       "      <td>11</td>\n",
       "      <td>1.0</td>\n",
       "      <td>1.0</td>\n",
       "      <td>1</td>\n",
       "      <td>TOL</td>\n",
       "      <td>PIE</td>\n",
       "      <td>G4</td>\n",
       "      <td>216NV</td>\n",
       "      <td>9.023256</td>\n",
       "      <td>-1.084848</td>\n",
       "      <td>11.213221</td>\n",
       "      <td>13.916667</td>\n",
       "    </tr>\n",
       "    <tr>\n",
       "      <th>4</th>\n",
       "      <td>1443</td>\n",
       "      <td>1720</td>\n",
       "      <td>1044</td>\n",
       "      <td>-25.0</td>\n",
       "      <td>14</td>\n",
       "      <td>1.0</td>\n",
       "      <td>1.0</td>\n",
       "      <td>2</td>\n",
       "      <td>PIE</td>\n",
       "      <td>GRR</td>\n",
       "      <td>G4</td>\n",
       "      <td>216NV</td>\n",
       "      <td>-8.527273</td>\n",
       "      <td>4.868020</td>\n",
       "      <td>11.213221</td>\n",
       "      <td>13.916667</td>\n",
       "    </tr>\n",
       "    <tr>\n",
       "      <th>...</th>\n",
       "      <td>...</td>\n",
       "      <td>...</td>\n",
       "      <td>...</td>\n",
       "      <td>...</td>\n",
       "      <td>...</td>\n",
       "      <td>...</td>\n",
       "      <td>...</td>\n",
       "      <td>...</td>\n",
       "      <td>...</td>\n",
       "      <td>...</td>\n",
       "      <td>...</td>\n",
       "      <td>...</td>\n",
       "      <td>...</td>\n",
       "      <td>...</td>\n",
       "      <td>...</td>\n",
       "      <td>...</td>\n",
       "    </tr>\n",
       "    <tr>\n",
       "      <th>146464</th>\n",
       "      <td>919</td>\n",
       "      <td>1055</td>\n",
       "      <td>526</td>\n",
       "      <td>-6.0</td>\n",
       "      <td>9</td>\n",
       "      <td>0.0</td>\n",
       "      <td>2.0</td>\n",
       "      <td>1</td>\n",
       "      <td>ATL</td>\n",
       "      <td>PIT</td>\n",
       "      <td>DL</td>\n",
       "      <td>N999DN</td>\n",
       "      <td>-3.886114</td>\n",
       "      <td>0.831591</td>\n",
       "      <td>-8.649771</td>\n",
       "      <td>-11.794118</td>\n",
       "    </tr>\n",
       "    <tr>\n",
       "      <th>146465</th>\n",
       "      <td>1139</td>\n",
       "      <td>1328</td>\n",
       "      <td>526</td>\n",
       "      <td>-17.0</td>\n",
       "      <td>11</td>\n",
       "      <td>0.0</td>\n",
       "      <td>2.0</td>\n",
       "      <td>2</td>\n",
       "      <td>PIT</td>\n",
       "      <td>ATL</td>\n",
       "      <td>DL</td>\n",
       "      <td>N999DN</td>\n",
       "      <td>-5.802784</td>\n",
       "      <td>-4.826145</td>\n",
       "      <td>-8.649771</td>\n",
       "      <td>-11.794118</td>\n",
       "    </tr>\n",
       "    <tr>\n",
       "      <th>146466</th>\n",
       "      <td>1425</td>\n",
       "      <td>1501</td>\n",
       "      <td>453</td>\n",
       "      <td>-15.0</td>\n",
       "      <td>14</td>\n",
       "      <td>0.0</td>\n",
       "      <td>2.0</td>\n",
       "      <td>3</td>\n",
       "      <td>ATL</td>\n",
       "      <td>LIT</td>\n",
       "      <td>DL</td>\n",
       "      <td>N999DN</td>\n",
       "      <td>-3.886114</td>\n",
       "      <td>6.275472</td>\n",
       "      <td>-8.649771</td>\n",
       "      <td>-11.794118</td>\n",
       "    </tr>\n",
       "    <tr>\n",
       "      <th>146467</th>\n",
       "      <td>1545</td>\n",
       "      <td>1816</td>\n",
       "      <td>453</td>\n",
       "      <td>-10.0</td>\n",
       "      <td>15</td>\n",
       "      <td>0.0</td>\n",
       "      <td>2.0</td>\n",
       "      <td>4</td>\n",
       "      <td>LIT</td>\n",
       "      <td>ATL</td>\n",
       "      <td>DL</td>\n",
       "      <td>N999DN</td>\n",
       "      <td>3.003774</td>\n",
       "      <td>-4.826145</td>\n",
       "      <td>-8.649771</td>\n",
       "      <td>-11.794118</td>\n",
       "    </tr>\n",
       "    <tr>\n",
       "      <th>146468</th>\n",
       "      <td>605</td>\n",
       "      <td>859</td>\n",
       "      <td>1576</td>\n",
       "      <td>-21.0</td>\n",
       "      <td>6</td>\n",
       "      <td>0.0</td>\n",
       "      <td>2.0</td>\n",
       "      <td>0</td>\n",
       "      <td>BQN</td>\n",
       "      <td>JFK</td>\n",
       "      <td>B6</td>\n",
       "      <td>N999JB</td>\n",
       "      <td>-2.557692</td>\n",
       "      <td>-3.050670</td>\n",
       "      <td>11.133941</td>\n",
       "      <td>2.000000</td>\n",
       "    </tr>\n",
       "  </tbody>\n",
       "</table>\n",
       "<p>146357 rows × 16 columns</p>\n",
       "</div>"
      ],
      "text/plain": [
       "        crs_dep_time  crs_arr_time  distance  arr_delay  dep_hour  weekday  \\\n",
       "0                810           956      1127       33.0         8      1.0   \n",
       "1               1041          1422      1127       61.0        10      1.0   \n",
       "2                823          1046       945      -16.0         8      1.0   \n",
       "3               1131          1353       945      -19.0        11      1.0   \n",
       "4               1443          1720      1044      -25.0        14      1.0   \n",
       "...              ...           ...       ...        ...       ...      ...   \n",
       "146464           919          1055       526       -6.0         9      0.0   \n",
       "146465          1139          1328       526      -17.0        11      0.0   \n",
       "146466          1425          1501       453      -15.0        14      0.0   \n",
       "146467          1545          1816       453      -10.0        15      0.0   \n",
       "146468           605           859      1576      -21.0         6      0.0   \n",
       "\n",
       "        week  n_previous_flights origin dest op_unique_carrier tail_num  \\\n",
       "0        1.0                   0    PGD  RFD                G4    215NV   \n",
       "1        1.0                   1    RFD  PGD                G4    215NV   \n",
       "2        1.0                   0    PIE  TOL                G4    216NV   \n",
       "3        1.0                   1    TOL  PIE                G4    216NV   \n",
       "4        1.0                   2    PIE  GRR                G4    216NV   \n",
       "...      ...                 ...    ...  ...               ...      ...   \n",
       "146464   2.0                   1    ATL  PIT                DL   N999DN   \n",
       "146465   2.0                   2    PIT  ATL                DL   N999DN   \n",
       "146466   2.0                   3    ATL  LIT                DL   N999DN   \n",
       "146467   2.0                   4    LIT  ATL                DL   N999DN   \n",
       "146468   2.0                   0    BQN  JFK                B6   N999JB   \n",
       "\n",
       "        origin_mean_delay  dest_mean_delay  carrier_mean_delay  \\\n",
       "0                2.950820         6.333333           11.213221   \n",
       "1               10.666667         8.040984           11.213221   \n",
       "2               -8.527273         1.071429           11.213221   \n",
       "3                9.023256        -1.084848           11.213221   \n",
       "4               -8.527273         4.868020           11.213221   \n",
       "...                   ...              ...                 ...   \n",
       "146464          -3.886114         0.831591           -8.649771   \n",
       "146465          -5.802784        -4.826145           -8.649771   \n",
       "146466          -3.886114         6.275472           -8.649771   \n",
       "146467           3.003774        -4.826145           -8.649771   \n",
       "146468          -2.557692        -3.050670           11.133941   \n",
       "\n",
       "        plane_mean_delay  \n",
       "0              -6.909091  \n",
       "1              -6.909091  \n",
       "2              13.916667  \n",
       "3              13.916667  \n",
       "4              13.916667  \n",
       "...                  ...  \n",
       "146464        -11.794118  \n",
       "146465        -11.794118  \n",
       "146466        -11.794118  \n",
       "146467        -11.794118  \n",
       "146468          2.000000  \n",
       "\n",
       "[146357 rows x 16 columns]"
      ]
     },
     "execution_count": 382,
     "metadata": {},
     "output_type": "execute_result"
    }
   ],
   "source": [
    "num"
   ]
  },
  {
   "cell_type": "code",
   "execution_count": 383,
   "id": "e1ba9c66-adf4-4111-aa6a-1b0baa138471",
   "metadata": {},
   "outputs": [],
   "source": [
    "num = num.drop(['origin', 'dest', 'op_unique_carrier', 'tail_num'], axis=1)"
   ]
  },
  {
   "cell_type": "code",
   "execution_count": 384,
   "id": "a5627ad8-81cb-43b9-9adb-052623c4b3d3",
   "metadata": {},
   "outputs": [],
   "source": [
    "# num = num.drop(['distance'], axis=1)"
   ]
  },
  {
   "cell_type": "code",
   "execution_count": 385,
   "id": "0a130f7c-da47-4217-ad81-8a45205e53c3",
   "metadata": {},
   "outputs": [],
   "source": [
    "num['distance'] = sklearn.preprocessing.minmax_scale(num['distance'])\n",
    "num['dep_hour'] = sklearn.preprocessing.minmax_scale(num['dep_hour'])"
   ]
  },
  {
   "cell_type": "code",
   "execution_count": 386,
   "id": "f2daf030-5ad0-47a2-9aed-0cc00f3e3bdd",
   "metadata": {},
   "outputs": [],
   "source": [
    "# num.dep_hour /= 10"
   ]
  },
  {
   "cell_type": "code",
   "execution_count": 387,
   "id": "2f1c3ce0-d0f4-4ff1-8e5b-893c4834b71e",
   "metadata": {},
   "outputs": [],
   "source": [
    "num = num.drop(['crs_dep_time', 'crs_arr_time'], axis=1)"
   ]
  },
  {
   "cell_type": "code",
   "execution_count": 388,
   "id": "856d3b09-90eb-4fc2-bd2f-d81212b57487",
   "metadata": {},
   "outputs": [],
   "source": [
    "num = num.drop(num[(num['arr_delay'] >= 2 * num['arr_delay'].std() + num['arr_delay'].mean()) & (num['arr_delay'] <= -1 * num['arr_delay'].std() + num['arr_delay'].mean())].index)"
   ]
  },
  {
   "cell_type": "code",
   "execution_count": 389,
   "id": "14e7765a-4024-4bae-a98b-1b8241dd2985",
   "metadata": {},
   "outputs": [],
   "source": [
    "num_std = num['arr_delay'].std()"
   ]
  },
  {
   "cell_type": "code",
   "execution_count": 390,
   "id": "9f6687b0-4592-44cb-9fdd-8660c82e7d01",
   "metadata": {},
   "outputs": [],
   "source": [
    "num['arr_delay'] /= num_std\n",
    "num['origin_mean_delay'] /= num_std\n",
    "num['dest_mean_delay'] /= num_std\n",
    "num['carrier_mean_delay'] /= num_std\n",
    "num['plane_mean_delay'] /= num_std"
   ]
  },
  {
   "cell_type": "code",
   "execution_count": 391,
   "id": "b27ed92d-232b-44e5-a2df-301ce5640173",
   "metadata": {},
   "outputs": [
    {
     "data": {
      "text/plain": [
       "count    146357.000000\n",
       "mean          0.067264\n",
       "std           1.000000\n",
       "min          -1.591402\n",
       "25%          -0.335032\n",
       "50%          -0.125637\n",
       "75%           0.167516\n",
       "max          35.743716\n",
       "Name: arr_delay, dtype: float64"
      ]
     },
     "execution_count": 391,
     "metadata": {},
     "output_type": "execute_result"
    }
   ],
   "source": [
    "num['arr_delay'].describe()"
   ]
  },
  {
   "cell_type": "code",
   "execution_count": 393,
   "id": "725a41d1-4191-4f63-9dba-b63b0c105449",
   "metadata": {},
   "outputs": [
    {
     "data": {
      "text/plain": [
       "array([[<AxesSubplot:title={'center':'arr_delay'}>]], dtype=object)"
      ]
     },
     "execution_count": 393,
     "metadata": {},
     "output_type": "execute_result"
    },
    {
     "data": {
      "image/png": "[encoded data removed]",
      "text/plain": [
       "<Figure size 432x288 with 1 Axes>"
      ]
     },
     "metadata": {
      "needs_background": "light"
     },
     "output_type": "display_data"
    }
   ],
   "source": [
    "num.hist('arr_delay', bins=200)"
   ]
  },
  {
   "cell_type": "code",
   "execution_count": 394,
   "id": "286ef6c2-0c38-4812-a00a-49db5029f00a",
   "metadata": {},
   "outputs": [],
   "source": [
    "y = num['arr_delay']\n",
    "X = num.drop(['arr_delay'], axis = 1)"
   ]
  },
  {
   "cell_type": "code",
   "execution_count": 325,
   "id": "c3adf172-dec5-41d9-a784-d1ebc921ef34",
   "metadata": {},
   "outputs": [
    {
     "data": {
      "text/html": [
       "<div>\n",
       "<style scoped>\n",
       "    .dataframe tbody tr th:only-of-type {\n",
       "        vertical-align: middle;\n",
       "    }\n",
       "\n",
       "    .dataframe tbody tr th {\n",
       "        vertical-align: top;\n",
       "    }\n",
       "\n",
       "    .dataframe thead th {\n",
       "        text-align: right;\n",
       "    }\n",
       "</style>\n",
       "<table border=\"1\" class=\"dataframe\">\n",
       "  <thead>\n",
       "    <tr style=\"text-align: right;\">\n",
       "      <th></th>\n",
       "      <th>distance</th>\n",
       "      <th>dep_hour</th>\n",
       "      <th>weekday</th>\n",
       "      <th>week</th>\n",
       "      <th>n_previous_flights</th>\n",
       "      <th>origin_mean_delay</th>\n",
       "      <th>dest_mean_delay</th>\n",
       "      <th>carrier_mean_delay</th>\n",
       "      <th>plane_mean_delay</th>\n",
       "    </tr>\n",
       "  </thead>\n",
       "  <tbody>\n",
       "    <tr>\n",
       "      <th>0</th>\n",
       "      <td>0.221325</td>\n",
       "      <td>0.8</td>\n",
       "      <td>1.0</td>\n",
       "      <td>1.0</td>\n",
       "      <td>0</td>\n",
       "      <td>0.111826</td>\n",
       "      <td>0.240011</td>\n",
       "      <td>0.424942</td>\n",
       "      <td>-0.261830</td>\n",
       "    </tr>\n",
       "    <tr>\n",
       "      <th>1</th>\n",
       "      <td>0.221325</td>\n",
       "      <td>1.0</td>\n",
       "      <td>1.0</td>\n",
       "      <td>1.0</td>\n",
       "      <td>1</td>\n",
       "      <td>0.404229</td>\n",
       "      <td>0.304725</td>\n",
       "      <td>0.424942</td>\n",
       "      <td>-0.261830</td>\n",
       "    </tr>\n",
       "    <tr>\n",
       "      <th>2</th>\n",
       "      <td>0.184572</td>\n",
       "      <td>0.8</td>\n",
       "      <td>1.0</td>\n",
       "      <td>1.0</td>\n",
       "      <td>0</td>\n",
       "      <td>-0.323154</td>\n",
       "      <td>0.040603</td>\n",
       "      <td>0.424942</td>\n",
       "      <td>0.527393</td>\n",
       "    </tr>\n",
       "    <tr>\n",
       "      <th>3</th>\n",
       "      <td>0.184572</td>\n",
       "      <td>1.1</td>\n",
       "      <td>1.0</td>\n",
       "      <td>1.0</td>\n",
       "      <td>1</td>\n",
       "      <td>0.341950</td>\n",
       "      <td>-0.041112</td>\n",
       "      <td>0.424942</td>\n",
       "      <td>0.527393</td>\n",
       "    </tr>\n",
       "    <tr>\n",
       "      <th>4</th>\n",
       "      <td>0.204564</td>\n",
       "      <td>1.4</td>\n",
       "      <td>1.0</td>\n",
       "      <td>1.0</td>\n",
       "      <td>2</td>\n",
       "      <td>-0.323154</td>\n",
       "      <td>0.184481</td>\n",
       "      <td>0.424942</td>\n",
       "      <td>0.527393</td>\n",
       "    </tr>\n",
       "    <tr>\n",
       "      <th>...</th>\n",
       "      <td>...</td>\n",
       "      <td>...</td>\n",
       "      <td>...</td>\n",
       "      <td>...</td>\n",
       "      <td>...</td>\n",
       "      <td>...</td>\n",
       "      <td>...</td>\n",
       "      <td>...</td>\n",
       "      <td>...</td>\n",
       "    </tr>\n",
       "    <tr>\n",
       "      <th>146464</th>\n",
       "      <td>0.099960</td>\n",
       "      <td>0.9</td>\n",
       "      <td>0.0</td>\n",
       "      <td>2.0</td>\n",
       "      <td>1</td>\n",
       "      <td>-0.147270</td>\n",
       "      <td>0.031514</td>\n",
       "      <td>-0.327796</td>\n",
       "      <td>-0.446956</td>\n",
       "    </tr>\n",
       "    <tr>\n",
       "      <th>146465</th>\n",
       "      <td>0.099960</td>\n",
       "      <td>1.1</td>\n",
       "      <td>0.0</td>\n",
       "      <td>2.0</td>\n",
       "      <td>2</td>\n",
       "      <td>-0.219905</td>\n",
       "      <td>-0.182894</td>\n",
       "      <td>-0.327796</td>\n",
       "      <td>-0.446956</td>\n",
       "    </tr>\n",
       "    <tr>\n",
       "      <th>146466</th>\n",
       "      <td>0.085218</td>\n",
       "      <td>1.4</td>\n",
       "      <td>0.0</td>\n",
       "      <td>2.0</td>\n",
       "      <td>3</td>\n",
       "      <td>-0.147270</td>\n",
       "      <td>0.237818</td>\n",
       "      <td>-0.327796</td>\n",
       "      <td>-0.446956</td>\n",
       "    </tr>\n",
       "    <tr>\n",
       "      <th>146467</th>\n",
       "      <td>0.085218</td>\n",
       "      <td>1.5</td>\n",
       "      <td>0.0</td>\n",
       "      <td>2.0</td>\n",
       "      <td>4</td>\n",
       "      <td>0.113832</td>\n",
       "      <td>-0.182894</td>\n",
       "      <td>-0.327796</td>\n",
       "      <td>-0.446956</td>\n",
       "    </tr>\n",
       "    <tr>\n",
       "      <th>146468</th>\n",
       "      <td>0.311995</td>\n",
       "      <td>0.6</td>\n",
       "      <td>0.0</td>\n",
       "      <td>2.0</td>\n",
       "      <td>0</td>\n",
       "      <td>-0.096928</td>\n",
       "      <td>-0.115610</td>\n",
       "      <td>0.421937</td>\n",
       "      <td>0.075793</td>\n",
       "    </tr>\n",
       "  </tbody>\n",
       "</table>\n",
       "<p>144250 rows × 9 columns</p>\n",
       "</div>"
      ],
      "text/plain": [
       "        distance  dep_hour  weekday  week  n_previous_flights  \\\n",
       "0       0.221325       0.8      1.0   1.0                   0   \n",
       "1       0.221325       1.0      1.0   1.0                   1   \n",
       "2       0.184572       0.8      1.0   1.0                   0   \n",
       "3       0.184572       1.1      1.0   1.0                   1   \n",
       "4       0.204564       1.4      1.0   1.0                   2   \n",
       "...          ...       ...      ...   ...                 ...   \n",
       "146464  0.099960       0.9      0.0   2.0                   1   \n",
       "146465  0.099960       1.1      0.0   2.0                   2   \n",
       "146466  0.085218       1.4      0.0   2.0                   3   \n",
       "146467  0.085218       1.5      0.0   2.0                   4   \n",
       "146468  0.311995       0.6      0.0   2.0                   0   \n",
       "\n",
       "        origin_mean_delay  dest_mean_delay  carrier_mean_delay  \\\n",
       "0                0.111826         0.240011            0.424942   \n",
       "1                0.404229         0.304725            0.424942   \n",
       "2               -0.323154         0.040603            0.424942   \n",
       "3                0.341950        -0.041112            0.424942   \n",
       "4               -0.323154         0.184481            0.424942   \n",
       "...                   ...              ...                 ...   \n",
       "146464          -0.147270         0.031514           -0.327796   \n",
       "146465          -0.219905        -0.182894           -0.327796   \n",
       "146466          -0.147270         0.237818           -0.327796   \n",
       "146467           0.113832        -0.182894           -0.327796   \n",
       "146468          -0.096928        -0.115610            0.421937   \n",
       "\n",
       "        plane_mean_delay  \n",
       "0              -0.261830  \n",
       "1              -0.261830  \n",
       "2               0.527393  \n",
       "3               0.527393  \n",
       "4               0.527393  \n",
       "...                  ...  \n",
       "146464         -0.446956  \n",
       "146465         -0.446956  \n",
       "146466         -0.446956  \n",
       "146467         -0.446956  \n",
       "146468          0.075793  \n",
       "\n",
       "[144250 rows x 9 columns]"
      ]
     },
     "execution_count": 325,
     "metadata": {},
     "output_type": "execute_result"
    }
   ],
   "source": [
    "X"
   ]
  },
  {
   "cell_type": "code",
   "execution_count": 25,
   "id": "49dd651d-020a-482e-9eda-c8fd23dcfae9",
   "metadata": {},
   "outputs": [],
   "source": [
    "kfold = sklearn.model_selection.KFold(shuffle = True, random_state=99)"
   ]
  },
  {
   "cell_type": "code",
   "execution_count": 395,
   "id": "8b3e7b5c-b62f-425b-b6d2-83bac811d401",
   "metadata": {},
   "outputs": [],
   "source": [
    "X = X.to_numpy()\n",
    "y = y.to_numpy()"
   ]
  },
  {
   "cell_type": "code",
   "execution_count": 396,
   "id": "3e7d82d4-98a5-43be-983a-44b5864d22d8",
   "metadata": {},
   "outputs": [],
   "source": [
    "X_train, X_test, y_train, y_test = sklearn.model_selection.train_test_split(X,y,random_state=99, test_size=0.2)"
   ]
  },
  {
   "cell_type": "code",
   "execution_count": 235,
   "id": "b3a6f1da-dbd5-4157-8530-46f0a70050c3",
   "metadata": {},
   "outputs": [],
   "source": [
    "X_33, X_67, y_33, y_67 = sklearn.model_selection.train_test_split(X, y, random_state=99, test_size=0.67)"
   ]
  },
  {
   "cell_type": "code",
   "execution_count": 236,
   "id": "32bcc500-2a16-4616-8532-220ef48f0c7e",
   "metadata": {},
   "outputs": [],
   "source": [
    "pca = sklearn.decomposition.PCA(n_components=7)\n",
    "X_reduced = pca.fit_transform(X_33)"
   ]
  },
  {
   "cell_type": "code",
   "execution_count": 237,
   "id": "4298276f-d574-434a-9ccf-a5dbeb1ecc7b",
   "metadata": {},
   "outputs": [],
   "source": [
    "X_train, X_test, y_train, y_test = sklearn.model_selection.train_test_split(X_33,y_33,random_state=99, test_size=0.2)"
   ]
  },
  {
   "cell_type": "code",
   "execution_count": 238,
   "id": "3b5e617d-a8a2-42b9-9076-da1c2523c874",
   "metadata": {},
   "outputs": [],
   "source": [
    "X_pca_train, X_pca_test, y_train, y_test = sklearn.model_selection.train_test_split(X_reduced,y_33,random_state=99, test_size=0.2)"
   ]
  },
  {
   "cell_type": "code",
   "execution_count": 397,
   "id": "a9ae413c-c275-4c58-b48d-1d1cc48e4bf0",
   "metadata": {},
   "outputs": [],
   "source": [
    "svm_regressor = sklearn.svm.SVR()"
   ]
  },
  {
   "cell_type": "code",
   "execution_count": 398,
   "id": "49f3b66d-15eb-4fbf-bcce-e73340fcb814",
   "metadata": {},
   "outputs": [
    {
     "data": {
      "text/plain": [
       "SVR()"
      ]
     },
     "execution_count": 398,
     "metadata": {},
     "output_type": "execute_result"
    }
   ],
   "source": [
    "svm_regressor.fit(X_train, y_train)"
   ]
  },
  {
   "cell_type": "code",
   "execution_count": null,
   "id": "e9dcad57-d30e-4d29-9f44-0f733f8b4b6b",
   "metadata": {},
   "outputs": [],
   "source": [
    "for train_index, test_index in kfold.split(X, y):\n",
    "    print(\"TRAIN:\", train_index, \"TEST:\", test_index)\n",
    "    X_train, X_test = X[train_index], X[test_index]\n",
    "    y_train, y_test = y[train_index], y[test_index]"
   ]
  },
  {
   "cell_type": "code",
   "execution_count": null,
   "id": "97a3a46a-cb47-42bc-ac4f-3eb75ea00e28",
   "metadata": {},
   "outputs": [],
   "source": [
    "scores = sklearn.model_selection.cross_val_score(estimator=sklearn.svm.SVC(), X = X, y = y, cv = kfold)"
   ]
  },
  {
   "cell_type": "code",
   "execution_count": 399,
   "id": "ea7460e0-98d2-4393-8c27-9657660dcd3e",
   "metadata": {},
   "outputs": [],
   "source": [
    "y_pred = svm_regressor.predict(X_test)"
   ]
  },
  {
   "cell_type": "code",
   "execution_count": 339,
   "id": "5fc5d4e8-ff33-4181-af38-3ffc289694b4",
   "metadata": {},
   "outputs": [
    {
     "data": {
      "text/plain": [
       "0    0.280615\n",
       "dtype: float64"
      ]
     },
     "execution_count": 339,
     "metadata": {},
     "output_type": "execute_result"
    }
   ],
   "source": []
  },
  {
   "cell_type": "code",
   "execution_count": 400,
   "id": "7c6582cd-a10d-4cdc-8bc8-db86ccf036a1",
   "metadata": {},
   "outputs": [
    {
     "data": {
      "text/plain": [
       "0.8658744278896087"
      ]
     },
     "execution_count": 400,
     "metadata": {},
     "output_type": "execute_result"
    }
   ],
   "source": [
    "sklearn.metrics.mean_squared_error(y_test, y_pred)"
   ]
  },
  {
   "cell_type": "code",
   "execution_count": 85,
   "id": "37b983b2-3869-4e8d-aec4-1591320358bc",
   "metadata": {},
   "outputs": [],
   "source": [
    "X_hp_train, X_hp_test, y_hp_train, y_hp_test = sklearn.model_selection.train_test_split(X_33,y_33,random_state=99, test_size=0.5)"
   ]
  },
  {
   "cell_type": "code",
   "execution_count": 86,
   "id": "1131972f-6c28-43b2-8565-c6bc45383e69",
   "metadata": {},
   "outputs": [],
   "source": [
    "hyperparams = [{'C': [0.1, 1.0, 10], 'kernel': ['rbf', 'poly'], 'degree': [3,4,5]}]"
   ]
  },
  {
   "cell_type": "code",
   "execution_count": 88,
   "id": "0b069a0f-41b9-49f9-8d99-d6f11aa41036",
   "metadata": {},
   "outputs": [],
   "source": [
    "grid = sklearn.model_selection.GridSearchCV(estimator=sklearn.svm.SVC(), param_grid=hyperparams, n_jobs=-1)"
   ]
  },
  {
   "cell_type": "code",
   "execution_count": 89,
   "id": "5f24a2dd-ec70-4665-b19d-94b43c5a4774",
   "metadata": {},
   "outputs": [
    {
     "name": "stderr",
     "output_type": "stream",
     "text": [
      "C:\\Users\\dfeld\\anaconda3\\lib\\site-packages\\sklearn\\model_selection\\_split.py:666: UserWarning: The least populated class in y has only 1 members, which is less than n_splits=5.\n",
      "  warnings.warn((\"The least populated class in y has only %d\"\n"
     ]
    },
    {
     "data": {
      "text/plain": [
       "GridSearchCV(estimator=SVC(), n_jobs=-1,\n",
       "             param_grid=[{'C': [0.1, 1.0, 10], 'degree': [3, 4, 5],\n",
       "                          'kernel': ['rbf', 'poly']}])"
      ]
     },
     "execution_count": 89,
     "metadata": {},
     "output_type": "execute_result"
    }
   ],
   "source": [
    "grid.fit(X_hp_train, y_hp_train)"
   ]
  },
  {
   "cell_type": "code",
   "execution_count": 90,
   "id": "34eaf2f6-e680-4078-825b-0c48045a1e0a",
   "metadata": {},
   "outputs": [
    {
     "data": {
      "text/plain": [
       "{'C': 1.0, 'degree': 3, 'kernel': 'rbf'}"
      ]
     },
     "execution_count": 90,
     "metadata": {},
     "output_type": "execute_result"
    }
   ],
   "source": [
    "grid.best_params_"
   ]
  },
  {
   "cell_type": "code",
   "execution_count": 94,
   "id": "26fd6a91-0768-43fd-9f6c-bc85c0b17a38",
   "metadata": {},
   "outputs": [
    {
     "data": {
      "text/plain": [
       "-9.0     2925\n",
       " 0.0     2374\n",
       "-11.0    1358\n",
       "-8.0     1047\n",
       "-10.0     615\n",
       "-12.0     463\n",
       "-5.0      277\n",
       "-16.0     136\n",
       "-14.0     116\n",
       "-6.0      101\n",
       "-13.0      41\n",
       "-7.0       37\n",
       "-17.0      28\n",
       "-18.0       9\n",
       "-15.0       1\n",
       "-4.0        1\n",
       "dtype: int64"
      ]
     },
     "execution_count": 94,
     "metadata": {},
     "output_type": "execute_result"
    }
   ],
   "source": [
    "pd.DataFrame(y_pred).value_counts()"
   ]
  },
  {
   "cell_type": "code",
   "execution_count": 99,
   "id": "e5c25f48-ad70-4806-a34a-cd60e849d01f",
   "metadata": {},
   "outputs": [
    {
     "data": {
      "text/plain": [
       "1.0      169\n",
       "2.0      164\n",
       "3.0      143\n",
       "4.0      139\n",
       "5.0      125\n",
       "        ... \n",
       "107.0      1\n",
       "137.0      1\n",
       "141.0      1\n",
       "142.0      1\n",
       "130.0      1\n",
       "Length: 142, dtype: int64"
      ]
     },
     "execution_count": 99,
     "metadata": {},
     "output_type": "execute_result"
    }
   ],
   "source": [
    "pd.DataFrame(y_test)[pd.DataFrame(y_test)[0] > 0].value_counts()"
   ]
  },
  {
   "cell_type": "code",
   "execution_count": 105,
   "id": "2e398c26-fc66-40d6-b1e2-976e173ac2e0",
   "metadata": {},
   "outputs": [
    {
     "data": {
      "text/plain": [
       "array([[<AxesSubplot:title={'center':'arr_delay'}>]], dtype=object)"
      ]
     },
     "execution_count": 105,
     "metadata": {},
     "output_type": "execute_result"
    },
    {
     "data": {
      "image/png": "[encoded data removed]",
      "text/plain": [
       "<Figure size 432x288 with 1 Axes>"
      ]
     },
     "metadata": {
      "needs_background": "light"
     },
     "output_type": "display_data"
    }
   ],
   "source": [
    "data_raw.hist('arr_delay', bins=200)"
   ]
  },
  {
   "cell_type": "code",
   "execution_count": 243,
   "id": "fa80a53a-cae5-4d06-84aa-2580dc4fb4f4",
   "metadata": {},
   "outputs": [],
   "source": [
    "svm_pca = sklearn.svm.SVR()\n",
    "svm_pca.fit(X_pca_train, y_train)\n",
    "y_pred_pca = svm_pca.predict(X_pca_test)"
   ]
  },
  {
   "cell_type": "code",
   "execution_count": 244,
   "id": "ce5af668-c7b5-4f20-a314-ecb57f9ee44f",
   "metadata": {},
   "outputs": [
    {
     "data": {
      "text/plain": [
       "0.9904468598222458"
      ]
     },
     "execution_count": 244,
     "metadata": {},
     "output_type": "execute_result"
    }
   ],
   "source": [
    "sklearn.metrics.mean_squared_error(y_pred_pca, y_test)"
   ]
  },
  {
   "cell_type": "code",
   "execution_count": 113,
   "id": "e5b128a2-fb4a-4eaf-8e65-ed63d4372271",
   "metadata": {},
   "outputs": [
    {
     "data": {
      "text/plain": [
       "array([-9., -4.,  0., ...,  0., -9., -9.])"
      ]
     },
     "execution_count": 113,
     "metadata": {},
     "output_type": "execute_result"
    }
   ],
   "source": [
    "y_pred_pca"
   ]
  },
  {
   "cell_type": "code",
   "execution_count": 192,
   "id": "4fe25556-806c-4f96-9c20-62eae4513ca7",
   "metadata": {},
   "outputs": [
    {
     "data": {
      "text/plain": [
       "0    1375\n",
       "dtype: int64"
      ]
     },
     "execution_count": 192,
     "metadata": {},
     "output_type": "execute_result"
    }
   ],
   "source": [
    "pd.DataFrame(y_pred_pca)[pd.DataFrame(y_pred_pca)[0] > 0].count()"
   ]
  },
  {
   "cell_type": "code",
   "execution_count": 117,
   "id": "1420591a-3a0b-4c93-9c12-acb29b0a320c",
   "metadata": {},
   "outputs": [
    {
     "data": {
      "text/plain": [
       "-9.0     3328\n",
       " 0.0     3154\n",
       "-11.0     865\n",
       "-8.0      518\n",
       "-16.0     394\n",
       "-5.0      364\n",
       "-12.0     263\n",
       "-17.0     203\n",
       "-4.0      133\n",
       "-10.0      90\n",
       "-6.0       71\n",
       "-14.0      57\n",
       "-13.0      46\n",
       "-7.0       26\n",
       "-15.0      16\n",
       "-18.0       1\n",
       "Name: 0, dtype: int64"
      ]
     },
     "execution_count": 117,
     "metadata": {},
     "output_type": "execute_result"
    }
   ],
   "source": [
    "pd.DataFrame(y_pred_pca)[0].value_counts()"
   ]
  },
  {
   "cell_type": "code",
   "execution_count": 124,
   "id": "969fed9b-0c98-4d15-8869-555650034cd7",
   "metadata": {},
   "outputs": [],
   "source": [
    "delayed = num[num['arr_delay'] > 0]"
   ]
  },
  {
   "cell_type": "code",
   "execution_count": 125,
   "id": "c3ea857a-6100-4f92-9834-b6d892c36d3b",
   "metadata": {},
   "outputs": [],
   "source": [
    "y_delayed = delayed['arr_delay']\n",
    "X_delayed = delayed.drop(['arr_delay'], axis = 1)"
   ]
  },
  {
   "cell_type": "code",
   "execution_count": 128,
   "id": "ed7c4d1e-5e24-4986-8a05-3f1ade4793d7",
   "metadata": {},
   "outputs": [],
   "source": [
    "X_delayed = X_delayed.to_numpy()\n",
    "y_delayed = y_delayed.to_numpy()"
   ]
  },
  {
   "cell_type": "code",
   "execution_count": 129,
   "id": "c34f4642-acd6-4ed5-add3-e286ae868ad1",
   "metadata": {},
   "outputs": [],
   "source": [
    "X_delayed = pca.fit_transform(X_delayed)"
   ]
  },
  {
   "cell_type": "code",
   "execution_count": 131,
   "id": "36a2ee44-c4a9-4ed5-9e33-5fc5e490e35f",
   "metadata": {},
   "outputs": [],
   "source": [
    "X_delayed_train, X_delayed_test, y_delayed_train, y_delayed_test = sklearn.model_selection.train_test_split(X_delayed, y_delayed, test_size=0.8, random_state=99)"
   ]
  },
  {
   "cell_type": "code",
   "execution_count": 132,
   "id": "4b7d0dc4-1b83-4a0e-9856-c99a879fe76c",
   "metadata": {},
   "outputs": [],
   "source": [
    "svm_delayed = sklearn.svm.SVC()"
   ]
  },
  {
   "cell_type": "code",
   "execution_count": 133,
   "id": "e3ff07cf-2e7d-4ba8-b2bd-4117ba45ca0d",
   "metadata": {},
   "outputs": [],
   "source": [
    "svm_delayed.fit(X_delayed_train, y_delayed_train)\n",
    "y_pred_delayed = svm_delayed.predict(X_delayed_test)"
   ]
  },
  {
   "cell_type": "code",
   "execution_count": 134,
   "id": "55b29284-8d00-45f0-b16e-a23728f2f87e",
   "metadata": {},
   "outputs": [
    {
     "data": {
      "text/plain": [
       "1374.9377033346889"
      ]
     },
     "execution_count": 134,
     "metadata": {},
     "output_type": "execute_result"
    }
   ],
   "source": [
    "sklearn.metrics.mean_squared_error(y_delayed_test, y_pred_delayed)"
   ]
  },
  {
   "cell_type": "code",
   "execution_count": 136,
   "id": "279e235f-005f-4490-a5e7-942f2ab10c3d",
   "metadata": {},
   "outputs": [
    {
     "data": {
      "text/plain": [
       "1.0    24856\n",
       "3.0    10921\n",
       "4.0     1795\n",
       "2.0     1344\n",
       "5.0      153\n",
       "6.0      141\n",
       "7.0      134\n",
       "Name: 0, dtype: int64"
      ]
     },
     "execution_count": 136,
     "metadata": {},
     "output_type": "execute_result"
    }
   ],
   "source": [
    "pd.DataFrame(y_pred_delayed)[0].value_counts()"
   ]
  },
  {
   "cell_type": "code",
   "execution_count": 137,
   "id": "e7d4fc5a-1db8-48f8-b9a2-a94e65630d84",
   "metadata": {},
   "outputs": [
    {
     "data": {
      "text/plain": [
       "1.0      2010\n",
       "2.0      1853\n",
       "3.0      1787\n",
       "4.0      1577\n",
       "5.0      1547\n",
       "         ... \n",
       "143.0      24\n",
       "134.0      23\n",
       "141.0      19\n",
       "129.0      19\n",
       "142.0      17\n",
       "Name: 0, Length: 143, dtype: int64"
      ]
     },
     "execution_count": 137,
     "metadata": {},
     "output_type": "execute_result"
    }
   ],
   "source": [
    "pd.DataFrame(y_delayed_test)[0].value_counts()"
   ]
  },
  {
   "cell_type": "code",
   "execution_count": null,
   "id": "6162033a-31cc-4b2d-9b6b-4031420f5b32",
   "metadata": {},
   "outputs": [],
   "source": []
  }
 ],
 "metadata": {
  "kernelspec": {
   "display_name": "LHL_env",
   "language": "python",
   "name": "lhl_env"
  },
  "language_info": {
   "codemirror_mode": {
    "name": "ipython",
    "version": 3
   },
   "file_extension": ".py",
   "mimetype": "text/x-python",
   "name": "python",
   "nbconvert_exporter": "python",
   "pygments_lexer": "ipython3",
   "version": "3.8.8"
  }
 },
 "nbformat": 4,
 "nbformat_minor": 5
}
