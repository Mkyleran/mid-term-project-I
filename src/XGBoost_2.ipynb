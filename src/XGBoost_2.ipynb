{
 "cells": [
  {
   "cell_type": "markdown",
   "id": "e44d7187-33c1-480d-a34e-9c338287135b",
   "metadata": {},
   "source": [
    "# XGBoost"
   ]
  },
  {
   "cell_type": "code",
   "execution_count": 7,
   "id": "ad04ddba-2e63-4141-a73b-aae1150312c0",
   "metadata": {},
   "outputs": [],
   "source": [
    "import pandas as pd\n",
    "import numpy as np\n",
    "import matplotlib.pyplot as plt\n",
    "import seaborn as sns\n",
    "import pickle\n",
    "\n",
    "import xgboost as xgb\n",
    "\n",
    "from sklearn.preprocessing import MinMaxScaler, StandardScaler\n",
    "from sklearn.model_selection import train_test_split, GridSearchCV, cross_val_score\n",
    "from sklearn.metrics import mean_squared_error\n",
    "\n",
    "from skopt import forest_minimize  # Random forest hyperparameter optimization\n",
    "from skopt.space import Real, Integer\n",
    "from skopt.utils import use_named_args\n",
    "from skopt.plots import plot_convergence\n",
    "from skopt.callbacks import DeltaYStopper\n",
    "\n",
    "# Project level modules\n",
    "import modules.preprocessing_functions as ppf\n",
    "import modules.save_model as sm"
   ]
  },
  {
   "cell_type": "code",
   "execution_count": 8,
   "id": "88dd72bf-464b-4a24-9332-e051b043f49e",
   "metadata": {},
   "outputs": [],
   "source": [
    "# Random State\n",
    "rs = 99"
   ]
  },
  {
   "cell_type": "markdown",
   "id": "8696cb9f-5a55-40b8-99b7-7a47f896e652",
   "metadata": {},
   "source": [
    "## Functions"
   ]
  },
  {
   "cell_type": "code",
   "execution_count": 9,
   "id": "7fd99b99-14d6-46f3-8bad-8713e9648fa4",
   "metadata": {
    "tags": []
   },
   "outputs": [],
   "source": [
    "def load_and_process(csv_path: 'str', time_period: 'str'):\n",
    "    \"\"\"\n",
    "    Load the csv, process NAN values in the target variable, and\n",
    "    drop irrelevant rows\n",
    "    \n",
    "    Parameters\n",
    "    ----------\n",
    "    csv_path : string\n",
    "    time_period : string 'week', 'month'\n",
    "    \n",
    "    Returns\n",
    "    -------\n",
    "    df : Pandas Dataframe\n",
    "    \"\"\"\n",
    "    \n",
    "    # Load csv and parse the first column as dates\n",
    "    df = pd.read_csv(csv_path, parse_dates=[0])\n",
    "    \n",
    "    # Filter time period\n",
    "    if time_period == 'week':\n",
    "        df = df[((df['fl_date'] >= f'2018-01-01') &\n",
    "                (df['fl_date'] <= f'2018-01-07')) |\n",
    "                ((df['fl_date'] >= f'2019-01-01') &\n",
    "                 (df['fl_date'] <= f'2019-01-07')) |\n",
    "                ((df['fl_date'] >= f'2020-01-01') &\n",
    "                 (df['fl_date'] <= f'2020-01-07'))\n",
    "               ]\n",
    "    \n",
    "    # Set NAN values in departure and arrival delay to 0\n",
    "    df = ppf.process_nan_values(\n",
    "        df=df,\n",
    "        features_to_zero=['dep_delay', 'arr_delay']\n",
    "    )\n",
    "    \n",
    "    # Drop flight rows that were cancelled or diverted\n",
    "    df = df[\n",
    "        (df['cancelled'] == 0) &\n",
    "        (df['diverted'] == 0)\n",
    "    ]\n",
    "    \n",
    "    # Drop flights with delay >+3std and <-120min\n",
    "    df = df[\n",
    "        (df['arr_delay'] < (df['arr_delay'].mean()\n",
    "                            + 3 * df['arr_delay'].std())) &\n",
    "        (df['arr_delay'] > -120)\n",
    "    ]\n",
    "    \n",
    "    # Add stratifier\n",
    "    df['is_delayed'] = 0\n",
    "    df.loc[(df['arr_delay'] > 0), 'is_delayed'] = 1\n",
    "    \n",
    "    return df"
   ]
  },
  {
   "cell_type": "code",
   "execution_count": 10,
   "id": "e2ae3759-354f-4798-82d1-ef9f2148131e",
   "metadata": {},
   "outputs": [],
   "source": [
    "def performance_stats(feature: 'str', groupby: 'str'):\n",
    "    \"\"\"\n",
    "    \n",
    "    \"\"\"\n",
    "    google_drive_path = ('~/Google Drive/My Drive/Lighthouse Labs/'\n",
    "                         + 'Mid-term Project/Data-Jan/')\n",
    "    \n",
    "    files = {\n",
    "        '2018' : google_drive_path + '2018-01.csv',\n",
    "        '2019' : google_drive_path + '2019-01.csv'\n",
    "    }\n",
    "    \n",
    "    \n",
    "    frames = []\n",
    "\n",
    "    for yr, file in files.items():\n",
    "        data = load_and_process(csv_path=file, time_period='month')\n",
    "        \n",
    "        date_filters = {\n",
    "            # First week of January\n",
    "            'week' : ((data['fl_date'] >= f'{yr}-01-01') &\n",
    "                (data['fl_date'] <= f'{yr}-01-07')),\n",
    "            # Month of January\n",
    "            'month' : ((data['fl_date'] >= f'{yr}-01-01') &\n",
    "                (data['fl_date'] <= f'{yr}-01-31'))\n",
    "        }\n",
    "            \n",
    "        for timeline, date_filter in date_filters.items():\n",
    "            stats = pd.DataFrame()\n",
    "            stats[[\n",
    "                f'{yr}_{timeline}_{groupby}_mean_{feature}', \n",
    "                f'{yr}_{timeline}_{groupby}_std_{feature}', \n",
    "                f'{yr}_{timeline}_{groupby}_skew_{feature}'\n",
    "            ]] = (data[date_filter][[feature, groupby]]\n",
    "                  .groupby(by=[groupby])\n",
    "                  .agg({feature : ['mean', 'std', 'skew']})\n",
    "                 )\n",
    "            \n",
    "            frames.append(stats)\n",
    "    \n",
    "    stats = pd.concat(frames, axis=1)\n",
    "    \n",
    "    return stats"
   ]
  },
  {
   "cell_type": "code",
   "execution_count": 11,
   "id": "a737cbc5-f20d-4987-be0f-a4cf69dde0c7",
   "metadata": {},
   "outputs": [],
   "source": [
    "def save_stats():\n",
    "    \"\"\"\n",
    "    \n",
    "    \"\"\"\n",
    "    \n",
    "    feature_dict = {\n",
    "        'origin' : 'dep_delay',\n",
    "        'origin_city_name' : 'dep_delay',\n",
    "        'dest' : 'arr_delay',\n",
    "        'dest_city_name' : 'arr_delay',\n",
    "        'tail_num' : 'arr_delay',\n",
    "        'op_unique_carrier' : 'arr_delay'\n",
    "    }\n",
    "    \n",
    "    for k, v in feature_dict.items():\n",
    "        stats = performance_stats(feature=v, groupby=k)\n",
    "        stats.to_csv(f'../data/feature_average_delay_stats/{k}_{v}_stats.csv')\n",
    "    \n",
    "    return None"
   ]
  },
  {
   "cell_type": "raw",
   "id": "5c5ec340-573c-4521-ae4f-18ab5d64948a",
   "metadata": {},
   "source": [
    "# Don't really need this\n",
    "\n",
    "# make feature map on full 2019 table\n",
    "a = (data[['tail_num', 'op_unique_carrier']]\n",
    "     .drop_duplicates())\n",
    "a.set_index('tail_num', inplace=True)\n",
    "a.to_csv('../data/feature_average_delay_stats/2019_tail_num_op_unique_carrier_map.csv')"
   ]
  },
  {
   "cell_type": "raw",
   "id": "18a4ee2f-74fa-4183-8baf-701f01b774b6",
   "metadata": {},
   "source": [
    "# Use the command line to take a random sample of the input data without\n",
    "# loading the entire file to memory.\n",
    "# On MacOS Monterey gshuf is available by installing coreutils\n",
    "# https://formulae.brew.sh/formula/coreutils\n",
    "\n",
    "# Keep the header\n",
    "!head -n 1 ~/Google\\ Drive/My\\ Drive/Lighthouse\\ Labs/Mid-term\\ Project/Data-Jan/2018-01.csv > ../data/sample.csv\n",
    "# randomly sample rows and append to header\n",
    "!tail -n +2 ~/Google\\ Drive/My\\ Drive/Lighthouse\\ Labs/Mid-term\\ Project/Data-Jan/2018-01.csv | gshuf -n 10000 >> ../data/sample.csv"
   ]
  },
  {
   "cell_type": "code",
   "execution_count": 12,
   "id": "3695efe0-521d-4c7f-856c-6c844730d677",
   "metadata": {},
   "outputs": [],
   "source": [
    "def week_month(df, time_period: 'str' = 'week'):\n",
    "    \"\"\"\n",
    "    \n",
    "    Parameters\n",
    "    ----------\n",
    "    df : Pandas DataFrame\n",
    "    time_period : string 'week', 'month'\n",
    "        \n",
    "    Returns\n",
    "    -------\n",
    "    df : Pandas DataFrame\n",
    "    \"\"\"\n",
    "    \n",
    "    feature_dict = {\n",
    "        'origin' : 'dep_delay',\n",
    "        'origin_city_name' : 'dep_delay',\n",
    "        'dest' : 'arr_delay',\n",
    "        'dest_city_name' : 'arr_delay',\n",
    "        'tail_num' : 'arr_delay',\n",
    "        'op_unique_carrier' : 'arr_delay'\n",
    "    }\n",
    "    \n",
    "    for k, v in feature_dict.items():\n",
    "        stats = pd.read_csv(\n",
    "            f'../data/feature_average_delay_stats/{k}_{v}_stats.csv',\n",
    "            index_col=[0]\n",
    "        )\n",
    "        \n",
    "        df[f'{k}_{time_period}_mean_{v}'] = (\n",
    "            df[k].map(stats[f'2018_{time_period}_{k}_mean_{v}'])\n",
    "        )\n",
    "    \n",
    "        df.drop(k, axis=1, inplace=True)\n",
    "    \n",
    "    return df"
   ]
  },
  {
   "cell_type": "code",
   "execution_count": 13,
   "id": "7c878ad2-ce01-4fa3-beac-69d6ca22a3ab",
   "metadata": {
    "tags": []
   },
   "outputs": [],
   "source": [
    "def load(data_set: 'str' = 'sample', time_period: 'str' = 'week'):\n",
    "    \"\"\"\n",
    "    \n",
    "    Parameters\n",
    "    ----------\n",
    "    data_set : string 'full', 'sample'\n",
    "        'full' is the whole 2019 csv with 638,649 lines\n",
    "        'sample' is 10,000 lines randomly sampled from 2018-01.csv\n",
    "    time_period : string 'week', 'month'\n",
    "    \n",
    "    Returns\n",
    "    -------\n",
    "    data : Pandas DataFrame\n",
    "    \"\"\"\n",
    "    \n",
    "    google_drive_path = ('~/Google Drive/My Drive/Lighthouse Labs/'\n",
    "                         + 'Mid-term Project/Data-Jan/')\n",
    "    \n",
    "    path = {\n",
    "        'full' : f'{google_drive_path}2019-01.csv',\n",
    "        'sample' : f'../data/sample.csv'\n",
    "    }\n",
    "    \n",
    "    # Load the first week of to predict for\n",
    "    data = load_and_process(csv_path=path[data_set], time_period='week')\n",
    "    \n",
    "    # Convert date to day integer\n",
    "    data['fl_date'] = data['fl_date'].dt.day\n",
    "    \n",
    "    # Purge unused columns\n",
    "    X = ppf.flight_test_features(data, purged=True)\n",
    "    y = data[['arr_delay', 'is_delayed']]\n",
    "    \n",
    "    # Substitue mean delay values for categorical features\n",
    "    X = week_month(df=X, time_period=time_period)\n",
    "    \n",
    "    # For flights of the first week on Jan 2019 that did not fly in the\n",
    "    # month of 2018, set tail number mean to carrier mean\n",
    "    X['tail_num_month_mean_arr_delay'].fillna(\n",
    "        X['op_unique_carrier_month_mean_arr_delay'],\n",
    "        inplace=True\n",
    "    )\n",
    "    \n",
    "    # set nan to mean\n",
    "    X = ppf.process_nan_values(\n",
    "        df=X,\n",
    "        features_to_mean=[\n",
    "            'origin_month_mean_dep_delay',\n",
    "            'dest_month_mean_arr_delay',\n",
    "            'tail_num_month_mean_arr_delay',\n",
    "            'op_unique_carrier_month_mean_arr_delay'\n",
    "        ]\n",
    "    )\n",
    "    \n",
    "    # Drop highly correlated features\n",
    "    X.drop(['crs_dep_time',\n",
    "            f'origin_city_name_{time_period}_mean_dep_delay',\n",
    "            f'dest_city_name_{time_period}_mean_arr_delay'],\n",
    "           axis=1,\n",
    "           inplace=True)\n",
    "    \n",
    "    return X, y\n",
    "    "
   ]
  },
  {
   "cell_type": "code",
   "execution_count": 14,
   "id": "0be16485-25d7-498e-b0b4-4de6b7b2f4d0",
   "metadata": {},
   "outputs": [],
   "source": [
    "data = load(data_set='full', time_period='month')"
   ]
  },
  {
   "cell_type": "code",
   "execution_count": 13,
   "id": "97a186fa-06d8-40ea-b3f4-102ad0b1de3a",
   "metadata": {},
   "outputs": [
    {
     "data": {
      "text/plain": [
       "<AxesSubplot:>"
      ]
     },
     "execution_count": 13,
     "metadata": {},
     "output_type": "execute_result"
    },
    {
     "data": {
      "image/png": "[encoded data removed]",
      "text/plain": [
       "<Figure size 432x288 with 1 Axes>"
      ]
     },
     "metadata": {
      "needs_background": "light"
     },
     "output_type": "display_data"
    }
   ],
   "source": [
    "data['arr_delay'].hist(bins=25)"
   ]
  },
  {
   "cell_type": "code",
   "execution_count": 15,
   "id": "6125e35e-350b-410a-a07f-359fc9483999",
   "metadata": {},
   "outputs": [],
   "source": [
    "X, y = load(data_set='full', time_period='month')"
   ]
  },
  {
   "cell_type": "code",
   "execution_count": 19,
   "id": "9915a345-4e51-4493-86b6-fc5e6245f019",
   "metadata": {},
   "outputs": [
    {
     "data": {
      "text/plain": [
       "<AxesSubplot:>"
      ]
     },
     "execution_count": 19,
     "metadata": {},
     "output_type": "execute_result"
    },
    {
     "data": {
      "image/png": "[encoded data removed]",
      "text/plain": [
       "<Figure size 432x288 with 1 Axes>"
      ]
     },
     "metadata": {
      "needs_background": "light"
     },
     "output_type": "display_data"
    }
   ],
   "source": [
    "y['arr_delay'].hist(bins=25)"
   ]
  },
  {
   "cell_type": "code",
   "execution_count": 13,
   "id": "20f37862-bb49-4d53-91ee-d1189b97acf2",
   "metadata": {},
   "outputs": [],
   "source": [
    "# The time period of the averages being used needs to mach the time period of\n",
    "# the data being trained. i.e. first week. 56,957 planes flew in january that\n",
    "# did not fly in the first week. This mismatch leads to NANs galore."
   ]
  },
  {
   "cell_type": "code",
   "execution_count": 9,
   "id": "ca1bddeb-5365-4ddf-b50f-f623e2f4df9d",
   "metadata": {},
   "outputs": [
    {
     "data": {
      "text/html": [
       "<div>\n",
       "<style scoped>\n",
       "    .dataframe tbody tr th:only-of-type {\n",
       "        vertical-align: middle;\n",
       "    }\n",
       "\n",
       "    .dataframe tbody tr th {\n",
       "        vertical-align: top;\n",
       "    }\n",
       "\n",
       "    .dataframe thead th {\n",
       "        text-align: right;\n",
       "    }\n",
       "</style>\n",
       "<table border=\"1\" class=\"dataframe\">\n",
       "  <thead>\n",
       "    <tr style=\"text-align: right;\">\n",
       "      <th></th>\n",
       "      <th>fl_date</th>\n",
       "      <th>crs_arr_time</th>\n",
       "      <th>distance</th>\n",
       "      <th>origin_month_mean_dep_delay</th>\n",
       "      <th>dest_month_mean_arr_delay</th>\n",
       "      <th>tail_num_month_mean_arr_delay</th>\n",
       "      <th>op_unique_carrier_month_mean_arr_delay</th>\n",
       "    </tr>\n",
       "  </thead>\n",
       "  <tbody>\n",
       "    <tr>\n",
       "      <th>0</th>\n",
       "      <td>1</td>\n",
       "      <td>2248</td>\n",
       "      <td>442</td>\n",
       "      <td>7.383641</td>\n",
       "      <td>1.644330</td>\n",
       "      <td>-5.102804</td>\n",
       "      <td>-6.075437</td>\n",
       "    </tr>\n",
       "    <tr>\n",
       "      <th>1</th>\n",
       "      <td>1</td>\n",
       "      <td>2357</td>\n",
       "      <td>2475</td>\n",
       "      <td>3.712522</td>\n",
       "      <td>-1.290522</td>\n",
       "      <td>-11.301205</td>\n",
       "      <td>-7.776886</td>\n",
       "    </tr>\n",
       "    <tr>\n",
       "      <th>2</th>\n",
       "      <td>1</td>\n",
       "      <td>1605</td>\n",
       "      <td>763</td>\n",
       "      <td>4.151080</td>\n",
       "      <td>-5.567066</td>\n",
       "      <td>-4.138889</td>\n",
       "      <td>-7.776886</td>\n",
       "    </tr>\n",
       "    <tr>\n",
       "      <th>3</th>\n",
       "      <td>1</td>\n",
       "      <td>2309</td>\n",
       "      <td>763</td>\n",
       "      <td>4.151080</td>\n",
       "      <td>-5.567066</td>\n",
       "      <td>-11.062500</td>\n",
       "      <td>-7.776886</td>\n",
       "    </tr>\n",
       "    <tr>\n",
       "      <th>4</th>\n",
       "      <td>1</td>\n",
       "      <td>757</td>\n",
       "      <td>2475</td>\n",
       "      <td>3.712522</td>\n",
       "      <td>-1.290522</td>\n",
       "      <td>-2.909091</td>\n",
       "      <td>-7.776886</td>\n",
       "    </tr>\n",
       "    <tr>\n",
       "      <th>...</th>\n",
       "      <td>...</td>\n",
       "      <td>...</td>\n",
       "      <td>...</td>\n",
       "      <td>...</td>\n",
       "      <td>...</td>\n",
       "      <td>...</td>\n",
       "      <td>...</td>\n",
       "    </tr>\n",
       "    <tr>\n",
       "      <th>143052</th>\n",
       "      <td>7</td>\n",
       "      <td>1256</td>\n",
       "      <td>257</td>\n",
       "      <td>6.080777</td>\n",
       "      <td>4.134328</td>\n",
       "      <td>12.127517</td>\n",
       "      <td>6.123259</td>\n",
       "    </tr>\n",
       "    <tr>\n",
       "      <th>143053</th>\n",
       "      <td>7</td>\n",
       "      <td>1457</td>\n",
       "      <td>507</td>\n",
       "      <td>7.059851</td>\n",
       "      <td>0.812602</td>\n",
       "      <td>8.146341</td>\n",
       "      <td>6.123259</td>\n",
       "    </tr>\n",
       "    <tr>\n",
       "      <th>143054</th>\n",
       "      <td>7</td>\n",
       "      <td>1715</td>\n",
       "      <td>507</td>\n",
       "      <td>5.919394</td>\n",
       "      <td>-0.653183</td>\n",
       "      <td>8.146341</td>\n",
       "      <td>6.123259</td>\n",
       "    </tr>\n",
       "    <tr>\n",
       "      <th>143055</th>\n",
       "      <td>7</td>\n",
       "      <td>1605</td>\n",
       "      <td>479</td>\n",
       "      <td>8.867728</td>\n",
       "      <td>2.790318</td>\n",
       "      <td>15.367188</td>\n",
       "      <td>6.123259</td>\n",
       "    </tr>\n",
       "    <tr>\n",
       "      <th>143056</th>\n",
       "      <td>7</td>\n",
       "      <td>1646</td>\n",
       "      <td>490</td>\n",
       "      <td>6.080777</td>\n",
       "      <td>1.644330</td>\n",
       "      <td>2.668421</td>\n",
       "      <td>6.123259</td>\n",
       "    </tr>\n",
       "  </tbody>\n",
       "</table>\n",
       "<p>143057 rows × 7 columns</p>\n",
       "</div>"
      ],
      "text/plain": [
       "        fl_date  crs_arr_time  distance  origin_month_mean_dep_delay  \\\n",
       "0             1          2248       442                     7.383641   \n",
       "1             1          2357      2475                     3.712522   \n",
       "2             1          1605       763                     4.151080   \n",
       "3             1          2309       763                     4.151080   \n",
       "4             1           757      2475                     3.712522   \n",
       "...         ...           ...       ...                          ...   \n",
       "143052        7          1256       257                     6.080777   \n",
       "143053        7          1457       507                     7.059851   \n",
       "143054        7          1715       507                     5.919394   \n",
       "143055        7          1605       479                     8.867728   \n",
       "143056        7          1646       490                     6.080777   \n",
       "\n",
       "        dest_month_mean_arr_delay  tail_num_month_mean_arr_delay  \\\n",
       "0                        1.644330                      -5.102804   \n",
       "1                       -1.290522                     -11.301205   \n",
       "2                       -5.567066                      -4.138889   \n",
       "3                       -5.567066                     -11.062500   \n",
       "4                       -1.290522                      -2.909091   \n",
       "...                           ...                            ...   \n",
       "143052                   4.134328                      12.127517   \n",
       "143053                   0.812602                       8.146341   \n",
       "143054                  -0.653183                       8.146341   \n",
       "143055                   2.790318                      15.367188   \n",
       "143056                   1.644330                       2.668421   \n",
       "\n",
       "        op_unique_carrier_month_mean_arr_delay  \n",
       "0                                    -6.075437  \n",
       "1                                    -7.776886  \n",
       "2                                    -7.776886  \n",
       "3                                    -7.776886  \n",
       "4                                    -7.776886  \n",
       "...                                        ...  \n",
       "143052                                6.123259  \n",
       "143053                                6.123259  \n",
       "143054                                6.123259  \n",
       "143055                                6.123259  \n",
       "143056                                6.123259  \n",
       "\n",
       "[143057 rows x 7 columns]"
      ]
     },
     "execution_count": 9,
     "metadata": {},
     "output_type": "execute_result"
    }
   ],
   "source": [
    "X"
   ]
  },
  {
   "cell_type": "code",
   "execution_count": 10,
   "id": "f66e37c9-e70f-497f-a7e6-f2e3eda5cdd9",
   "metadata": {},
   "outputs": [
    {
     "data": {
      "text/plain": [
       "fl_date                                   0\n",
       "crs_arr_time                              0\n",
       "distance                                  0\n",
       "origin_month_mean_dep_delay               0\n",
       "dest_month_mean_arr_delay                 0\n",
       "tail_num_month_mean_arr_delay             0\n",
       "op_unique_carrier_month_mean_arr_delay    0\n",
       "dtype: int64"
      ]
     },
     "execution_count": 10,
     "metadata": {},
     "output_type": "execute_result"
    }
   ],
   "source": [
    "X.isna().sum()"
   ]
  },
  {
   "cell_type": "code",
   "execution_count": 11,
   "id": "dc311aed-f108-4b46-8829-65b9ad6991b7",
   "metadata": {},
   "outputs": [
    {
     "data": {
      "image/png": "[encoded data removed]",
      "text/plain": [
       "<Figure size 576x576 with 2 Axes>"
      ]
     },
     "metadata": {
      "needs_background": "light"
     },
     "output_type": "display_data"
    }
   ],
   "source": [
    "fig, ax = plt.subplots(figsize=(8, 8))\n",
    "ax = sns.heatmap(X.corr())\n",
    "plt.show()"
   ]
  },
  {
   "cell_type": "markdown",
   "id": "2a948d1d-5d7d-48f4-bd19-c11d2fa7041e",
   "metadata": {
    "tags": []
   },
   "source": [
    "## Data Split"
   ]
  },
  {
   "cell_type": "markdown",
   "id": "66dbb6ee-aa0d-4441-9aad-9b0f3b6ed8ff",
   "metadata": {
    "tags": []
   },
   "source": [
    "## Preprocessing"
   ]
  },
  {
   "cell_type": "code",
   "execution_count": 13,
   "id": "880b55c4-c6c0-40fc-b5aa-8f7b44a7ec61",
   "metadata": {},
   "outputs": [],
   "source": [
    "# NA replacement\n",
    "# Convert categorical features to numerical\n",
    "# For numeric\n",
    "# Scale and transform"
   ]
  },
  {
   "cell_type": "markdown",
   "id": "ad6f9ee6-41aa-4b8a-8105-64f0e0f23fb7",
   "metadata": {},
   "source": [
    "### Train Test Split"
   ]
  },
  {
   "cell_type": "code",
   "execution_count": 16,
   "id": "a68779ed-9132-4692-98bf-b574c13417ec",
   "metadata": {},
   "outputs": [],
   "source": [
    "X_train, X_test, y_train, y_test = train_test_split(\n",
    "    X, y['arr_delay'],\n",
    "    train_size=0.8,\n",
    "    test_size=0.2,\n",
    "    stratify=y['is_delayed'],\n",
    "    random_state=rs\n",
    ")\n",
    "\n",
    "# X_train.reset_index(drop=True, inplace=True)\n",
    "# X_test.reset_index(drop=True, inplace=True)\n",
    "\n",
    "# y_train.reset_index(drop=True, inplace=True)\n",
    "# y_test.reset_index(drop=True, inplace=True)"
   ]
  },
  {
   "cell_type": "code",
   "execution_count": 25,
   "id": "2312472b-04ca-46a1-b473-d7c56c9916a7",
   "metadata": {},
   "outputs": [
    {
     "data": {
      "text/plain": [
       "<AxesSubplot:>"
      ]
     },
     "execution_count": 25,
     "metadata": {},
     "output_type": "execute_result"
    },
    {
     "data": {
      "image/png": "[encoded data removed]",
      "text/plain": [
       "<Figure size 432x288 with 1 Axes>"
      ]
     },
     "metadata": {
      "needs_background": "light"
     },
     "output_type": "display_data"
    }
   ],
   "source": [
    "y_train.hist(bins=25)"
   ]
  },
  {
   "cell_type": "markdown",
   "id": "4c8c292e-ef84-4fe7-9c10-28eb03d825fa",
   "metadata": {},
   "source": [
    "### Numerical"
   ]
  },
  {
   "cell_type": "code",
   "execution_count": 17,
   "id": "141ddd64-039b-4738-8a85-950812ac8176",
   "metadata": {},
   "outputs": [
    {
     "data": {
      "text/html": [
       "<div>\n",
       "<style scoped>\n",
       "    .dataframe tbody tr th:only-of-type {\n",
       "        vertical-align: middle;\n",
       "    }\n",
       "\n",
       "    .dataframe tbody tr th {\n",
       "        vertical-align: top;\n",
       "    }\n",
       "\n",
       "    .dataframe thead th {\n",
       "        text-align: right;\n",
       "    }\n",
       "</style>\n",
       "<table border=\"1\" class=\"dataframe\">\n",
       "  <thead>\n",
       "    <tr style=\"text-align: right;\">\n",
       "      <th></th>\n",
       "      <th>fl_date</th>\n",
       "      <th>crs_arr_time</th>\n",
       "      <th>distance</th>\n",
       "      <th>origin_month_mean_dep_delay</th>\n",
       "      <th>dest_month_mean_arr_delay</th>\n",
       "      <th>tail_num_month_mean_arr_delay</th>\n",
       "      <th>op_unique_carrier_month_mean_arr_delay</th>\n",
       "    </tr>\n",
       "  </thead>\n",
       "  <tbody>\n",
       "    <tr>\n",
       "      <th>0</th>\n",
       "      <td>0.000000</td>\n",
       "      <td>0.264277</td>\n",
       "      <td>0.509895</td>\n",
       "      <td>0.467510</td>\n",
       "      <td>0.391697</td>\n",
       "      <td>0.282289</td>\n",
       "      <td>0.490234</td>\n",
       "    </tr>\n",
       "    <tr>\n",
       "      <th>1</th>\n",
       "      <td>0.666667</td>\n",
       "      <td>0.518549</td>\n",
       "      <td>0.202948</td>\n",
       "      <td>0.526787</td>\n",
       "      <td>0.513867</td>\n",
       "      <td>0.279366</td>\n",
       "      <td>0.442119</td>\n",
       "    </tr>\n",
       "    <tr>\n",
       "      <th>2</th>\n",
       "      <td>0.666667</td>\n",
       "      <td>0.598583</td>\n",
       "      <td>0.217286</td>\n",
       "      <td>0.611381</td>\n",
       "      <td>0.419763</td>\n",
       "      <td>0.219785</td>\n",
       "      <td>0.106616</td>\n",
       "    </tr>\n",
       "    <tr>\n",
       "      <th>3</th>\n",
       "      <td>0.333333</td>\n",
       "      <td>0.934139</td>\n",
       "      <td>0.219507</td>\n",
       "      <td>0.651451</td>\n",
       "      <td>0.456480</td>\n",
       "      <td>0.322226</td>\n",
       "      <td>0.335705</td>\n",
       "    </tr>\n",
       "    <tr>\n",
       "      <th>4</th>\n",
       "      <td>0.666667</td>\n",
       "      <td>0.687370</td>\n",
       "      <td>0.122779</td>\n",
       "      <td>0.499084</td>\n",
       "      <td>0.431164</td>\n",
       "      <td>0.351513</td>\n",
       "      <td>0.442119</td>\n",
       "    </tr>\n",
       "    <tr>\n",
       "      <th>...</th>\n",
       "      <td>...</td>\n",
       "      <td>...</td>\n",
       "      <td>...</td>\n",
       "      <td>...</td>\n",
       "      <td>...</td>\n",
       "      <td>...</td>\n",
       "      <td>...</td>\n",
       "    </tr>\n",
       "    <tr>\n",
       "      <th>114440</th>\n",
       "      <td>0.000000</td>\n",
       "      <td>0.430596</td>\n",
       "      <td>0.155493</td>\n",
       "      <td>0.651451</td>\n",
       "      <td>0.448000</td>\n",
       "      <td>0.326324</td>\n",
       "      <td>0.429781</td>\n",
       "    </tr>\n",
       "    <tr>\n",
       "      <th>114441</th>\n",
       "      <td>0.000000</td>\n",
       "      <td>0.810338</td>\n",
       "      <td>0.039580</td>\n",
       "      <td>0.433023</td>\n",
       "      <td>0.448000</td>\n",
       "      <td>0.344727</td>\n",
       "      <td>0.740736</td>\n",
       "    </tr>\n",
       "    <tr>\n",
       "      <th>114442</th>\n",
       "      <td>0.666667</td>\n",
       "      <td>0.375156</td>\n",
       "      <td>0.143578</td>\n",
       "      <td>0.582566</td>\n",
       "      <td>0.494449</td>\n",
       "      <td>0.368978</td>\n",
       "      <td>0.335705</td>\n",
       "    </tr>\n",
       "    <tr>\n",
       "      <th>114443</th>\n",
       "      <td>0.833333</td>\n",
       "      <td>0.961651</td>\n",
       "      <td>0.031099</td>\n",
       "      <td>0.593080</td>\n",
       "      <td>0.620260</td>\n",
       "      <td>0.281304</td>\n",
       "      <td>0.335705</td>\n",
       "    </tr>\n",
       "    <tr>\n",
       "      <th>114444</th>\n",
       "      <td>0.666667</td>\n",
       "      <td>0.606086</td>\n",
       "      <td>0.164580</td>\n",
       "      <td>0.578967</td>\n",
       "      <td>0.436179</td>\n",
       "      <td>0.308256</td>\n",
       "      <td>0.442119</td>\n",
       "    </tr>\n",
       "  </tbody>\n",
       "</table>\n",
       "<p>114445 rows × 7 columns</p>\n",
       "</div>"
      ],
      "text/plain": [
       "         fl_date  crs_arr_time  distance  origin_month_mean_dep_delay  \\\n",
       "0       0.000000      0.264277  0.509895                     0.467510   \n",
       "1       0.666667      0.518549  0.202948                     0.526787   \n",
       "2       0.666667      0.598583  0.217286                     0.611381   \n",
       "3       0.333333      0.934139  0.219507                     0.651451   \n",
       "4       0.666667      0.687370  0.122779                     0.499084   \n",
       "...          ...           ...       ...                          ...   \n",
       "114440  0.000000      0.430596  0.155493                     0.651451   \n",
       "114441  0.000000      0.810338  0.039580                     0.433023   \n",
       "114442  0.666667      0.375156  0.143578                     0.582566   \n",
       "114443  0.833333      0.961651  0.031099                     0.593080   \n",
       "114444  0.666667      0.606086  0.164580                     0.578967   \n",
       "\n",
       "        dest_month_mean_arr_delay  tail_num_month_mean_arr_delay  \\\n",
       "0                        0.391697                       0.282289   \n",
       "1                        0.513867                       0.279366   \n",
       "2                        0.419763                       0.219785   \n",
       "3                        0.456480                       0.322226   \n",
       "4                        0.431164                       0.351513   \n",
       "...                           ...                            ...   \n",
       "114440                   0.448000                       0.326324   \n",
       "114441                   0.448000                       0.344727   \n",
       "114442                   0.494449                       0.368978   \n",
       "114443                   0.620260                       0.281304   \n",
       "114444                   0.436179                       0.308256   \n",
       "\n",
       "        op_unique_carrier_month_mean_arr_delay  \n",
       "0                                     0.490234  \n",
       "1                                     0.442119  \n",
       "2                                     0.106616  \n",
       "3                                     0.335705  \n",
       "4                                     0.442119  \n",
       "...                                        ...  \n",
       "114440                                0.429781  \n",
       "114441                                0.740736  \n",
       "114442                                0.335705  \n",
       "114443                                0.335705  \n",
       "114444                                0.442119  \n",
       "\n",
       "[114445 rows x 7 columns]"
      ]
     },
     "execution_count": 17,
     "metadata": {},
     "output_type": "execute_result"
    }
   ],
   "source": [
    "# Scale numeric features\n",
    "scaler = MinMaxScaler()\n",
    "X_train_scaled = pd.DataFrame(\n",
    "    scaler.fit_transform(X=X_train),\n",
    "    columns=X_train.columns\n",
    ")\n",
    "X_test_scaled = pd.DataFrame(\n",
    "    scaler.transform(X=X_test),\n",
    "    columns=X_test.columns\n",
    "    )\n",
    "X_train_scaled"
   ]
  },
  {
   "cell_type": "code",
   "execution_count": 13,
   "id": "041454ab-d86f-4a92-9dd0-ef68ab867f03",
   "metadata": {},
   "outputs": [],
   "source": [
    "sm.jar(scaler, 'xgboost_scaler')"
   ]
  },
  {
   "cell_type": "markdown",
   "id": "778f3e71-20cb-4d00-b578-7c06d415fe1e",
   "metadata": {},
   "source": [
    "## Training"
   ]
  },
  {
   "cell_type": "markdown",
   "id": "40882d26-65ee-4068-8efc-0705205cc1e0",
   "metadata": {},
   "source": [
    "### Default"
   ]
  },
  {
   "cell_type": "markdown",
   "id": "a1c85f82-0aaa-4961-b2ee-5a051a79950a",
   "metadata": {},
   "source": [
    "[XGBoost.train](https://xgboost.readthedocs.io/en/stable/python/python_api.html?highlight=xgboost%20train#xgboost.train)\n",
    "\n",
    ">```Python\n",
    "xgb.train(params, dtrain, num_boost_round=10,  \n",
    "evals=(), obj=None, feval=None,  \n",
    "maximize=None, early_stopping_rounds=None, evals_result=None,  \n",
    "verbose_eval=True, xgb_model=None, callbacks=None)```\n",
    "\n",
    "[XGBRegressor().fit](https://xgboost.readthedocs.io/en/stable/python/python_api.html?highlight=fit#xgboost.XGBRegressor.fit)\n",
    "\n",
    ">```Python\n",
    "xgb.XGBRegressor().fit(X, y, *,  \n",
    "sample_weight=None, base_margin=None, eval_set=None,  \n",
    "eval_metric=None, early_stopping_rounds=None, verbose=True,  \n",
    "xgb_model=None, sample_weight_eval_set=None, base_margin_eval_set=None,  \n",
    "feature_weights=None, callbacks=None)```\n"
   ]
  },
  {
   "cell_type": "code",
   "execution_count": 27,
   "id": "f0f5de9f-d44b-4735-bc5a-9a9ca2502665",
   "metadata": {},
   "outputs": [
    {
     "data": {
      "text/plain": [
       "((114445, 7), (114445,))"
      ]
     },
     "execution_count": 27,
     "metadata": {},
     "output_type": "execute_result"
    }
   ],
   "source": [
    "X_train_scaled.shape, y_train.shape"
   ]
  },
  {
   "cell_type": "code",
   "execution_count": 43,
   "id": "30847ecb-ea83-432a-8351-96e71f8f0fc9",
   "metadata": {},
   "outputs": [
    {
     "data": {
      "text/plain": [
       "XGBRegressor(base_score=0.5, booster='gbtree', colsample_bylevel=1,\n",
       "             colsample_bynode=1, colsample_bytree=1, enable_categorical=False,\n",
       "             gamma=0, gpu_id=-1, importance_type=None,\n",
       "             interaction_constraints='', learning_rate=0.300000012,\n",
       "             max_delta_step=0, max_depth=6, min_child_weight=1, missing=nan,\n",
       "             monotone_constraints='()', n_estimators=100, n_jobs=8,\n",
       "             num_parallel_tree=1, predictor='auto', random_state=99,\n",
       "             reg_alpha=0, reg_lambda=1, scale_pos_weight=1, subsample=1,\n",
       "             tree_method='exact', validate_parameters=1, verbosity=None)"
      ]
     },
     "execution_count": 43,
     "metadata": {},
     "output_type": "execute_result"
    }
   ],
   "source": [
    "xg_reg_default = xgb.XGBRegressor(random_state=rs)  # rs\n",
    "xg_reg_default.fit(X=X_train_scaled, y=y_train)"
   ]
  },
  {
   "cell_type": "code",
   "execution_count": 44,
   "id": "1e2dc0e0-40d9-4453-a170-0115fdec91ef",
   "metadata": {},
   "outputs": [],
   "source": [
    "y_pred_default = xg_reg_default.predict(X_test_scaled)"
   ]
  },
  {
   "cell_type": "code",
   "execution_count": 45,
   "id": "8c0338b8-3420-4d71-bb3b-8e09a984f64c",
   "metadata": {},
   "outputs": [
    {
     "name": "stdout",
     "output_type": "stream",
     "text": [
      "RMSE: 23.96008296210779\n"
     ]
    }
   ],
   "source": [
    "# Root mean squared error\n",
    "rmse = mean_squared_error(\n",
    "    y_true=y_test,\n",
    "    y_pred=y_pred_default,\n",
    "    squared=False\n",
    ")\n",
    "print(f'RMSE: {rmse}')"
   ]
  },
  {
   "cell_type": "code",
   "execution_count": 46,
   "id": "fd40d8c1-d61d-4841-8699-8d2ea76b1fe3",
   "metadata": {},
   "outputs": [],
   "source": [
    "y_pred_df = pd.DataFrame(y_pred_default)"
   ]
  },
  {
   "cell_type": "code",
   "execution_count": 47,
   "id": "c69129d0-e88e-4039-97e5-fb20b76728c8",
   "metadata": {},
   "outputs": [
    {
     "data": {
      "text/plain": [
       "0    1.028491\n",
       "dtype: float32"
      ]
     },
     "execution_count": 47,
     "metadata": {},
     "output_type": "execute_result"
    }
   ],
   "source": [
    "y_pred_df.skew()"
   ]
  },
  {
   "cell_type": "code",
   "execution_count": 48,
   "id": "a6afb254-0740-46ff-ab5d-07ffabf869f8",
   "metadata": {},
   "outputs": [
    {
     "data": {
      "text/plain": [
       "array([[<AxesSubplot:title={'center':'0'}>]], dtype=object)"
      ]
     },
     "execution_count": 48,
     "metadata": {},
     "output_type": "execute_result"
    },
    {
     "data": {
      "image/png": "[encoded data removed]",
      "text/plain": [
       "<Figure size 432x288 with 1 Axes>"
      ]
     },
     "metadata": {
      "needs_background": "light"
     },
     "output_type": "display_data"
    }
   ],
   "source": [
    "y_pred_df.hist(bins=25)"
   ]
  },
  {
   "cell_type": "code",
   "execution_count": 49,
   "id": "d6d73383-c9fa-4d0d-ac92-0e990a0c6e43",
   "metadata": {},
   "outputs": [
    {
     "data": {
      "text/plain": [
       "<BarContainer object of 7 artists>"
      ]
     },
     "execution_count": 49,
     "metadata": {},
     "output_type": "execute_result"
    },
    {
     "data": {
      "image/png": "[encoded data removed]",
      "text/plain": [
       "<Figure size 432x288 with 1 Axes>"
      ]
     },
     "metadata": {
      "needs_background": "light"
     },
     "output_type": "display_data"
    }
   ],
   "source": [
    "plt.barh(X_train_scaled.columns, xg_reg_default.feature_importances_)"
   ]
  },
  {
   "cell_type": "markdown",
   "id": "05d26285-77bb-44c4-b94d-7395011b8f2c",
   "metadata": {
    "jp-MarkdownHeadingCollapsed": true,
    "tags": []
   },
   "source": [
    "## Grid Search"
   ]
  },
  {
   "cell_type": "code",
   "execution_count": null,
   "id": "82f28864-cd3c-4b30-9267-149dad86f11f",
   "metadata": {},
   "outputs": [],
   "source": [
    "params = {\n",
    "    'n_estimators' : [10, 50, 100],\n",
    "    'max_depth' : [3, 6, 10],\n",
    "    'learning_rate' : [0.01, 0.1, 0.3, 0.5],\n",
    "    'objective' : 'reg:squarederror',\n",
    "    'gamma' : [0, 0.1, 0.2]\n",
    "    'reg_lambda' : ,\n",
    "    'random_state'=rs\n",
    "}"
   ]
  },
  {
   "cell_type": "code",
   "execution_count": null,
   "id": "2b8e550a-cf5e-4848-89e2-f97ca583bee3",
   "metadata": {},
   "outputs": [],
   "source": [
    "GS = GridSearchCV(\n",
    "    estimator=xgb.XGBRegressor(),\n",
    "    param_grid=params,\n",
    "    n_jobs=-1\n",
    ")"
   ]
  },
  {
   "cell_type": "code",
   "execution_count": null,
   "id": "1ed4a461-83a5-4c88-8800-c7ab6b87e2a5",
   "metadata": {},
   "outputs": [],
   "source": []
  },
  {
   "cell_type": "markdown",
   "id": "5354d673-ac7a-4738-b60a-f260225aa372",
   "metadata": {
    "jp-MarkdownHeadingCollapsed": true,
    "tags": []
   },
   "source": [
    "## Forest Minimize"
   ]
  },
  {
   "cell_type": "code",
   "execution_count": 23,
   "id": "6ea53ebc-ffaa-498d-897e-7916d15051f1",
   "metadata": {},
   "outputs": [],
   "source": [
    "reg = xgb.XGBRegressor(random_state=rs)\n",
    "\n",
    "space = space = [\n",
    "    Real(1e-3, 1e0, prior='log-uniform', name='learning_rate'),\n",
    "    Integer(10, 100, name='n_estimators'),\n",
    "    Integer(1, 10, name='max_depth'),\n",
    "    Real(1, 6., name='min_child_weight'),\n",
    "    Real(0, 0.5, name='gamma'),\n",
    "    Real(0.5, 1., name='subsample'),\n",
    "    Real(0.5, 1., name='colsample_bytree'),\n",
    "    Real(0, 5., name='reg_lambda'),  #  L2 regularization\n",
    "    Real(0, 5., name='reg_alpha'),  #  L1 regularization\n",
    "]"
   ]
  },
  {
   "cell_type": "code",
   "execution_count": 24,
   "id": "fdfbe4b0-b7a3-48ba-a6f1-98e3e8adbe61",
   "metadata": {},
   "outputs": [],
   "source": [
    "@use_named_args(space)\n",
    "def tune_xgbr(**params):\n",
    "    # Implementation from Pedro Couto (https://www.kaggle.com/general/17120)\n",
    "    \"\"\"\n",
    "    Function to be passed as scikit-optimize minimizer/maximizer input\n",
    "\n",
    "    Parameters\n",
    "    ----------\n",
    "    Tuples with information about the range that the optimizer should\n",
    "    use for that parameter, as well as the behaviour that it should\n",
    "    follow in that range.\n",
    "\n",
    "    Returns\n",
    "    -------\n",
    "    float : the metric that should be minimized.\n",
    "        If the objective is maximization, then the negative of the\n",
    "        desired metric must be returned. e.g. AUC for classifiers\n",
    "    \"\"\"\n",
    "    \n",
    "    reg.set_params(**params)\n",
    "\n",
    "    print(params)\n",
    "\n",
    "    #Cross-Validation in order to avoid overfitting\n",
    "    rmse = -cross_val_score(\n",
    "        estimator=reg,\n",
    "        X=X_train,\n",
    "        y=y_train,\n",
    "        cv=10,\n",
    "        scoring='neg_root_mean_squared_error'\n",
    "    )\n",
    "\n",
    "    # as the function is minimization (forest_minimize)\n",
    "    return rmse.mean()"
   ]
  },
  {
   "cell_type": "code",
   "execution_count": 25,
   "id": "4756daa9-0216-4da2-b411-87d61f96abe5",
   "metadata": {
    "tags": []
   },
   "outputs": [
    {
     "name": "stdout",
     "output_type": "stream",
     "text": [
      "Iteration No: 1 started. Evaluating function at random point.\n",
      "{'learning_rate': 0.14710215098785087, 'n_estimators': 50, 'max_depth': 10, 'min_child_weight': 4.670313024202228, 'gamma': 0.35050452801603815, 'subsample': 0.5966565518290453, 'colsample_bytree': 0.9886740308166388, 'reg_lambda': 2.888631561647941, 'reg_alpha': 2.568831443437465}\n",
      "Iteration No: 1 ended. Evaluation done at random point.\n",
      "Time taken: 20.1274\n",
      "Function value obtained: 23.9196\n",
      "Current minimum: 23.9196\n",
      "Iteration No: 2 started. Evaluating function at random point.\n",
      "{'learning_rate': 0.3585551831180751, 'n_estimators': 69, 'max_depth': 7, 'min_child_weight': 2.3694684113102813, 'gamma': 0.3203007220381459, 'subsample': 0.7468078378369938, 'colsample_bytree': 0.6683861536120936, 'reg_lambda': 3.0816090254282225, 'reg_alpha': 1.8025363226963689}\n",
      "Iteration No: 2 ended. Evaluation done at random point.\n",
      "Time taken: 14.5499\n",
      "Function value obtained: 24.1218\n",
      "Current minimum: 23.9196\n",
      "Iteration No: 3 started. Evaluating function at random point.\n",
      "{'learning_rate': 0.009886210731536569, 'n_estimators': 57, 'max_depth': 6, 'min_child_weight': 2.6345175807061336, 'gamma': 0.20471376014629672, 'subsample': 0.8670696068267119, 'colsample_bytree': 0.8543036088948786, 'reg_lambda': 1.4101925800756574, 'reg_alpha': 4.617839054077021}\n",
      "Iteration No: 3 ended. Evaluation done at random point.\n",
      "Time taken: 11.8675\n",
      "Function value obtained: 26.1109\n",
      "Current minimum: 23.9196\n",
      "Iteration No: 4 started. Evaluating function at random point.\n",
      "{'learning_rate': 0.01695376120878389, 'n_estimators': 36, 'max_depth': 3, 'min_child_weight': 1.2163671482974006, 'gamma': 0.3093102726968574, 'subsample': 0.6444008020461015, 'colsample_bytree': 0.5401999585784829, 'reg_lambda': 2.7057187809294523, 'reg_alpha': 0.44141304037026435}\n",
      "Iteration No: 4 ended. Evaluation done at random point.\n",
      "Time taken: 3.7098\n",
      "Function value obtained: 26.5037\n",
      "Current minimum: 23.9196\n",
      "Iteration No: 5 started. Evaluating function at random point.\n",
      "{'learning_rate': 0.2688139015118557, 'n_estimators': 51, 'max_depth': 2, 'min_child_weight': 1.3463223782269071, 'gamma': 0.049451046316126804, 'subsample': 0.8529378284844689, 'colsample_bytree': 0.688782388501196, 'reg_lambda': 1.5604489684760023, 'reg_alpha': 0.974648912432672}\n",
      "Iteration No: 5 ended. Evaluation done at random point.\n",
      "Time taken: 3.5204\n",
      "Function value obtained: 25.7150\n",
      "Current minimum: 23.9196\n",
      "Iteration No: 6 started. Evaluating function at random point.\n",
      "{'learning_rate': 0.658510901450962, 'n_estimators': 21, 'max_depth': 4, 'min_child_weight': 4.146367215920942, 'gamma': 0.16914134194192373, 'subsample': 0.9753129481087384, 'colsample_bytree': 0.9836387986922195, 'reg_lambda': 0.7385648140345203, 'reg_alpha': 4.0139151196695275}\n",
      "Iteration No: 6 ended. Evaluation done at random point.\n",
      "Time taken: 2.8886\n",
      "Function value obtained: 24.9668\n",
      "Current minimum: 23.9196\n",
      "Iteration No: 7 started. Evaluating function at random point.\n",
      "{'learning_rate': 0.001427327650456945, 'n_estimators': 45, 'max_depth': 6, 'min_child_weight': 5.577312494899226, 'gamma': 0.46958871144265596, 'subsample': 0.9187467962876275, 'colsample_bytree': 0.7163946675955536, 'reg_lambda': 3.580564759611335, 'reg_alpha': 4.256719953358928}\n",
      "Iteration No: 7 ended. Evaluation done at random point.\n",
      "Time taken: 9.6377\n",
      "Function value obtained: 26.7318\n",
      "Current minimum: 23.9196\n",
      "Iteration No: 8 started. Evaluating function at random point.\n",
      "{'learning_rate': 0.0017263945484235618, 'n_estimators': 51, 'max_depth': 8, 'min_child_weight': 5.882256611084301, 'gamma': 0.35264417962342864, 'subsample': 0.8183100513557293, 'colsample_bytree': 0.6026933554333226, 'reg_lambda': 1.465325564669452, 'reg_alpha': 0.8000503701575158}\n",
      "Iteration No: 8 ended. Evaluation done at random point.\n",
      "Time taken: 14.1420\n",
      "Function value obtained: 26.6798\n",
      "Current minimum: 23.9196\n",
      "Iteration No: 9 started. Evaluating function at random point.\n",
      "{'learning_rate': 0.008162056774339899, 'n_estimators': 69, 'max_depth': 10, 'min_child_weight': 5.78989999469543, 'gamma': 0.00789111017658395, 'subsample': 0.656297228874798, 'colsample_bytree': 0.5244563434880195, 'reg_lambda': 4.373854462266657, 'reg_alpha': 3.4687894974140017}\n",
      "Iteration No: 9 ended. Evaluation done at random point.\n",
      "Time taken: 23.6708\n",
      "Function value obtained: 26.0792\n",
      "Current minimum: 23.9196\n",
      "Iteration No: 10 started. Evaluating function at random point.\n",
      "{'learning_rate': 0.3017696588597796, 'n_estimators': 74, 'max_depth': 10, 'min_child_weight': 1.5891553115110328, 'gamma': 0.2863480282808417, 'subsample': 0.5585458819428567, 'colsample_bytree': 0.7131576564923583, 'reg_lambda': 4.053911783640279, 'reg_alpha': 3.6127839697624204}\n",
      "Iteration No: 10 ended. Evaluation done at random point.\n",
      "Time taken: 26.5141\n",
      "Function value obtained: 24.2158\n",
      "Current minimum: 23.9196\n"
     ]
    }
   ],
   "source": [
    "result = forest_minimize(\n",
    "    func=tune_xgbr,\n",
    "    dimensions=space,\n",
    "    n_calls=10,  # default=100\n",
    "    n_initial_points=10,  # default=10\n",
    "    random_state=rs,\n",
    "    verbose=True,\n",
    "    callback=[DeltaYStopper(delta=0.0001, n_best=5)],\n",
    "    n_jobs=-1\n",
    ")"
   ]
  },
  {
   "cell_type": "code",
   "execution_count": 28,
   "id": "08db39c5-571a-43b8-8392-15df4fdd6010",
   "metadata": {},
   "outputs": [
    {
     "data": {
      "text/plain": [
       "[0.14710215098785087,\n",
       " 50,\n",
       " 10,\n",
       " 4.670313024202228,\n",
       " 0.35050452801603815,\n",
       " 0.5966565518290453,\n",
       " 0.9886740308166388,\n",
       " 2.888631561647941,\n",
       " 2.568831443437465]"
      ]
     },
     "execution_count": 28,
     "metadata": {},
     "output_type": "execute_result"
    }
   ],
   "source": [
    "result"
   ]
  },
  {
   "cell_type": "markdown",
   "id": "172b477d-7d2e-4cb5-af37-127f421ae47b",
   "metadata": {},
   "source": [
    "Test 1\n",
    "```Python\n",
    "{'learning_rate': 0.001427327650456945, 'n_estimators': 45, 'max_depth': 6, 'min_child_weight': 5.577312494899226, 'gamma': 0.46958871144265596, 'subsample': 0.9187467962876275, 'colsample_bytree': 0.7163946675955536, 'reg_lambda': 3.580564759611335, 'reg_alpha': 4.256719953358928}\n",
    "```\n",
    "\n",
    "Test 2\n",
    "```Python\n",
    "{'learning_rate': 0.14710215098785087, 'n_estimators': 50, 'max_depth': 10, 'min_child_weight': 4.670313024202228, 'gamma': 0.35050452801603815, 'subsample': 0.5966565518290453, 'colsample_bytree': 0.9886740308166388, 'reg_lambda': 2.888631561647941, 'reg_alpha': 2.568831443437465}\n",
    "```"
   ]
  },
  {
   "cell_type": "markdown",
   "id": "c4277f90-49fc-42ec-b275-bd3e57941d11",
   "metadata": {},
   "source": [
    "## Train optimized model"
   ]
  },
  {
   "cell_type": "code",
   "execution_count": 50,
   "id": "394c5695-412e-4e59-80a7-4c41842c43e3",
   "metadata": {},
   "outputs": [],
   "source": [
    "# See documentation for all XGBoost parameters\n",
    "# https://xgboost.readthedocs.io/en/stable/parameter.html\n",
    "\n",
    "# typical values from\n",
    "# 1. https://machinelearningmastery.com/xgboost-for-regression/\n",
    "# 2. https://www.analyticsvidhya.com/blog/2016/03/\n",
    "#        complete-guide-parameter-tuning-xgboost-with-codes-python/\n",
    "\n",
    "\n",
    "# Tree Booster Parameters\n",
    "# learning_rate default 0.3 range [0, 1]\n",
    "# n_estimators numer of trees\n",
    "# max_depth default 6 typical 1–10\n",
    "# colsample_bytree default 1 range (0, 1]\n",
    "# lambda # L2 regularization default 1\n",
    "# alpha # L1 regularization default 0\n",
    "# Use both lambda and alpha for Elastic Net Regression\n",
    "booster_parameters = {\n",
    "    'learning_rate': 0.14710215098785087,\n",
    "    'n_estimators': 50, \n",
    "    'max_depth': 10, \n",
    "    'min_child_weight': 4.670313024202228, \n",
    "    'gamma': 0.35050452801603815, \n",
    "    'subsample': 0.5966565518290453, \n",
    "    'colsample_bytree': 0.9886740308166388, \n",
    "    'reg_lambda': 2.888631561647941, \n",
    "    'reg_alpha': 2.568831443437465\n",
    "}\n",
    "\n",
    "# Learning Task Parameters\n",
    "learning_parameters = {\n",
    "    'objective' : 'reg:squarederror',  # default reg:squarederror\n",
    "    'eval_metric' : 'rmse',  # regression default 'rmse'\n",
    "    \"seed\" : rs  # random seed\n",
    "}\n",
    "\n",
    "op = booster_parameters | learning_parameters"
   ]
  },
  {
   "cell_type": "code",
   "execution_count": 51,
   "id": "b3657ffd-0719-4225-94d6-68df7213ef12",
   "metadata": {},
   "outputs": [],
   "source": [
    "# SKlearn wrapper\n",
    "xg_reg = xgb.XGBRegressor(\n",
    "    learning_rate=op['learning_rate'],\n",
    "    n_estimators=op['n_estimators'],\n",
    "    max_depth=op['max_depth'],\n",
    "    min_child_weight=op['min_child_weight'],\n",
    "    gamma=op['gamma'],\n",
    "    subsample=op['subsample'],\n",
    "    colsample_bytree = op['colsample_bytree'],\n",
    "    reg_lambda=op['reg_lambda'],\n",
    "    reg_alpha = op['reg_alpha'],\n",
    "    objective=op['objective'],\n",
    "    eval_metric=op['eval_metric'],\n",
    "    seed=op['seed'],\n",
    ")"
   ]
  },
  {
   "cell_type": "code",
   "execution_count": 52,
   "id": "62cd6fda-df97-4139-8760-f7b5256bcc16",
   "metadata": {},
   "outputs": [
    {
     "data": {
      "text/plain": [
       "XGBRegressor(base_score=0.5, booster='gbtree', colsample_bylevel=1,\n",
       "             colsample_bynode=1, colsample_bytree=0.9886740308166388,\n",
       "             enable_categorical=False, eval_metric='rmse',\n",
       "             gamma=0.35050452801603815, gpu_id=-1, importance_type=None,\n",
       "             interaction_constraints='', learning_rate=0.14710215098785087,\n",
       "             max_delta_step=0, max_depth=10, min_child_weight=4.670313024202228,\n",
       "             missing=nan, monotone_constraints='()', n_estimators=50, n_jobs=8,\n",
       "             num_parallel_tree=1, predictor='auto', random_state=99,\n",
       "             reg_alpha=2.568831443437465, reg_lambda=2.888631561647941,\n",
       "             scale_pos_weight=1, seed=99, subsample=0.5966565518290453,\n",
       "             tree_method='exact', validate_parameters=1, verbosity=None)"
      ]
     },
     "execution_count": 52,
     "metadata": {},
     "output_type": "execute_result"
    }
   ],
   "source": [
    "xg_reg.fit(X=X_train_scaled, y=y_train)"
   ]
  },
  {
   "cell_type": "markdown",
   "id": "879dc6f0-31cf-4ed5-8133-721134cd1789",
   "metadata": {},
   "source": [
    "### Load model"
   ]
  },
  {
   "cell_type": "code",
   "execution_count": 18,
   "id": "bde1ebab-b7f1-46b3-be68-1891f107e0ce",
   "metadata": {},
   "outputs": [],
   "source": [
    "# load model from file\n",
    "xg_reg = pickle.load(open('models/flight_delay_xgboost.pickle.dat', 'rb'))"
   ]
  },
  {
   "cell_type": "markdown",
   "id": "74c8f353-6084-4dbc-b5ef-cbd461bdb621",
   "metadata": {},
   "source": [
    "## Validating First week of 2019"
   ]
  },
  {
   "cell_type": "code",
   "execution_count": 19,
   "id": "aafcfd42-82e2-4803-97ca-1e9e6b807e08",
   "metadata": {},
   "outputs": [],
   "source": [
    "y_pred_2019 = xg_reg.predict(X_test_scaled)"
   ]
  },
  {
   "cell_type": "code",
   "execution_count": 20,
   "id": "0e8769ad-8039-4b85-bb89-0fbe76918ccb",
   "metadata": {},
   "outputs": [
    {
     "name": "stdout",
     "output_type": "stream",
     "text": [
      "RMSE: 23.9360998038771\n"
     ]
    }
   ],
   "source": [
    "# Root mean squared error\n",
    "rmse = mean_squared_error(\n",
    "    y_true=y_test,\n",
    "    y_pred=y_pred_2019,\n",
    "    squared=False\n",
    ")\n",
    "print(f'RMSE: {rmse}')"
   ]
  },
  {
   "cell_type": "code",
   "execution_count": 50,
   "id": "697a3622-3fe6-4849-b8a7-3662a4541426",
   "metadata": {},
   "outputs": [
    {
     "ename": "AttributeError",
     "evalue": "'numpy.ndarray' object has no attribute 'describe'",
     "output_type": "error",
     "traceback": [
      "\u001b[0;31m---------------------------------------------------------------------------\u001b[0m",
      "\u001b[0;31mAttributeError\u001b[0m                            Traceback (most recent call last)",
      "\u001b[0;32m/var/folders/kl/ffj9qs1d5cd9lwrlh8wdjl640000gn/T/ipykernel_30424/54578166.py\u001b[0m in \u001b[0;36m<module>\u001b[0;34m\u001b[0m\n\u001b[0;32m----> 1\u001b[0;31m \u001b[0my_pred_2019\u001b[0m\u001b[0;34m.\u001b[0m\u001b[0mdescribe\u001b[0m\u001b[0;34m(\u001b[0m\u001b[0;34m)\u001b[0m\u001b[0;34m\u001b[0m\u001b[0;34m\u001b[0m\u001b[0m\n\u001b[0m",
      "\u001b[0;31mAttributeError\u001b[0m: 'numpy.ndarray' object has no attribute 'describe'"
     ]
    }
   ],
   "source": [
    "y_pred_2019.describe()"
   ]
  },
  {
   "cell_type": "code",
   "execution_count": 25,
   "id": "e4cbfafa-cdef-475a-9025-f7e1decdbe9c",
   "metadata": {},
   "outputs": [],
   "source": [
    "diff = pd.DataFrame(y_pred_2019 - y_test)"
   ]
  },
  {
   "cell_type": "code",
   "execution_count": 57,
   "id": "cab5aa1d-adc3-4768-a11a-8bbe488c3241",
   "metadata": {},
   "outputs": [
    {
     "data": {
      "text/html": [
       "<div>\n",
       "<style scoped>\n",
       "    .dataframe tbody tr th:only-of-type {\n",
       "        vertical-align: middle;\n",
       "    }\n",
       "\n",
       "    .dataframe tbody tr th {\n",
       "        vertical-align: top;\n",
       "    }\n",
       "\n",
       "    .dataframe thead th {\n",
       "        text-align: right;\n",
       "    }\n",
       "</style>\n",
       "<table border=\"1\" class=\"dataframe\">\n",
       "  <thead>\n",
       "    <tr style=\"text-align: right;\">\n",
       "      <th></th>\n",
       "      <th>arr_delay</th>\n",
       "    </tr>\n",
       "  </thead>\n",
       "  <tbody>\n",
       "    <tr>\n",
       "      <th>count</th>\n",
       "      <td>28612.000000</td>\n",
       "    </tr>\n",
       "    <tr>\n",
       "      <th>mean</th>\n",
       "      <td>0.105109</td>\n",
       "    </tr>\n",
       "    <tr>\n",
       "      <th>std</th>\n",
       "      <td>23.936287</td>\n",
       "    </tr>\n",
       "    <tr>\n",
       "      <th>min</th>\n",
       "      <td>-182.976204</td>\n",
       "    </tr>\n",
       "    <tr>\n",
       "      <th>25%</th>\n",
       "      <td>-7.068812</td>\n",
       "    </tr>\n",
       "    <tr>\n",
       "      <th>50%</th>\n",
       "      <td>4.469257</td>\n",
       "    </tr>\n",
       "    <tr>\n",
       "      <th>75%</th>\n",
       "      <td>13.814146</td>\n",
       "    </tr>\n",
       "    <tr>\n",
       "      <th>max</th>\n",
       "      <td>68.693259</td>\n",
       "    </tr>\n",
       "  </tbody>\n",
       "</table>\n",
       "</div>"
      ],
      "text/plain": [
       "          arr_delay\n",
       "count  28612.000000\n",
       "mean       0.105109\n",
       "std       23.936287\n",
       "min     -182.976204\n",
       "25%       -7.068812\n",
       "50%        4.469257\n",
       "75%       13.814146\n",
       "max       68.693259"
      ]
     },
     "execution_count": 57,
     "metadata": {},
     "output_type": "execute_result"
    }
   ],
   "source": [
    "diff.describe()"
   ]
  },
  {
   "cell_type": "code",
   "execution_count": 62,
   "id": "22fed426-f4df-4ef7-8cc2-52d785bd2699",
   "metadata": {},
   "outputs": [
    {
     "data": {
      "text/html": [
       "<div>\n",
       "<style scoped>\n",
       "    .dataframe tbody tr th:only-of-type {\n",
       "        vertical-align: middle;\n",
       "    }\n",
       "\n",
       "    .dataframe tbody tr th {\n",
       "        vertical-align: top;\n",
       "    }\n",
       "\n",
       "    .dataframe thead th {\n",
       "        text-align: right;\n",
       "    }\n",
       "</style>\n",
       "<table border=\"1\" class=\"dataframe\">\n",
       "  <thead>\n",
       "    <tr style=\"text-align: right;\">\n",
       "      <th></th>\n",
       "      <th>arr_delay</th>\n",
       "    </tr>\n",
       "  </thead>\n",
       "  <tbody>\n",
       "    <tr>\n",
       "      <th>count</th>\n",
       "      <td>5999.000000</td>\n",
       "    </tr>\n",
       "    <tr>\n",
       "      <th>mean</th>\n",
       "      <td>-34.384654</td>\n",
       "    </tr>\n",
       "    <tr>\n",
       "      <th>std</th>\n",
       "      <td>27.377721</td>\n",
       "    </tr>\n",
       "    <tr>\n",
       "      <th>min</th>\n",
       "      <td>-182.976204</td>\n",
       "    </tr>\n",
       "    <tr>\n",
       "      <th>25%</th>\n",
       "      <td>-43.368650</td>\n",
       "    </tr>\n",
       "    <tr>\n",
       "      <th>50%</th>\n",
       "      <td>-23.745205</td>\n",
       "    </tr>\n",
       "    <tr>\n",
       "      <th>75%</th>\n",
       "      <td>-15.342618</td>\n",
       "    </tr>\n",
       "    <tr>\n",
       "      <th>max</th>\n",
       "      <td>-10.001238</td>\n",
       "    </tr>\n",
       "  </tbody>\n",
       "</table>\n",
       "</div>"
      ],
      "text/plain": [
       "         arr_delay\n",
       "count  5999.000000\n",
       "mean    -34.384654\n",
       "std      27.377721\n",
       "min    -182.976204\n",
       "25%     -43.368650\n",
       "50%     -23.745205\n",
       "75%     -15.342618\n",
       "max     -10.001238"
      ]
     },
     "execution_count": 62,
     "metadata": {},
     "output_type": "execute_result"
    }
   ],
   "source": [
    "diff[diff['arr_delay'] < -10].describe()"
   ]
  },
  {
   "cell_type": "code",
   "execution_count": 58,
   "id": "63aaaa25-2819-4864-a58c-5186c75365ed",
   "metadata": {},
   "outputs": [],
   "source": [
    "sns.set_context('talk')\n",
    "sns.set_style('whitegrid')\n",
    "sns.set_palette('tab10')"
   ]
  },
  {
   "cell_type": "code",
   "execution_count": 60,
   "id": "5d3fe2bb-deec-492d-8b9d-938804322261",
   "metadata": {},
   "outputs": [
    {
     "data": {
      "text/plain": [
       "Text(0.5, 1.0, '(ŷ − y) in minutes')"
      ]
     },
     "execution_count": 60,
     "metadata": {},
     "output_type": "execute_result"
    },
    {
     "data": {
      "image/png": "[encoded data removed]",
      "text/plain": [
       "<Figure size 432x288 with 1 Axes>"
      ]
     },
     "metadata": {},
     "output_type": "display_data"
    }
   ],
   "source": [
    "fig, ax = plt.subplots()\n",
    "fig.tight_layout()\n",
    "ax = sns.histplot(y_pred_2019, kde=True)\n",
    "ax = sns.histplot(y_test, kde=True)\n",
    "ax.get_legend()\n",
    "plt.title('(ŷ − y) in minutes')\n",
    "# plt.savefig('xgboost.png', transparent=True)"
   ]
  },
  {
   "cell_type": "code",
   "execution_count": null,
   "id": "7d36d4f7-f98a-4c06-8efb-ae6d9a64d4ef",
   "metadata": {},
   "outputs": [],
   "source": []
  },
  {
   "cell_type": "code",
   "execution_count": 65,
   "id": "cbb3cf33-b927-47b6-a00c-7c9a59f3bcee",
   "metadata": {},
   "outputs": [
    {
     "data": {
      "image/png": "[encoded data removed]",
      "text/plain": [
       "<Figure size 576x432 with 1 Axes>"
      ]
     },
     "metadata": {},
     "output_type": "display_data"
    }
   ],
   "source": [
    "sns.set_context('poster')\n",
    "fig, ax = plt.subplots(figsize=(8, 6))\n",
    "fig.tight_layout()\n",
    "ax = sns.histplot(diff, kde=True)\n",
    "ax.get_legend().remove()\n",
    "plt.title('(ŷ − y) in minutes')\n",
    "plt.savefig('xgboost_y_pred-y.png', transparent=False)"
   ]
  },
  {
   "cell_type": "code",
   "execution_count": 52,
   "id": "18c39dbf-a78c-4d37-834e-1265a8a3afa8",
   "metadata": {},
   "outputs": [
    {
     "data": {
      "text/html": [
       "<div>\n",
       "<style scoped>\n",
       "    .dataframe tbody tr th:only-of-type {\n",
       "        vertical-align: middle;\n",
       "    }\n",
       "\n",
       "    .dataframe tbody tr th {\n",
       "        vertical-align: top;\n",
       "    }\n",
       "\n",
       "    .dataframe thead th {\n",
       "        text-align: right;\n",
       "    }\n",
       "</style>\n",
       "<table border=\"1\" class=\"dataframe\">\n",
       "  <thead>\n",
       "    <tr style=\"text-align: right;\">\n",
       "      <th></th>\n",
       "      <th>0</th>\n",
       "    </tr>\n",
       "  </thead>\n",
       "  <tbody>\n",
       "    <tr>\n",
       "      <th>count</th>\n",
       "      <td>28612.000000</td>\n",
       "    </tr>\n",
       "    <tr>\n",
       "      <th>mean</th>\n",
       "      <td>-0.533469</td>\n",
       "    </tr>\n",
       "    <tr>\n",
       "      <th>std</th>\n",
       "      <td>11.221927</td>\n",
       "    </tr>\n",
       "    <tr>\n",
       "      <th>min</th>\n",
       "      <td>-40.446140</td>\n",
       "    </tr>\n",
       "    <tr>\n",
       "      <th>25%</th>\n",
       "      <td>-7.657808</td>\n",
       "    </tr>\n",
       "    <tr>\n",
       "      <th>50%</th>\n",
       "      <td>-2.044662</td>\n",
       "    </tr>\n",
       "    <tr>\n",
       "      <th>75%</th>\n",
       "      <td>4.721710</td>\n",
       "    </tr>\n",
       "    <tr>\n",
       "      <th>max</th>\n",
       "      <td>88.102203</td>\n",
       "    </tr>\n",
       "  </tbody>\n",
       "</table>\n",
       "</div>"
      ],
      "text/plain": [
       "                  0\n",
       "count  28612.000000\n",
       "mean      -0.533469\n",
       "std       11.221927\n",
       "min      -40.446140\n",
       "25%       -7.657808\n",
       "50%       -2.044662\n",
       "75%        4.721710\n",
       "max       88.102203"
      ]
     },
     "execution_count": 52,
     "metadata": {},
     "output_type": "execute_result"
    }
   ],
   "source": [
    "y_pred_df = pd.DataFrame(y_pred_2019)\n",
    "y_pred_df.describe()"
   ]
  },
  {
   "cell_type": "code",
   "execution_count": null,
   "id": "e6d67f0a-f482-42c3-a563-eb15fc0c4ef2",
   "metadata": {},
   "outputs": [],
   "source": []
  },
  {
   "cell_type": "code",
   "execution_count": 53,
   "id": "8212edf4-e285-427b-8036-b7244a643c78",
   "metadata": {},
   "outputs": [
    {
     "name": "stdout",
     "output_type": "stream",
     "text": [
      "skew 0    1.084949\n",
      "dtype: float32\n"
     ]
    },
    {
     "data": {
      "text/plain": [
       "array([[<AxesSubplot:title={'center':'0'}>]], dtype=object)"
      ]
     },
     "execution_count": 53,
     "metadata": {},
     "output_type": "execute_result"
    },
    {
     "data": {
      "image/png": "[encoded data removed]",
      "text/plain": [
       "<Figure size 432x288 with 1 Axes>"
      ]
     },
     "metadata": {},
     "output_type": "display_data"
    }
   ],
   "source": [
    "print('skew', y_pred_df.skew())\n",
    "y_pred_df.hist(bins=25)"
   ]
  },
  {
   "cell_type": "code",
   "execution_count": 58,
   "id": "79449058-cf6a-40e7-86dd-406f4aea90fc",
   "metadata": {},
   "outputs": [
    {
     "data": {
      "text/plain": [
       "<BarContainer object of 7 artists>"
      ]
     },
     "execution_count": 58,
     "metadata": {},
     "output_type": "execute_result"
    },
    {
     "data": {
      "image/png": "[encoded data removed]",
      "text/plain": [
       "<Figure size 432x288 with 1 Axes>"
      ]
     },
     "metadata": {
      "needs_background": "light"
     },
     "output_type": "display_data"
    }
   ],
   "source": [
    "plt.barh(X_test_scaled.columns, xg_reg.feature_importances_)"
   ]
  },
  {
   "cell_type": "markdown",
   "id": "53c563f1-bd68-4c2f-820e-c6ea5d1876b3",
   "metadata": {
    "tags": []
   },
   "source": [
    "## Model Evaluation"
   ]
  },
  {
   "cell_type": "code",
   "execution_count": 29,
   "id": "d9c09b24-7e23-4165-8e24-475b05137bd6",
   "metadata": {},
   "outputs": [
    {
     "name": "stdout",
     "output_type": "stream",
     "text": [
      "RMSE: 23.96008296210779\n"
     ]
    }
   ],
   "source": [
    "# Root mean squared error\n",
    "rmse = mean_squared_error(\n",
    "    y_true=y_test,\n",
    "    y_pred=y_pred_default,\n",
    "    squared=False\n",
    ")\n",
    "print(f'RMSE: {rmse}')"
   ]
  },
  {
   "cell_type": "markdown",
   "id": "c4e5ec05-7857-4bc1-a70e-ac20af9f9698",
   "metadata": {},
   "source": [
    "## Save Model"
   ]
  },
  {
   "cell_type": "code",
   "execution_count": 60,
   "id": "c0284877-8ba7-49da-899c-371480f449fe",
   "metadata": {},
   "outputs": [],
   "source": [
    "sm.jar(xg_reg, 'flight_delay_xgboost')"
   ]
  }
 ],
 "metadata": {
  "kernelspec": {
   "display_name": "Python 3 (ipykernel)",
   "language": "python",
   "name": "python3"
  },
  "language_info": {
   "codemirror_mode": {
    "name": "ipython",
    "version": 3
   },
   "file_extension": ".py",
   "mimetype": "text/x-python",
   "name": "python",
   "nbconvert_exporter": "python",
   "pygments_lexer": "ipython3",
   "version": "3.10.0"
  }
 },
 "nbformat": 4,
 "nbformat_minor": 5
}
