{
 "cells": [
  {
   "cell_type": "markdown",
   "id": "e44d7187-33c1-480d-a34e-9c338287135b",
   "metadata": {},
   "source": [
    "# XGBoost"
   ]
  },
  {
   "cell_type": "code",
   "execution_count": 1,
   "id": "ad04ddba-2e63-4141-a73b-aae1150312c0",
   "metadata": {},
   "outputs": [],
   "source": [
    "import pandas as pd\n",
    "import numpy as np\n",
    "import matplotlib.pyplot as plt\n",
    "import seaborn as sns\n",
    "\n",
    "import xgboost as xgb\n",
    "\n",
    "from sklearn.preprocessing import MinMaxScaler, StandardScaler\n",
    "from sklearn.model_selection import train_test_split, GridSearchCV, cross_val_score\n",
    "from sklearn.metrics import mean_squared_error\n",
    "\n",
    "from skopt import forest_minimize  # Random forest hyperparameter optimization\n",
    "from skopt.space import Real, Integer\n",
    "from skopt.utils import use_named_args\n",
    "from skopt.plots import plot_convergence\n",
    "from skopt.callbacks import DeltaYStopper\n",
    "\n",
    "# Project level modules\n",
    "import modules.preprocessing_functions as ppf"
   ]
  },
  {
   "cell_type": "code",
   "execution_count": 2,
   "id": "88dd72bf-464b-4a24-9332-e051b043f49e",
   "metadata": {},
   "outputs": [],
   "source": [
    "# Random State\n",
    "rs = 99"
   ]
  },
  {
   "cell_type": "markdown",
   "id": "8696cb9f-5a55-40b8-99b7-7a47f896e652",
   "metadata": {},
   "source": [
    "## Functions"
   ]
  },
  {
   "cell_type": "code",
   "execution_count": 11,
   "id": "7fd99b99-14d6-46f3-8bad-8713e9648fa4",
   "metadata": {
    "tags": []
   },
   "outputs": [],
   "source": [
    "def load_and_process(csv_path: 'str', time_period: 'str'):\n",
    "    \"\"\"\n",
    "    Load the csv, process NAN values in the target variable, and\n",
    "    drop irrelevant rows\n",
    "    \n",
    "    Parameters\n",
    "    ----------\n",
    "    csv_path : string\n",
    "    time_period : string 'week', 'month'\n",
    "    \n",
    "    Returns\n",
    "    -------\n",
    "    df : Pandas Dataframe\n",
    "    \"\"\"\n",
    "    \n",
    "    # Load csv and parse the first column as dates\n",
    "    df = pd.read_csv(csv_path, parse_dates=[0])\n",
    "    \n",
    "    # Filter time period\n",
    "    if time_period == 'week':\n",
    "        df = df[((df['fl_date'] >= f'2018-01-01') &\n",
    "                (df['fl_date'] <= f'2018-01-07')) |\n",
    "               ((df['fl_date'] >= f'2019-01-01') &\n",
    "                (df['fl_date'] <= f'2019-01-07'))]\n",
    "    \n",
    "    # Set NAN values in departure and arrival delay to 0\n",
    "    df = ppf.process_nan_values(\n",
    "        df=df,\n",
    "        features_to_zero=['dep_delay', 'arr_delay']\n",
    "    )\n",
    "    \n",
    "    # Drop flight rows that were cancelled or diverted\n",
    "    df = df[\n",
    "        (df['cancelled'] == 0) &\n",
    "        (df['diverted'] == 0)\n",
    "    ]\n",
    "    \n",
    "    # Drop flights with delay >3std and <-120min\n",
    "    df = df[\n",
    "        (df['arr_delay'] < (df['arr_delay'].mean()\n",
    "                            + 3 * df['arr_delay'].std())) &\n",
    "        (df['arr_delay'] > -120)\n",
    "    ]\n",
    "    \n",
    "    # Add stratifier\n",
    "    df['is_delayed'] = 0\n",
    "    df.loc[(df['arr_delay'] > 0), 'is_delayed'] = 1\n",
    "    \n",
    "    return df"
   ]
  },
  {
   "cell_type": "code",
   "execution_count": 4,
   "id": "e2ae3759-354f-4798-82d1-ef9f2148131e",
   "metadata": {},
   "outputs": [],
   "source": [
    "def performance_stats(feature: 'str', groupby: 'str'):\n",
    "    \"\"\"\n",
    "    \n",
    "    \"\"\"\n",
    "    google_drive_path = ('~/Google Drive/My Drive/Lighthouse Labs/'\n",
    "                         + 'Mid-term Project/Data-Jan/')\n",
    "    \n",
    "    files = {\n",
    "        '2018' : google_drive_path + '2018-01.csv',\n",
    "        '2019' : google_drive_path + '2019-01.csv'\n",
    "    }\n",
    "    \n",
    "    \n",
    "    frames = []\n",
    "\n",
    "    for yr, file in files.items():\n",
    "        data = load_and_process(csv_path=file, time_period='month')\n",
    "        \n",
    "        date_filters = {\n",
    "            # First week of January\n",
    "            'week' : ((data['fl_date'] >= f'{yr}-01-01') &\n",
    "                (data['fl_date'] <= f'{yr}-01-07')),\n",
    "            # Month of January\n",
    "            'month' : ((data['fl_date'] >= f'{yr}-01-01') &\n",
    "                (data['fl_date'] <= f'{yr}-01-31'))\n",
    "        }\n",
    "            \n",
    "        for timeline, date_filter in date_filters.items():\n",
    "            stats = pd.DataFrame()\n",
    "            stats[[\n",
    "                f'{yr}_{timeline}_{groupby}_mean_{feature}', \n",
    "                f'{yr}_{timeline}_{groupby}_std_{feature}', \n",
    "                f'{yr}_{timeline}_{groupby}_skew_{feature}'\n",
    "            ]] = (data[date_filter][[feature, groupby]]\n",
    "                  .groupby(by=[groupby])\n",
    "                  .agg({feature : ['mean', 'std', 'skew']})\n",
    "                 )\n",
    "            \n",
    "            frames.append(stats)\n",
    "    \n",
    "    stats = pd.concat(frames, axis=1)\n",
    "    \n",
    "    return stats"
   ]
  },
  {
   "cell_type": "code",
   "execution_count": 5,
   "id": "6c377be1-d853-4615-ad9b-a9f2bd06c7da",
   "metadata": {},
   "outputs": [
    {
     "ename": "NameError",
     "evalue": "name 'data' is not defined",
     "output_type": "error",
     "traceback": [
      "\u001b[0;31m---------------------------------------------------------------------------\u001b[0m",
      "\u001b[0;31mNameError\u001b[0m                                 Traceback (most recent call last)",
      "\u001b[0;32m/var/folders/kl/ffj9qs1d5cd9lwrlh8wdjl640000gn/T/ipykernel_6992/391604064.py\u001b[0m in \u001b[0;36m<module>\u001b[0;34m\u001b[0m\n\u001b[0;32m----> 1\u001b[0;31m \u001b[0mdata\u001b[0m\u001b[0;34m\u001b[0m\u001b[0;34m\u001b[0m\u001b[0m\n\u001b[0m",
      "\u001b[0;31mNameError\u001b[0m: name 'data' is not defined"
     ]
    }
   ],
   "source": [
    "data"
   ]
  },
  {
   "cell_type": "code",
   "execution_count": 17,
   "id": "e7aea86c-1471-41b1-a1a9-b5abdda8eb5d",
   "metadata": {},
   "outputs": [],
   "source": [
    "# make feature map on full 2019 table\n",
    "a = (data[['tail_num', 'op_unique_carrier']]\n",
    "     .drop_duplicates())\n",
    "a.set_index('tail_num', inplace=True)\n",
    "a.to_csv('../data/feature_average_delay_stats/2019_tail_num_op_unique_carrier_map.csv')"
   ]
  },
  {
   "cell_type": "code",
   "execution_count": 140,
   "id": "a737cbc5-f20d-4987-be0f-a4cf69dde0c7",
   "metadata": {},
   "outputs": [],
   "source": [
    "def save_stats():\n",
    "    \"\"\"\n",
    "    \n",
    "    \"\"\"\n",
    "    \n",
    "    feature_dict = {\n",
    "        'origin' : 'dep_delay',\n",
    "        'origin_city_name' : 'dep_delay',\n",
    "        'dest' : 'arr_delay',\n",
    "        'dest_city_name' : 'arr_delay',\n",
    "        'tail_num' : 'arr_delay',\n",
    "        'op_unique_carrier' : 'arr_delay'\n",
    "    }\n",
    "    \n",
    "    for k, v in feature_dict.items():\n",
    "        stats = performance_stats(feature=v, groupby=k)\n",
    "        stats.to_csv(f'../data/feature_average_delay_stats/{k}_{v}_stats.csv')\n",
    "    \n",
    "    return None"
   ]
  },
  {
   "cell_type": "raw",
   "id": "18a4ee2f-74fa-4183-8baf-701f01b774b6",
   "metadata": {},
   "source": [
    "# Use the command line to take a random sample of the input data without\n",
    "# loading the entire file to memory.\n",
    "# On MacOS Monterey gshuf is available by installing coreutils\n",
    "# https://formulae.brew.sh/formula/coreutils\n",
    "\n",
    "# Keep the header\n",
    "!head -n 1 ~/Google\\ Drive/My\\ Drive/Lighthouse\\ Labs/Mid-term\\ Project/Data-Jan/2018-01.csv > ../data/sample.csv\n",
    "# randomly sample rows and append to header\n",
    "!tail -n +2 ~/Google\\ Drive/My\\ Drive/Lighthouse\\ Labs/Mid-term\\ Project/Data-Jan/2018-01.csv | gshuf -n 10000 >> ../data/sample.csv"
   ]
  },
  {
   "cell_type": "code",
   "execution_count": 6,
   "id": "3695efe0-521d-4c7f-856c-6c844730d677",
   "metadata": {},
   "outputs": [],
   "source": [
    "def week_month(df, time_period: 'str' = 'week'):\n",
    "    \"\"\"\n",
    "    \n",
    "    Parameters\n",
    "    ----------\n",
    "    df : Pandas DataFrame\n",
    "    time_period : string 'week', 'month'\n",
    "        \n",
    "    Returns\n",
    "    -------\n",
    "    df : Pandas DataFrame\n",
    "    \"\"\"\n",
    "    \n",
    "    feature_dict = {\n",
    "        'origin' : 'dep_delay',\n",
    "        'origin_city_name' : 'dep_delay',\n",
    "        'dest' : 'arr_delay',\n",
    "        'dest_city_name' : 'arr_delay',\n",
    "        'tail_num' : 'arr_delay',\n",
    "        'op_unique_carrier' : 'arr_delay'\n",
    "    }\n",
    "    \n",
    "    for k, v in feature_dict.items():\n",
    "        stats = pd.read_csv(\n",
    "            f'../data/feature_average_delay_stats/{k}_{v}_stats.csv',\n",
    "            index_col=[0]\n",
    "        )\n",
    "        \n",
    "        df[f'{k}_{time_period}_mean_{v}'] = (\n",
    "            df[k].map(stats[f'2018_{time_period}_{k}_mean_{v}'])\n",
    "        )\n",
    "        \n",
    "#         if k == 'tail_num':\n",
    "#             tail_num_carrier_map = pd.read_csv(\n",
    "#                 '../data/feature_average_delay_stats/2019_tail_num_op_unique_carrier_map.csv',\n",
    "#                 index_col=[0]\n",
    "#             )\n",
    "#             print(tail_num_carrier_map)\n",
    "#             a = df['tail_num'].map(tail_num_carrier_map.any())\n",
    "#             print(a)\n",
    "#             fill = (df['tail_num']\n",
    "#                  .map(tail_num_carrier_map)\n",
    "#                  .map(stats['2018_month_op_unique_carrier_mean_arr_delay'])\n",
    "#                    )\n",
    "            \n",
    "#             df['tail_num_month_mean_arr_delay'].fillna(fill)\n",
    "    \n",
    "        df.drop(k, axis=1, inplace=True)\n",
    "    \n",
    "    return df"
   ]
  },
  {
   "cell_type": "code",
   "execution_count": 20,
   "id": "7c878ad2-ce01-4fa3-beac-69d6ca22a3ab",
   "metadata": {
    "tags": []
   },
   "outputs": [],
   "source": [
    "def load(data_set: 'str' = 'sample', time_period: 'str' = 'week'):\n",
    "    \"\"\"\n",
    "    \n",
    "    Parameters\n",
    "    ----------\n",
    "    data_set : string 'full', 'sample'\n",
    "        'full' is the whole 2019 csv with 638,649 lines\n",
    "        'sample' is 10,000 lines randomly sampled from 2018-01.csv\n",
    "    time_period : string 'week', 'month'\n",
    "    \n",
    "    Returns\n",
    "    -------\n",
    "    data : Pandas DataFrame\n",
    "    \"\"\"\n",
    "    \n",
    "    google_drive_path = ('~/Google Drive/My Drive/Lighthouse Labs/'\n",
    "                         + 'Mid-term Project/Data-Jan/')\n",
    "    \n",
    "    path = {\n",
    "        'full' : f'{google_drive_path}2019-01.csv',\n",
    "        'sample' : f'../data/sample.csv'\n",
    "    }\n",
    "    \n",
    "    data = load_and_process(csv_path=path[data_set], time_period='week')\n",
    "    \n",
    "    data['fl_date'] = data['fl_date'].dt.day\n",
    "    \n",
    "    # Purge unused columns\n",
    "    X = ppf.flight_test_features(data, purged=True)\n",
    "    y = data[['arr_delay', 'is_delayed']]\n",
    "    \n",
    "    # Substitue mean delay values for categorical features\n",
    "    X = week_month(df=X, time_period=time_period)\n",
    "    \n",
    "    # For flights of the first week on Jan 2019 that did not fly in the\n",
    "    # month of 2018, set tail number mean to carrier mean\n",
    "    X['tail_num_month_mean_arr_delay'].fillna(\n",
    "        X['op_unique_carrier_month_mean_arr_delay'],\n",
    "        inplace=True\n",
    "    )\n",
    "    \n",
    "    # set nan to mean\n",
    "    X = ppf.process_nan_values(\n",
    "        df=X,\n",
    "        features_to_mean=[\n",
    "            'origin_month_mean_dep_delay',\n",
    "            'dest_month_mean_arr_delay',\n",
    "            'tail_num_month_mean_arr_delay',\n",
    "            'op_unique_carrier_month_mean_arr_delay'\n",
    "        ]\n",
    "    )\n",
    "    \n",
    "    # Drop highly correlated features\n",
    "    X.drop(['crs_dep_time',\n",
    "            f'origin_city_name_{time_period}_mean_dep_delay',\n",
    "            f'dest_city_name_{time_period}_mean_arr_delay'],\n",
    "           axis=1,\n",
    "           inplace=True)\n",
    "    \n",
    "    return X, y\n",
    "    "
   ]
  },
  {
   "cell_type": "code",
   "execution_count": 21,
   "id": "6125e35e-350b-410a-a07f-359fc9483999",
   "metadata": {},
   "outputs": [],
   "source": [
    "X, y = load(data_set='full', time_period='month')"
   ]
  },
  {
   "cell_type": "code",
   "execution_count": 13,
   "id": "20f37862-bb49-4d53-91ee-d1189b97acf2",
   "metadata": {},
   "outputs": [],
   "source": [
    "# The time period of the averages being used needs to mach the time period of\n",
    "# the data being trained. i.e. first week. 56,957 planes flew in january that\n",
    "# did not fly in the first week. This mismatch leads to NANs galore."
   ]
  },
  {
   "cell_type": "code",
   "execution_count": 22,
   "id": "ca1bddeb-5365-4ddf-b50f-f623e2f4df9d",
   "metadata": {},
   "outputs": [
    {
     "data": {
      "text/html": [
       "<div>\n",
       "<style scoped>\n",
       "    .dataframe tbody tr th:only-of-type {\n",
       "        vertical-align: middle;\n",
       "    }\n",
       "\n",
       "    .dataframe tbody tr th {\n",
       "        vertical-align: top;\n",
       "    }\n",
       "\n",
       "    .dataframe thead th {\n",
       "        text-align: right;\n",
       "    }\n",
       "</style>\n",
       "<table border=\"1\" class=\"dataframe\">\n",
       "  <thead>\n",
       "    <tr style=\"text-align: right;\">\n",
       "      <th></th>\n",
       "      <th>fl_date</th>\n",
       "      <th>crs_arr_time</th>\n",
       "      <th>distance</th>\n",
       "      <th>origin_month_mean_dep_delay</th>\n",
       "      <th>dest_month_mean_arr_delay</th>\n",
       "      <th>tail_num_month_mean_arr_delay</th>\n",
       "      <th>op_unique_carrier_month_mean_arr_delay</th>\n",
       "    </tr>\n",
       "  </thead>\n",
       "  <tbody>\n",
       "    <tr>\n",
       "      <th>0</th>\n",
       "      <td>1</td>\n",
       "      <td>2248</td>\n",
       "      <td>442</td>\n",
       "      <td>7.383641</td>\n",
       "      <td>1.644330</td>\n",
       "      <td>-5.102804</td>\n",
       "      <td>-6.075437</td>\n",
       "    </tr>\n",
       "    <tr>\n",
       "      <th>1</th>\n",
       "      <td>1</td>\n",
       "      <td>2357</td>\n",
       "      <td>2475</td>\n",
       "      <td>3.712522</td>\n",
       "      <td>-1.290522</td>\n",
       "      <td>-11.301205</td>\n",
       "      <td>-7.776886</td>\n",
       "    </tr>\n",
       "    <tr>\n",
       "      <th>2</th>\n",
       "      <td>1</td>\n",
       "      <td>1605</td>\n",
       "      <td>763</td>\n",
       "      <td>4.151080</td>\n",
       "      <td>-5.567066</td>\n",
       "      <td>-4.138889</td>\n",
       "      <td>-7.776886</td>\n",
       "    </tr>\n",
       "    <tr>\n",
       "      <th>3</th>\n",
       "      <td>1</td>\n",
       "      <td>2309</td>\n",
       "      <td>763</td>\n",
       "      <td>4.151080</td>\n",
       "      <td>-5.567066</td>\n",
       "      <td>-11.062500</td>\n",
       "      <td>-7.776886</td>\n",
       "    </tr>\n",
       "    <tr>\n",
       "      <th>4</th>\n",
       "      <td>1</td>\n",
       "      <td>757</td>\n",
       "      <td>2475</td>\n",
       "      <td>3.712522</td>\n",
       "      <td>-1.290522</td>\n",
       "      <td>-2.909091</td>\n",
       "      <td>-7.776886</td>\n",
       "    </tr>\n",
       "    <tr>\n",
       "      <th>...</th>\n",
       "      <td>...</td>\n",
       "      <td>...</td>\n",
       "      <td>...</td>\n",
       "      <td>...</td>\n",
       "      <td>...</td>\n",
       "      <td>...</td>\n",
       "      <td>...</td>\n",
       "    </tr>\n",
       "    <tr>\n",
       "      <th>143052</th>\n",
       "      <td>7</td>\n",
       "      <td>1256</td>\n",
       "      <td>257</td>\n",
       "      <td>6.080777</td>\n",
       "      <td>4.134328</td>\n",
       "      <td>12.127517</td>\n",
       "      <td>6.123259</td>\n",
       "    </tr>\n",
       "    <tr>\n",
       "      <th>143053</th>\n",
       "      <td>7</td>\n",
       "      <td>1457</td>\n",
       "      <td>507</td>\n",
       "      <td>7.059851</td>\n",
       "      <td>0.812602</td>\n",
       "      <td>8.146341</td>\n",
       "      <td>6.123259</td>\n",
       "    </tr>\n",
       "    <tr>\n",
       "      <th>143054</th>\n",
       "      <td>7</td>\n",
       "      <td>1715</td>\n",
       "      <td>507</td>\n",
       "      <td>5.919394</td>\n",
       "      <td>-0.653183</td>\n",
       "      <td>8.146341</td>\n",
       "      <td>6.123259</td>\n",
       "    </tr>\n",
       "    <tr>\n",
       "      <th>143055</th>\n",
       "      <td>7</td>\n",
       "      <td>1605</td>\n",
       "      <td>479</td>\n",
       "      <td>8.867728</td>\n",
       "      <td>2.790318</td>\n",
       "      <td>15.367188</td>\n",
       "      <td>6.123259</td>\n",
       "    </tr>\n",
       "    <tr>\n",
       "      <th>143056</th>\n",
       "      <td>7</td>\n",
       "      <td>1646</td>\n",
       "      <td>490</td>\n",
       "      <td>6.080777</td>\n",
       "      <td>1.644330</td>\n",
       "      <td>2.668421</td>\n",
       "      <td>6.123259</td>\n",
       "    </tr>\n",
       "  </tbody>\n",
       "</table>\n",
       "<p>143057 rows × 7 columns</p>\n",
       "</div>"
      ],
      "text/plain": [
       "        fl_date  crs_arr_time  distance  origin_month_mean_dep_delay  \\\n",
       "0             1          2248       442                     7.383641   \n",
       "1             1          2357      2475                     3.712522   \n",
       "2             1          1605       763                     4.151080   \n",
       "3             1          2309       763                     4.151080   \n",
       "4             1           757      2475                     3.712522   \n",
       "...         ...           ...       ...                          ...   \n",
       "143052        7          1256       257                     6.080777   \n",
       "143053        7          1457       507                     7.059851   \n",
       "143054        7          1715       507                     5.919394   \n",
       "143055        7          1605       479                     8.867728   \n",
       "143056        7          1646       490                     6.080777   \n",
       "\n",
       "        dest_month_mean_arr_delay  tail_num_month_mean_arr_delay  \\\n",
       "0                        1.644330                      -5.102804   \n",
       "1                       -1.290522                     -11.301205   \n",
       "2                       -5.567066                      -4.138889   \n",
       "3                       -5.567066                     -11.062500   \n",
       "4                       -1.290522                      -2.909091   \n",
       "...                           ...                            ...   \n",
       "143052                   4.134328                      12.127517   \n",
       "143053                   0.812602                       8.146341   \n",
       "143054                  -0.653183                       8.146341   \n",
       "143055                   2.790318                      15.367188   \n",
       "143056                   1.644330                       2.668421   \n",
       "\n",
       "        op_unique_carrier_month_mean_arr_delay  \n",
       "0                                    -6.075437  \n",
       "1                                    -7.776886  \n",
       "2                                    -7.776886  \n",
       "3                                    -7.776886  \n",
       "4                                    -7.776886  \n",
       "...                                        ...  \n",
       "143052                                6.123259  \n",
       "143053                                6.123259  \n",
       "143054                                6.123259  \n",
       "143055                                6.123259  \n",
       "143056                                6.123259  \n",
       "\n",
       "[143057 rows x 7 columns]"
      ]
     },
     "execution_count": 22,
     "metadata": {},
     "output_type": "execute_result"
    }
   ],
   "source": [
    "X"
   ]
  },
  {
   "cell_type": "code",
   "execution_count": 23,
   "id": "f66e37c9-e70f-497f-a7e6-f2e3eda5cdd9",
   "metadata": {},
   "outputs": [
    {
     "data": {
      "text/plain": [
       "fl_date                                   0\n",
       "crs_arr_time                              0\n",
       "distance                                  0\n",
       "origin_month_mean_dep_delay               0\n",
       "dest_month_mean_arr_delay                 0\n",
       "tail_num_month_mean_arr_delay             0\n",
       "op_unique_carrier_month_mean_arr_delay    0\n",
       "dtype: int64"
      ]
     },
     "execution_count": 23,
     "metadata": {},
     "output_type": "execute_result"
    }
   ],
   "source": [
    "X.isna().sum()"
   ]
  },
  {
   "cell_type": "code",
   "execution_count": 24,
   "id": "dc311aed-f108-4b46-8829-65b9ad6991b7",
   "metadata": {},
   "outputs": [
    {
     "data": {
      "image/png": "[encoded data removed]",
      "text/plain": [
       "<Figure size 576x576 with 2 Axes>"
      ]
     },
     "metadata": {
      "needs_background": "light"
     },
     "output_type": "display_data"
    }
   ],
   "source": [
    "fig, ax = plt.subplots(figsize=(8, 8))\n",
    "ax = sns.heatmap(X.corr())\n",
    "plt.show()"
   ]
  },
  {
   "cell_type": "markdown",
   "id": "2a948d1d-5d7d-48f4-bd19-c11d2fa7041e",
   "metadata": {
    "tags": []
   },
   "source": [
    "## Data Split"
   ]
  },
  {
   "cell_type": "markdown",
   "id": "66dbb6ee-aa0d-4441-9aad-9b0f3b6ed8ff",
   "metadata": {
    "tags": []
   },
   "source": [
    "## Preprocessing"
   ]
  },
  {
   "cell_type": "code",
   "execution_count": 13,
   "id": "880b55c4-c6c0-40fc-b5aa-8f7b44a7ec61",
   "metadata": {},
   "outputs": [],
   "source": [
    "# NA replacement\n",
    "# Split X into categorical and numeric features\n",
    "# For numeric\n",
    "# Scale and transform\n",
    "# For categorical\n",
    "# One hot encode/dummy"
   ]
  },
  {
   "cell_type": "code",
   "execution_count": 14,
   "id": "9360a6c9-36ba-446d-979c-ebc1f6305d7d",
   "metadata": {},
   "outputs": [],
   "source": [
    "X_numerical, X_categorical = ppf.numerical_categorical_split(df=X)"
   ]
  },
  {
   "cell_type": "markdown",
   "id": "ab8479ee-0b06-435d-9cc5-e9e05e296023",
   "metadata": {
    "tags": []
   },
   "source": [
    "#### One hot encoding\n",
    "Doing One hot encoding before the train test split is based on the Machine Learning Mastery tutorial [Data Preparation for Gradient Boosting with XGBoost in Python](https://machinelearningmastery.com/data-preparation-gradient-boosting-xgboost-python/)"
   ]
  },
  {
   "cell_type": "code",
   "execution_count": 15,
   "id": "d1bd781c-353d-4ad8-b585-4980bb367de5",
   "metadata": {},
   "outputs": [
    {
     "ename": "ValueError",
     "evalue": "Length of 'prefix' (6) did not match the length of the columns being encoded (0).",
     "output_type": "error",
     "traceback": [
      "\u001b[0;31m---------------------------------------------------------------------------\u001b[0m",
      "\u001b[0;31mValueError\u001b[0m                                Traceback (most recent call last)",
      "\u001b[0;32m/var/folders/kl/ffj9qs1d5cd9lwrlh8wdjl640000gn/T/ipykernel_83167/481533379.py\u001b[0m in \u001b[0;36m<module>\u001b[0;34m\u001b[0m\n\u001b[1;32m      1\u001b[0m \u001b[0;31m# One hot encoding\u001b[0m\u001b[0;34m\u001b[0m\u001b[0;34m\u001b[0m\u001b[0m\n\u001b[0;32m----> 2\u001b[0;31m X_cat_one_hot = pd.get_dummies(\n\u001b[0m\u001b[1;32m      3\u001b[0m     \u001b[0mX_categorical\u001b[0m\u001b[0;34m,\u001b[0m\u001b[0;34m\u001b[0m\u001b[0;34m\u001b[0m\u001b[0m\n\u001b[1;32m      4\u001b[0m     \u001b[0mprefix\u001b[0m\u001b[0;34m=\u001b[0m\u001b[0mX_categorical\u001b[0m\u001b[0;34m.\u001b[0m\u001b[0mcolumns\u001b[0m\u001b[0;34m[\u001b[0m\u001b[0;36m1\u001b[0m\u001b[0;34m:\u001b[0m\u001b[0;34m]\u001b[0m\u001b[0;34m,\u001b[0m\u001b[0;34m\u001b[0m\u001b[0;34m\u001b[0m\u001b[0m\n\u001b[1;32m      5\u001b[0m     \u001b[0;31m# will fl_date be encoded if there was more than one date?\u001b[0m\u001b[0;34m\u001b[0m\u001b[0;34m\u001b[0m\u001b[0m\n",
      "\u001b[0;32m/opt/homebrew/Caskroom/miniforge/base/envs/the_one/lib/python3.10/site-packages/pandas/core/reshape/reshape.py\u001b[0m in \u001b[0;36mget_dummies\u001b[0;34m(data, prefix, prefix_sep, dummy_na, columns, sparse, drop_first, dtype)\u001b[0m\n\u001b[1;32m    902\u001b[0m                     \u001b[0;32mraise\u001b[0m \u001b[0mValueError\u001b[0m\u001b[0;34m(\u001b[0m\u001b[0mlen_msg\u001b[0m\u001b[0;34m)\u001b[0m\u001b[0;34m\u001b[0m\u001b[0;34m\u001b[0m\u001b[0m\n\u001b[1;32m    903\u001b[0m \u001b[0;34m\u001b[0m\u001b[0m\n\u001b[0;32m--> 904\u001b[0;31m         \u001b[0mcheck_len\u001b[0m\u001b[0;34m(\u001b[0m\u001b[0mprefix\u001b[0m\u001b[0;34m,\u001b[0m \u001b[0;34m\"prefix\"\u001b[0m\u001b[0;34m)\u001b[0m\u001b[0;34m\u001b[0m\u001b[0;34m\u001b[0m\u001b[0m\n\u001b[0m\u001b[1;32m    905\u001b[0m         \u001b[0mcheck_len\u001b[0m\u001b[0;34m(\u001b[0m\u001b[0mprefix_sep\u001b[0m\u001b[0;34m,\u001b[0m \u001b[0;34m\"prefix_sep\"\u001b[0m\u001b[0;34m)\u001b[0m\u001b[0;34m\u001b[0m\u001b[0;34m\u001b[0m\u001b[0m\n\u001b[1;32m    906\u001b[0m \u001b[0;34m\u001b[0m\u001b[0m\n",
      "\u001b[0;32m/opt/homebrew/Caskroom/miniforge/base/envs/the_one/lib/python3.10/site-packages/pandas/core/reshape/reshape.py\u001b[0m in \u001b[0;36mcheck_len\u001b[0;34m(item, name)\u001b[0m\n\u001b[1;32m    900\u001b[0m                         \u001b[0;34mf\"({data_to_encode.shape[1]}).\"\u001b[0m\u001b[0;34m\u001b[0m\u001b[0;34m\u001b[0m\u001b[0m\n\u001b[1;32m    901\u001b[0m                     )\n\u001b[0;32m--> 902\u001b[0;31m                     \u001b[0;32mraise\u001b[0m \u001b[0mValueError\u001b[0m\u001b[0;34m(\u001b[0m\u001b[0mlen_msg\u001b[0m\u001b[0;34m)\u001b[0m\u001b[0;34m\u001b[0m\u001b[0;34m\u001b[0m\u001b[0m\n\u001b[0m\u001b[1;32m    903\u001b[0m \u001b[0;34m\u001b[0m\u001b[0m\n\u001b[1;32m    904\u001b[0m         \u001b[0mcheck_len\u001b[0m\u001b[0;34m(\u001b[0m\u001b[0mprefix\u001b[0m\u001b[0;34m,\u001b[0m \u001b[0;34m\"prefix\"\u001b[0m\u001b[0;34m)\u001b[0m\u001b[0;34m\u001b[0m\u001b[0;34m\u001b[0m\u001b[0m\n",
      "\u001b[0;31mValueError\u001b[0m: Length of 'prefix' (6) did not match the length of the columns being encoded (0)."
     ]
    }
   ],
   "source": [
    "# One hot encoding\n",
    "X_cat_one_hot = pd.get_dummies(\n",
    "    X_categorical,\n",
    "    prefix=X_categorical.columns[1:],\n",
    "    # will fl_date be encoded if there was more than one date?\n",
    "    drop_first=True\n",
    ")\n",
    "\n",
    "# Reconstitue original data table with one hot encoded features\n",
    "X_one_hot = pd.concat([X_cat_one_hot, X_numerical], axis=1)"
   ]
  },
  {
   "cell_type": "markdown",
   "id": "ad6f9ee6-41aa-4b8a-8105-64f0e0f23fb7",
   "metadata": {},
   "source": [
    "### Train Test Split"
   ]
  },
  {
   "cell_type": "code",
   "execution_count": 25,
   "id": "a68779ed-9132-4692-98bf-b574c13417ec",
   "metadata": {},
   "outputs": [],
   "source": [
    "X_train, X_test, y_train, y_test = train_test_split(\n",
    "    X, y['arr_delay'],\n",
    "    train_size=0.8,\n",
    "    test_size=0.2,\n",
    "    stratify=y['is_delayed'],\n",
    "    random_state=rs\n",
    ")\n",
    "\n",
    "X_train.reset_index(drop=True, inplace=True)\n",
    "X_test.reset_index(drop=True, inplace=True)\n",
    "\n",
    "y_train.reset_index(drop=True, inplace=True)\n",
    "y_test.reset_index(drop=True, inplace=True)"
   ]
  },
  {
   "cell_type": "markdown",
   "id": "4c8c292e-ef84-4fe7-9c10-28eb03d825fa",
   "metadata": {},
   "source": [
    "### Numerical"
   ]
  },
  {
   "cell_type": "code",
   "execution_count": 26,
   "id": "141ddd64-039b-4738-8a85-950812ac8176",
   "metadata": {},
   "outputs": [],
   "source": [
    "# Scale numeric features\n",
    "scaler = MinMaxScaler()\n",
    "X_train_scaled = pd.DataFrame(\n",
    "    scaler.fit_transform(X=X_train),\n",
    "    columns=X_train.columns\n",
    ")\n",
    "X_test_scaled = pd.DataFrame(\n",
    "    scaler.transform(X=X_test),\n",
    "    columns=X_test.columns\n",
    "    )"
   ]
  },
  {
   "cell_type": "code",
   "execution_count": 27,
   "id": "0544f35b-c3d9-4e5e-b371-2f2c6f3af694",
   "metadata": {},
   "outputs": [
    {
     "data": {
      "text/html": [
       "<div>\n",
       "<style scoped>\n",
       "    .dataframe tbody tr th:only-of-type {\n",
       "        vertical-align: middle;\n",
       "    }\n",
       "\n",
       "    .dataframe tbody tr th {\n",
       "        vertical-align: top;\n",
       "    }\n",
       "\n",
       "    .dataframe thead th {\n",
       "        text-align: right;\n",
       "    }\n",
       "</style>\n",
       "<table border=\"1\" class=\"dataframe\">\n",
       "  <thead>\n",
       "    <tr style=\"text-align: right;\">\n",
       "      <th></th>\n",
       "      <th>fl_date</th>\n",
       "      <th>crs_arr_time</th>\n",
       "      <th>distance</th>\n",
       "      <th>origin_month_mean_dep_delay</th>\n",
       "      <th>dest_month_mean_arr_delay</th>\n",
       "      <th>tail_num_month_mean_arr_delay</th>\n",
       "      <th>op_unique_carrier_month_mean_arr_delay</th>\n",
       "    </tr>\n",
       "  </thead>\n",
       "  <tbody>\n",
       "    <tr>\n",
       "      <th>0</th>\n",
       "      <td>1</td>\n",
       "      <td>635</td>\n",
       "      <td>2556</td>\n",
       "      <td>-0.258842</td>\n",
       "      <td>-6.959608</td>\n",
       "      <td>-4.114286</td>\n",
       "      <td>0.046607</td>\n",
       "    </tr>\n",
       "    <tr>\n",
       "      <th>1</th>\n",
       "      <td>5</td>\n",
       "      <td>1245</td>\n",
       "      <td>1036</td>\n",
       "      <td>2.733850</td>\n",
       "      <td>0.538605</td>\n",
       "      <td>-4.496124</td>\n",
       "      <td>-0.721245</td>\n",
       "    </tr>\n",
       "    <tr>\n",
       "      <th>2</th>\n",
       "      <td>5</td>\n",
       "      <td>1437</td>\n",
       "      <td>1107</td>\n",
       "      <td>7.004762</td>\n",
       "      <td>-5.237016</td>\n",
       "      <td>-12.281481</td>\n",
       "      <td>-6.075437</td>\n",
       "    </tr>\n",
       "    <tr>\n",
       "      <th>3</th>\n",
       "      <td>3</td>\n",
       "      <td>2242</td>\n",
       "      <td>1118</td>\n",
       "      <td>9.027769</td>\n",
       "      <td>-2.983522</td>\n",
       "      <td>1.104167</td>\n",
       "      <td>-2.419473</td>\n",
       "    </tr>\n",
       "    <tr>\n",
       "      <th>4</th>\n",
       "      <td>5</td>\n",
       "      <td>1650</td>\n",
       "      <td>639</td>\n",
       "      <td>1.335224</td>\n",
       "      <td>-4.537329</td>\n",
       "      <td>4.931034</td>\n",
       "      <td>-0.721245</td>\n",
       "    </tr>\n",
       "    <tr>\n",
       "      <th>...</th>\n",
       "      <td>...</td>\n",
       "      <td>...</td>\n",
       "      <td>...</td>\n",
       "      <td>...</td>\n",
       "      <td>...</td>\n",
       "      <td>...</td>\n",
       "      <td>...</td>\n",
       "    </tr>\n",
       "    <tr>\n",
       "      <th>114440</th>\n",
       "      <td>1</td>\n",
       "      <td>1034</td>\n",
       "      <td>801</td>\n",
       "      <td>9.027769</td>\n",
       "      <td>-3.503983</td>\n",
       "      <td>1.639706</td>\n",
       "      <td>-0.918138</td>\n",
       "    </tr>\n",
       "    <tr>\n",
       "      <th>114441</th>\n",
       "      <td>1</td>\n",
       "      <td>1945</td>\n",
       "      <td>227</td>\n",
       "      <td>-2.000000</td>\n",
       "      <td>-3.503983</td>\n",
       "      <td>4.044306</td>\n",
       "      <td>4.044306</td>\n",
       "    </tr>\n",
       "    <tr>\n",
       "      <th>114442</th>\n",
       "      <td>5</td>\n",
       "      <td>901</td>\n",
       "      <td>742</td>\n",
       "      <td>5.549977</td>\n",
       "      <td>-0.653183</td>\n",
       "      <td>7.213115</td>\n",
       "      <td>-2.419473</td>\n",
       "    </tr>\n",
       "    <tr>\n",
       "      <th>114443</th>\n",
       "      <td>6</td>\n",
       "      <td>2308</td>\n",
       "      <td>185</td>\n",
       "      <td>6.080777</td>\n",
       "      <td>7.068433</td>\n",
       "      <td>-4.242991</td>\n",
       "      <td>-2.419473</td>\n",
       "    </tr>\n",
       "    <tr>\n",
       "      <th>114444</th>\n",
       "      <td>5</td>\n",
       "      <td>1455</td>\n",
       "      <td>846</td>\n",
       "      <td>5.368262</td>\n",
       "      <td>-4.229527</td>\n",
       "      <td>-0.721245</td>\n",
       "      <td>-0.721245</td>\n",
       "    </tr>\n",
       "  </tbody>\n",
       "</table>\n",
       "<p>114445 rows × 7 columns</p>\n",
       "</div>"
      ],
      "text/plain": [
       "        fl_date  crs_arr_time  distance  origin_month_mean_dep_delay  \\\n",
       "0             1           635      2556                    -0.258842   \n",
       "1             5          1245      1036                     2.733850   \n",
       "2             5          1437      1107                     7.004762   \n",
       "3             3          2242      1118                     9.027769   \n",
       "4             5          1650       639                     1.335224   \n",
       "...         ...           ...       ...                          ...   \n",
       "114440        1          1034       801                     9.027769   \n",
       "114441        1          1945       227                    -2.000000   \n",
       "114442        5           901       742                     5.549977   \n",
       "114443        6          2308       185                     6.080777   \n",
       "114444        5          1455       846                     5.368262   \n",
       "\n",
       "        dest_month_mean_arr_delay  tail_num_month_mean_arr_delay  \\\n",
       "0                       -6.959608                      -4.114286   \n",
       "1                        0.538605                      -4.496124   \n",
       "2                       -5.237016                     -12.281481   \n",
       "3                       -2.983522                       1.104167   \n",
       "4                       -4.537329                       4.931034   \n",
       "...                           ...                            ...   \n",
       "114440                  -3.503983                       1.639706   \n",
       "114441                  -3.503983                       4.044306   \n",
       "114442                  -0.653183                       7.213115   \n",
       "114443                   7.068433                      -4.242991   \n",
       "114444                  -4.229527                      -0.721245   \n",
       "\n",
       "        op_unique_carrier_month_mean_arr_delay  \n",
       "0                                     0.046607  \n",
       "1                                    -0.721245  \n",
       "2                                    -6.075437  \n",
       "3                                    -2.419473  \n",
       "4                                    -0.721245  \n",
       "...                                        ...  \n",
       "114440                               -0.918138  \n",
       "114441                                4.044306  \n",
       "114442                               -2.419473  \n",
       "114443                               -2.419473  \n",
       "114444                               -0.721245  \n",
       "\n",
       "[114445 rows x 7 columns]"
      ]
     },
     "execution_count": 27,
     "metadata": {},
     "output_type": "execute_result"
    }
   ],
   "source": [
    "X_train"
   ]
  },
  {
   "cell_type": "code",
   "execution_count": 28,
   "id": "c2f5f2b6-1acd-48bf-909f-b119cebfbe55",
   "metadata": {},
   "outputs": [
    {
     "data": {
      "text/html": [
       "<div>\n",
       "<style scoped>\n",
       "    .dataframe tbody tr th:only-of-type {\n",
       "        vertical-align: middle;\n",
       "    }\n",
       "\n",
       "    .dataframe tbody tr th {\n",
       "        vertical-align: top;\n",
       "    }\n",
       "\n",
       "    .dataframe thead th {\n",
       "        text-align: right;\n",
       "    }\n",
       "</style>\n",
       "<table border=\"1\" class=\"dataframe\">\n",
       "  <thead>\n",
       "    <tr style=\"text-align: right;\">\n",
       "      <th></th>\n",
       "      <th>fl_date</th>\n",
       "      <th>crs_arr_time</th>\n",
       "      <th>distance</th>\n",
       "      <th>origin_month_mean_dep_delay</th>\n",
       "      <th>dest_month_mean_arr_delay</th>\n",
       "      <th>tail_num_month_mean_arr_delay</th>\n",
       "      <th>op_unique_carrier_month_mean_arr_delay</th>\n",
       "    </tr>\n",
       "  </thead>\n",
       "  <tbody>\n",
       "    <tr>\n",
       "      <th>0</th>\n",
       "      <td>0.000000</td>\n",
       "      <td>0.264277</td>\n",
       "      <td>0.509895</td>\n",
       "      <td>0.467510</td>\n",
       "      <td>0.391697</td>\n",
       "      <td>0.282289</td>\n",
       "      <td>0.490234</td>\n",
       "    </tr>\n",
       "    <tr>\n",
       "      <th>1</th>\n",
       "      <td>0.666667</td>\n",
       "      <td>0.518549</td>\n",
       "      <td>0.202948</td>\n",
       "      <td>0.526787</td>\n",
       "      <td>0.513867</td>\n",
       "      <td>0.279366</td>\n",
       "      <td>0.442119</td>\n",
       "    </tr>\n",
       "    <tr>\n",
       "      <th>2</th>\n",
       "      <td>0.666667</td>\n",
       "      <td>0.598583</td>\n",
       "      <td>0.217286</td>\n",
       "      <td>0.611381</td>\n",
       "      <td>0.419763</td>\n",
       "      <td>0.219785</td>\n",
       "      <td>0.106616</td>\n",
       "    </tr>\n",
       "    <tr>\n",
       "      <th>3</th>\n",
       "      <td>0.333333</td>\n",
       "      <td>0.934139</td>\n",
       "      <td>0.219507</td>\n",
       "      <td>0.651451</td>\n",
       "      <td>0.456480</td>\n",
       "      <td>0.322226</td>\n",
       "      <td>0.335705</td>\n",
       "    </tr>\n",
       "    <tr>\n",
       "      <th>4</th>\n",
       "      <td>0.666667</td>\n",
       "      <td>0.687370</td>\n",
       "      <td>0.122779</td>\n",
       "      <td>0.499084</td>\n",
       "      <td>0.431164</td>\n",
       "      <td>0.351513</td>\n",
       "      <td>0.442119</td>\n",
       "    </tr>\n",
       "    <tr>\n",
       "      <th>...</th>\n",
       "      <td>...</td>\n",
       "      <td>...</td>\n",
       "      <td>...</td>\n",
       "      <td>...</td>\n",
       "      <td>...</td>\n",
       "      <td>...</td>\n",
       "      <td>...</td>\n",
       "    </tr>\n",
       "    <tr>\n",
       "      <th>114440</th>\n",
       "      <td>0.000000</td>\n",
       "      <td>0.430596</td>\n",
       "      <td>0.155493</td>\n",
       "      <td>0.651451</td>\n",
       "      <td>0.448000</td>\n",
       "      <td>0.326324</td>\n",
       "      <td>0.429781</td>\n",
       "    </tr>\n",
       "    <tr>\n",
       "      <th>114441</th>\n",
       "      <td>0.000000</td>\n",
       "      <td>0.810338</td>\n",
       "      <td>0.039580</td>\n",
       "      <td>0.433023</td>\n",
       "      <td>0.448000</td>\n",
       "      <td>0.344727</td>\n",
       "      <td>0.740736</td>\n",
       "    </tr>\n",
       "    <tr>\n",
       "      <th>114442</th>\n",
       "      <td>0.666667</td>\n",
       "      <td>0.375156</td>\n",
       "      <td>0.143578</td>\n",
       "      <td>0.582566</td>\n",
       "      <td>0.494449</td>\n",
       "      <td>0.368978</td>\n",
       "      <td>0.335705</td>\n",
       "    </tr>\n",
       "    <tr>\n",
       "      <th>114443</th>\n",
       "      <td>0.833333</td>\n",
       "      <td>0.961651</td>\n",
       "      <td>0.031099</td>\n",
       "      <td>0.593080</td>\n",
       "      <td>0.620260</td>\n",
       "      <td>0.281304</td>\n",
       "      <td>0.335705</td>\n",
       "    </tr>\n",
       "    <tr>\n",
       "      <th>114444</th>\n",
       "      <td>0.666667</td>\n",
       "      <td>0.606086</td>\n",
       "      <td>0.164580</td>\n",
       "      <td>0.578967</td>\n",
       "      <td>0.436179</td>\n",
       "      <td>0.308256</td>\n",
       "      <td>0.442119</td>\n",
       "    </tr>\n",
       "  </tbody>\n",
       "</table>\n",
       "<p>114445 rows × 7 columns</p>\n",
       "</div>"
      ],
      "text/plain": [
       "         fl_date  crs_arr_time  distance  origin_month_mean_dep_delay  \\\n",
       "0       0.000000      0.264277  0.509895                     0.467510   \n",
       "1       0.666667      0.518549  0.202948                     0.526787   \n",
       "2       0.666667      0.598583  0.217286                     0.611381   \n",
       "3       0.333333      0.934139  0.219507                     0.651451   \n",
       "4       0.666667      0.687370  0.122779                     0.499084   \n",
       "...          ...           ...       ...                          ...   \n",
       "114440  0.000000      0.430596  0.155493                     0.651451   \n",
       "114441  0.000000      0.810338  0.039580                     0.433023   \n",
       "114442  0.666667      0.375156  0.143578                     0.582566   \n",
       "114443  0.833333      0.961651  0.031099                     0.593080   \n",
       "114444  0.666667      0.606086  0.164580                     0.578967   \n",
       "\n",
       "        dest_month_mean_arr_delay  tail_num_month_mean_arr_delay  \\\n",
       "0                        0.391697                       0.282289   \n",
       "1                        0.513867                       0.279366   \n",
       "2                        0.419763                       0.219785   \n",
       "3                        0.456480                       0.322226   \n",
       "4                        0.431164                       0.351513   \n",
       "...                           ...                            ...   \n",
       "114440                   0.448000                       0.326324   \n",
       "114441                   0.448000                       0.344727   \n",
       "114442                   0.494449                       0.368978   \n",
       "114443                   0.620260                       0.281304   \n",
       "114444                   0.436179                       0.308256   \n",
       "\n",
       "        op_unique_carrier_month_mean_arr_delay  \n",
       "0                                     0.490234  \n",
       "1                                     0.442119  \n",
       "2                                     0.106616  \n",
       "3                                     0.335705  \n",
       "4                                     0.442119  \n",
       "...                                        ...  \n",
       "114440                                0.429781  \n",
       "114441                                0.740736  \n",
       "114442                                0.335705  \n",
       "114443                                0.335705  \n",
       "114444                                0.442119  \n",
       "\n",
       "[114445 rows x 7 columns]"
      ]
     },
     "execution_count": 28,
     "metadata": {},
     "output_type": "execute_result"
    }
   ],
   "source": [
    "X_train_scaled"
   ]
  },
  {
   "cell_type": "markdown",
   "id": "778f3e71-20cb-4d00-b578-7c06d415fe1e",
   "metadata": {},
   "source": [
    "## Training"
   ]
  },
  {
   "cell_type": "markdown",
   "id": "40882d26-65ee-4068-8efc-0705205cc1e0",
   "metadata": {},
   "source": [
    "### Default"
   ]
  },
  {
   "cell_type": "markdown",
   "id": "a1c85f82-0aaa-4961-b2ee-5a051a79950a",
   "metadata": {},
   "source": [
    "[XGBoost.train](https://xgboost.readthedocs.io/en/stable/python/python_api.html?highlight=xgboost%20train#xgboost.train)\n",
    "\n",
    ">```Python\n",
    "xgb.train(params, dtrain, num_boost_round=10,  \n",
    "evals=(), obj=None, feval=None,  \n",
    "maximize=None, early_stopping_rounds=None, evals_result=None,  \n",
    "verbose_eval=True, xgb_model=None, callbacks=None)```\n",
    "\n",
    "[XGBRegressor().fit](https://xgboost.readthedocs.io/en/stable/python/python_api.html?highlight=fit#xgboost.XGBRegressor.fit)\n",
    "\n",
    ">```Python\n",
    "xgb.XGBRegressor().fit(X, y, *,  \n",
    "sample_weight=None, base_margin=None, eval_set=None,  \n",
    "eval_metric=None, early_stopping_rounds=None, verbose=True,  \n",
    "xgb_model=None, sample_weight_eval_set=None, base_margin_eval_set=None,  \n",
    "feature_weights=None, callbacks=None)```\n"
   ]
  },
  {
   "cell_type": "code",
   "execution_count": 29,
   "id": "30847ecb-ea83-432a-8351-96e71f8f0fc9",
   "metadata": {},
   "outputs": [
    {
     "data": {
      "text/plain": [
       "XGBRegressor(base_score=0.5, booster='gbtree', colsample_bylevel=1,\n",
       "             colsample_bynode=1, colsample_bytree=1, enable_categorical=False,\n",
       "             gamma=0, gpu_id=-1, importance_type=None,\n",
       "             interaction_constraints='', learning_rate=0.300000012,\n",
       "             max_delta_step=0, max_depth=6, min_child_weight=1, missing=nan,\n",
       "             monotone_constraints='()', n_estimators=100, n_jobs=8,\n",
       "             num_parallel_tree=1, predictor='auto', random_state=99,\n",
       "             reg_alpha=0, reg_lambda=1, scale_pos_weight=1, subsample=1,\n",
       "             tree_method='exact', validate_parameters=1, verbosity=None)"
      ]
     },
     "execution_count": 29,
     "metadata": {},
     "output_type": "execute_result"
    }
   ],
   "source": [
    "xg_reg_default = xgb.XGBRegressor(random_state=rs)\n",
    "xg_reg_default.fit(X=X_train_scaled, y=y_train)"
   ]
  },
  {
   "cell_type": "code",
   "execution_count": 30,
   "id": "1e2dc0e0-40d9-4453-a170-0115fdec91ef",
   "metadata": {},
   "outputs": [],
   "source": [
    "y_pred_default = xg_reg_default.predict(X_test_scaled)"
   ]
  },
  {
   "cell_type": "code",
   "execution_count": 31,
   "id": "8c0338b8-3420-4d71-bb3b-8e09a984f64c",
   "metadata": {},
   "outputs": [
    {
     "name": "stdout",
     "output_type": "stream",
     "text": [
      "RMSE: 23.96008296210779\n"
     ]
    }
   ],
   "source": [
    "# Root mean squared error\n",
    "rmse = mean_squared_error(\n",
    "    y_true=y_test,\n",
    "    y_pred=y_pred_default,\n",
    "    squared=False\n",
    ")\n",
    "print(f'RMSE: {rmse}')"
   ]
  },
  {
   "cell_type": "code",
   "execution_count": 92,
   "id": "fd40d8c1-d61d-4841-8699-8d2ea76b1fe3",
   "metadata": {},
   "outputs": [],
   "source": [
    "y_pred_df = pd.DataFrame(y_pred_default)"
   ]
  },
  {
   "cell_type": "code",
   "execution_count": 93,
   "id": "c69129d0-e88e-4039-97e5-fb20b76728c8",
   "metadata": {},
   "outputs": [
    {
     "data": {
      "text/plain": [
       "0    1.081527\n",
       "dtype: float32"
      ]
     },
     "execution_count": 93,
     "metadata": {},
     "output_type": "execute_result"
    }
   ],
   "source": [
    "y_pred_df.skew()"
   ]
  },
  {
   "cell_type": "code",
   "execution_count": 94,
   "id": "a6afb254-0740-46ff-ab5d-07ffabf869f8",
   "metadata": {},
   "outputs": [
    {
     "data": {
      "text/plain": [
       "array([[<AxesSubplot:title={'center':'0'}>]], dtype=object)"
      ]
     },
     "execution_count": 94,
     "metadata": {},
     "output_type": "execute_result"
    },
    {
     "data": {
      "image/png": "[encoded data removed]",
      "text/plain": [
       "<Figure size 432x288 with 1 Axes>"
      ]
     },
     "metadata": {
      "needs_background": "light"
     },
     "output_type": "display_data"
    }
   ],
   "source": [
    "y_pred_df.hist(bins=25)"
   ]
  },
  {
   "cell_type": "code",
   "execution_count": 95,
   "id": "d6d73383-c9fa-4d0d-ac92-0e990a0c6e43",
   "metadata": {},
   "outputs": [
    {
     "data": {
      "text/plain": [
       "<BarContainer object of 7 artists>"
      ]
     },
     "execution_count": 95,
     "metadata": {},
     "output_type": "execute_result"
    },
    {
     "data": {
      "image/png": "[encoded data removed]",
      "text/plain": [
       "<Figure size 432x288 with 1 Axes>"
      ]
     },
     "metadata": {
      "needs_background": "light"
     },
     "output_type": "display_data"
    }
   ],
   "source": [
    "plt.barh(X_train_scaled.columns, xg_reg_default.feature_importances_)"
   ]
  },
  {
   "cell_type": "code",
   "execution_count": null,
   "id": "82f28864-cd3c-4b30-9267-149dad86f11f",
   "metadata": {},
   "outputs": [],
   "source": [
    "params = {\n",
    "    'n_estimators' : [10, 50, 100],\n",
    "    'max_depth' : [3, 6, 10],\n",
    "    'learning_rate' : [0.01, 0.1, 0.3, 0.5],\n",
    "    'objective' : 'reg:squarederror',\n",
    "    'gamma' : [0, 0.1, 0.2]\n",
    "    'reg_lambda' : ,\n",
    "    'random_state'=rs\n",
    "}"
   ]
  },
  {
   "cell_type": "code",
   "execution_count": null,
   "id": "2b8e550a-cf5e-4848-89e2-f97ca583bee3",
   "metadata": {},
   "outputs": [],
   "source": [
    "GS = GridSearchCV(\n",
    "    estimator=xgb.XGBRegressor(),\n",
    "    param_grid=params,\n",
    "    n_jobs=-1\n",
    ")"
   ]
  },
  {
   "cell_type": "code",
   "execution_count": null,
   "id": "1ed4a461-83a5-4c88-8800-c7ab6b87e2a5",
   "metadata": {},
   "outputs": [],
   "source": []
  },
  {
   "cell_type": "markdown",
   "id": "5354d673-ac7a-4738-b60a-f260225aa372",
   "metadata": {},
   "source": [
    "## Forest Minimize"
   ]
  },
  {
   "cell_type": "code",
   "execution_count": null,
   "id": "6ea53ebc-ffaa-498d-897e-7916d15051f1",
   "metadata": {},
   "outputs": [],
   "source": [
    "reg = xgb.XGBRegressor(random_state=rs)\n",
    "\n",
    "space = space = [\n",
    "    Real(10**-3, 10**0, prior='log-uniform', name='learning_rate'),\n",
    "    Integer(10, 100, name='n_estimators'),\n",
    "    Integer(1, 10, name='max_depth'),\n",
    "    Real(1, 6., name='min_child_weight'),\n",
    "    Real(0, 0.5, name='gamma'),\n",
    "    Real(0.5, 1., name='subsample'),\n",
    "    Real(0.5, 1., name='colsample_bytree'),\n",
    "    Real(0, 5., name='reg_lambda'),  #  L2 regularization\n",
    "    Real(0, 5., name='reg_alpha'),  #  L1 regularization\n",
    "]"
   ]
  },
  {
   "cell_type": "code",
   "execution_count": null,
   "id": "fdfbe4b0-b7a3-48ba-a6f1-98e3e8adbe61",
   "metadata": {},
   "outputs": [],
   "source": [
    "@use_named_args(space)\n",
    "def tune_xgbr(**params):\n",
    "    # Implementation from Pedro Couto (https://www.kaggle.com/general/17120)\n",
    "    \"\"\"\n",
    "    Function to be passed as scikit-optimize minimizer/maximizer input\n",
    "\n",
    "    Parameters\n",
    "    ----------\n",
    "    Tuples with information about the range that the optimizer should\n",
    "    use for that parameter, as well as the behaviour that it should\n",
    "    follow in that range.\n",
    "\n",
    "    Returns\n",
    "    -------\n",
    "    float : the metric that should be minimized.\n",
    "        If the objective is maximization, then the negative of the\n",
    "        desired metric must be returned. e.g. AUC for classifiers\n",
    "    \"\"\"\n",
    "    \n",
    "    reg.set_params(**params)\n",
    "\n",
    "    print(params)\n",
    "\n",
    "    #Cross-Validation in order to avoid overfitting\n",
    "    rmse = -cross_val_score(\n",
    "        estimator=reg,\n",
    "        X=X_train,\n",
    "        y=y_train,\n",
    "        cv=10,\n",
    "        scoring='neg_root_mean_squared_error'\n",
    "    )\n",
    "\n",
    "    # as the function is minimization (forest_minimize)\n",
    "    return rmse.mean()"
   ]
  },
  {
   "cell_type": "code",
   "execution_count": null,
   "id": "4756daa9-0216-4da2-b411-87d61f96abe5",
   "metadata": {
    "tags": []
   },
   "outputs": [],
   "source": [
    "result = forest_minimize(\n",
    "    func=tune_xgbr,\n",
    "    dimensions=space,\n",
    "    n_calls=10,  # default=100\n",
    "    n_initial_points=10,  # default=10\n",
    "    random_state=rs,\n",
    "    verbose=True,\n",
    "    callback=[DeltaYStopper(delta=0.0001, n_best=5)],\n",
    "    n_jobs=-1\n",
    ")"
   ]
  },
  {
   "cell_type": "markdown",
   "id": "172b477d-7d2e-4cb5-af37-127f421ae47b",
   "metadata": {},
   "source": [
    "Test 1\n",
    "```Python\n",
    "{'learning_rate': 0.001427327650456945, 'n_estimators': 45, 'max_depth': 6, 'min_child_weight': 5.577312494899226, 'gamma': 0.46958871144265596, 'subsample': 0.9187467962876275, 'colsample_bytree': 0.7163946675955536, 'reg_lambda': 3.580564759611335, 'reg_alpha': 4.256719953358928}\n",
    "```"
   ]
  },
  {
   "cell_type": "code",
   "execution_count": null,
   "id": "b75d3532-6eaf-46b2-b5d2-3e3a335e74e9",
   "metadata": {},
   "outputs": [],
   "source": []
  },
  {
   "cell_type": "code",
   "execution_count": null,
   "id": "f50aa3c6-b839-469d-8a85-afd4b767e43a",
   "metadata": {},
   "outputs": [],
   "source": [
    "# See documentation for all XGBoost parameters\n",
    "# https://xgboost.readthedocs.io/en/stable/parameter.html\n",
    "\n",
    "# typical values from\n",
    "# https://machinelearningmastery.com/xgboost-for-regression/\n",
    "\n",
    "\n",
    "optimum_parameters = {\n",
    "    # Tree Booster Parameters\n",
    "    'learning_rate' : 0.001427327650456945,  # learning_rate default 0.3 range [0, 1]\n",
    "    'n_estimators' : 45,  # numer of trees\n",
    "    'max_depth' : 6,  # default 6 typical 1–10\n",
    "    'min_child_weight' : 5.577312494899226,\n",
    "    'gamma' : 0.46958871144265596,\n",
    "    'subsample' : 0.9187467962876275,\n",
    "    'colsample_bytree' : 0.7163946675955536,  # default 1 range (0, 1]\n",
    "    'reg_lambda' : 3.580564759611335,  # L2 regularization default 1\n",
    "    'reg_alpha' : 0,  # L1 regularization default 0\n",
    "    # Learning Task Parameters\n",
    "    'objective' : 'reg:squarederror',  # default reg:squarederror\n",
    "    'eval_metric' : 'rmse',  # regression default 'rmse'\n",
    "    \"seed\" : rs  # random seed\n",
    "}\n"
   ]
  },
  {
   "cell_type": "code",
   "execution_count": null,
   "id": "b3657ffd-0719-4225-94d6-68df7213ef12",
   "metadata": {},
   "outputs": [],
   "source": [
    "# SKlearn wrapper\n",
    "xg_reg = xgb.XGBRegressor(\n",
    "    objective='reg:linear',\n",
    "    colsample_bytree = 0.3,\n",
    "    learning_rate = 0.1,\n",
    "    max_depth = 5,\n",
    "    alpha = 10,\n",
    "    n_estimators = 10\n",
    ")"
   ]
  },
  {
   "cell_type": "code",
   "execution_count": null,
   "id": "62cd6fda-df97-4139-8760-f7b5256bcc16",
   "metadata": {},
   "outputs": [],
   "source": [
    "xg_reg.fit(X_train, y_train)"
   ]
  },
  {
   "cell_type": "markdown",
   "id": "74c8f353-6084-4dbc-b5ef-cbd461bdb621",
   "metadata": {},
   "source": [
    "## Predicting "
   ]
  },
  {
   "cell_type": "code",
   "execution_count": null,
   "id": "aafcfd42-82e2-4803-97ca-1e9e6b807e08",
   "metadata": {},
   "outputs": [],
   "source": [
    "y_pred = xg_reg.predict(X_test)"
   ]
  },
  {
   "cell_type": "markdown",
   "id": "53c563f1-bd68-4c2f-820e-c6ea5d1876b3",
   "metadata": {},
   "source": [
    "## Model Evaluation"
   ]
  },
  {
   "cell_type": "code",
   "execution_count": null,
   "id": "d9c09b24-7e23-4165-8e24-475b05137bd6",
   "metadata": {},
   "outputs": [],
   "source": [
    "# Root mean squared error\n",
    "rmse = np.sqrt(mean_squared_error(y_true=y_test,\n",
    "                                  y_pred=y_pred))\n",
    "print(f'RMSE: {rmse}')"
   ]
  },
  {
   "cell_type": "code",
   "execution_count": null,
   "id": "d4f35fb8-647d-45e2-ab26-a7cab9ca05f0",
   "metadata": {},
   "outputs": [],
   "source": []
  },
  {
   "cell_type": "markdown",
   "id": "fd4e16f4-cf5d-4418-8c4b-580d216258f5",
   "metadata": {},
   "source": [
    "## Cross validation"
   ]
  },
  {
   "cell_type": "code",
   "execution_count": null,
   "id": "c337bac9-3525-4149-a072-056b66903be0",
   "metadata": {},
   "outputs": [],
   "source": [
    "params = {\"objective\":\"reg:squarederror\",\n",
    "          'colsample_bytree': 0.3,\n",
    "          'learning_rate': 0.1,\n",
    "          'max_depth': 5,\n",
    "          'alpha': 10}\n",
    "\n",
    "cv_results = xgb.cv(\n",
    "    dtrain=DMat_train,\n",
    "    params=params,\n",
    "    nfold=10,\n",
    "    num_boost_round=50,\n",
    "    early_stopping_rounds=10,\n",
    "    metrics=\"rmse\",\n",
    "    as_pandas=True,\n",
    "    seed=rs\n",
    ")\n",
    "\n",
    "cv_results"
   ]
  },
  {
   "cell_type": "markdown",
   "id": "7c1ed2dc-480a-4100-b90e-3f807ae69967",
   "metadata": {},
   "source": [
    "## Visualize"
   ]
  },
  {
   "cell_type": "code",
   "execution_count": null,
   "id": "be268903-320a-449d-935f-eca1370c33e8",
   "metadata": {},
   "outputs": [],
   "source": [
    "xg_reg = xgb.train(\n",
    "    params=params,\n",
    "    dtrain=DMat_train,\n",
    "    num_boost_round=10\n",
    ")"
   ]
  },
  {
   "cell_type": "code",
   "execution_count": null,
   "id": "b02031ff-2e3f-4e05-8d0b-47ce39682329",
   "metadata": {},
   "outputs": [],
   "source": [
    "ax = xgb.plot_tree(booster=xg_reg, num_trees=0)\n",
    "fig = ax.figure\n",
    "fig.set_size_inches(50, 10)"
   ]
  },
  {
   "cell_type": "code",
   "execution_count": null,
   "id": "d704c82b-339f-40dd-8328-be544caf16a4",
   "metadata": {},
   "outputs": [],
   "source": [
    "# Feature Importance\n",
    "ax = xgb.plot_importance(xg_reg)\n",
    "fig = ax.figure\n",
    "fig.set_size_inches(12, 9)"
   ]
  },
  {
   "cell_type": "code",
   "execution_count": null,
   "id": "774301b2-9625-4531-bb05-652b5025f8f9",
   "metadata": {},
   "outputs": [],
   "source": []
  },
  {
   "cell_type": "code",
   "execution_count": null,
   "id": "f95cad73-16f3-412a-9dd4-8a0f29a6b359",
   "metadata": {},
   "outputs": [],
   "source": []
  }
 ],
 "metadata": {
  "kernelspec": {
   "display_name": "Python 3 (ipykernel)",
   "language": "python",
   "name": "python3"
  },
  "language_info": {
   "codemirror_mode": {
    "name": "ipython",
    "version": 3
   },
   "file_extension": ".py",
   "mimetype": "text/x-python",
   "name": "python",
   "nbconvert_exporter": "python",
   "pygments_lexer": "ipython3",
   "version": "3.10.0"
  }
 },
 "nbformat": 4,
 "nbformat_minor": 5
}
