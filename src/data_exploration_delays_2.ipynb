{
 "cells": [
  {
   "cell_type": "code",
   "execution_count": 1,
   "id": "bc3ee181-bb06-4547-9540-12d7beaaaf4a",
   "metadata": {},
   "outputs": [],
   "source": [
    "import pandas as pd\n",
    "import numpy as np\n",
    "import scipy.stats as st"
   ]
  },
  {
   "cell_type": "code",
   "execution_count": 2,
   "id": "2df64415-e4f9-48aa-b036-de995acfd49b",
   "metadata": {},
   "outputs": [],
   "source": [
    "# Rename the path as necessary to where the data is stored\n",
    "flights = pd.read_csv('../data/raw_flights_10000_random.csv')"
   ]
  },
  {
   "cell_type": "code",
   "execution_count": 3,
   "id": "08b63c3b-dee0-41f8-b403-08610225a8b6",
   "metadata": {},
   "outputs": [
    {
     "data": {
      "text/plain": [
       "Index(['fl_date', 'mkt_unique_carrier', 'branded_code_share', 'mkt_carrier',\n",
       "       'mkt_carrier_fl_num', 'op_unique_carrier', 'tail_num',\n",
       "       'op_carrier_fl_num', 'origin_airport_id', 'origin', 'origin_city_name',\n",
       "       'dest_airport_id', 'dest', 'dest_city_name', 'crs_dep_time', 'dep_time',\n",
       "       'dep_delay', 'taxi_out', 'wheels_off', 'wheels_on', 'taxi_in',\n",
       "       'crs_arr_time', 'arr_time', 'arr_delay', 'cancelled',\n",
       "       'cancellation_code', 'diverted', 'dup', 'crs_elapsed_time',\n",
       "       'actual_elapsed_time', 'air_time', 'flights', 'distance',\n",
       "       'carrier_delay', 'weather_delay', 'nas_delay', 'security_delay',\n",
       "       'late_aircraft_delay', 'first_dep_time', 'total_add_gtime',\n",
       "       'longest_add_gtime', 'no_name'],\n",
       "      dtype='object')"
      ]
     },
     "execution_count": 3,
     "metadata": {},
     "output_type": "execute_result"
    }
   ],
   "source": [
    "# Keep column list handy as reference\n",
    "flights.columns"
   ]
  },
  {
   "cell_type": "code",
   "execution_count": 4,
   "id": "b889df34-bbd8-434e-90de-4903086a7512",
   "metadata": {},
   "outputs": [
    {
     "data": {
      "text/plain": [
       "189"
      ]
     },
     "execution_count": 4,
     "metadata": {},
     "output_type": "execute_result"
    }
   ],
   "source": [
    "# Check total number of null values\n",
    "flights['arr_delay'].isnull().sum()"
   ]
  },
  {
   "cell_type": "code",
   "execution_count": 5,
   "id": "3f30ff4b-3081-4ac6-b818-0e4c048ea1df",
   "metadata": {},
   "outputs": [
    {
     "name": "stdout",
     "output_type": "stream",
     "text": [
      "168\n",
      "19\n"
     ]
    },
    {
     "data": {
      "text/plain": [
       "187"
      ]
     },
     "execution_count": 5,
     "metadata": {},
     "output_type": "execute_result"
    }
   ],
   "source": [
    "# Check total number of null values from cancelled and diverted flights\n",
    "print(flights[flights['cancelled'] == 1].shape[0])\n",
    "print(flights[flights['diverted'] == 1].shape[0])\n",
    "flights[flights['cancelled'] == 1].shape[0] + flights[flights['diverted'] == 1].shape[0]"
   ]
  },
  {
   "cell_type": "code",
   "execution_count": 6,
   "id": "0599c832-2e0c-41e3-a9c7-daaed183e3da",
   "metadata": {},
   "outputs": [
    {
     "data": {
      "text/html": [
       "<div>\n",
       "<style scoped>\n",
       "    .dataframe tbody tr th:only-of-type {\n",
       "        vertical-align: middle;\n",
       "    }\n",
       "\n",
       "    .dataframe tbody tr th {\n",
       "        vertical-align: top;\n",
       "    }\n",
       "\n",
       "    .dataframe thead th {\n",
       "        text-align: right;\n",
       "    }\n",
       "</style>\n",
       "<table border=\"1\" class=\"dataframe\">\n",
       "  <thead>\n",
       "    <tr style=\"text-align: right;\">\n",
       "      <th></th>\n",
       "      <th>crs_dep_time</th>\n",
       "      <th>dep_time</th>\n",
       "      <th>dep_delay</th>\n",
       "      <th>taxi_out</th>\n",
       "      <th>wheels_off</th>\n",
       "      <th>wheels_on</th>\n",
       "      <th>taxi_in</th>\n",
       "      <th>crs_arr_time</th>\n",
       "      <th>arr_time</th>\n",
       "      <th>arr_delay</th>\n",
       "      <th>cancelled</th>\n",
       "      <th>cancellation_code</th>\n",
       "      <th>diverted</th>\n",
       "      <th>dup</th>\n",
       "      <th>crs_elapsed_time</th>\n",
       "      <th>actual_elapsed_time</th>\n",
       "      <th>air_time</th>\n",
       "      <th>flights</th>\n",
       "      <th>distance</th>\n",
       "    </tr>\n",
       "  </thead>\n",
       "  <tbody>\n",
       "    <tr>\n",
       "      <th>3417</th>\n",
       "      <td>1230</td>\n",
       "      <td>1228.0</td>\n",
       "      <td>-2.0</td>\n",
       "      <td>14.0</td>\n",
       "      <td>1242.0</td>\n",
       "      <td>1234.0</td>\n",
       "      <td>13.0</td>\n",
       "      <td>1247</td>\n",
       "      <td>1247.0</td>\n",
       "      <td>NaN</td>\n",
       "      <td>0</td>\n",
       "      <td>NaN</td>\n",
       "      <td>0</td>\n",
       "      <td>N</td>\n",
       "      <td>77</td>\n",
       "      <td>79.0</td>\n",
       "      <td>52.0</td>\n",
       "      <td>1</td>\n",
       "      <td>264</td>\n",
       "    </tr>\n",
       "    <tr>\n",
       "      <th>4537</th>\n",
       "      <td>1656</td>\n",
       "      <td>1657.0</td>\n",
       "      <td>1.0</td>\n",
       "      <td>26.0</td>\n",
       "      <td>1723.0</td>\n",
       "      <td>1716.0</td>\n",
       "      <td>3.0</td>\n",
       "      <td>1719</td>\n",
       "      <td>1719.0</td>\n",
       "      <td>NaN</td>\n",
       "      <td>0</td>\n",
       "      <td>NaN</td>\n",
       "      <td>0</td>\n",
       "      <td>N</td>\n",
       "      <td>83</td>\n",
       "      <td>82.0</td>\n",
       "      <td>53.0</td>\n",
       "      <td>1</td>\n",
       "      <td>302</td>\n",
       "    </tr>\n",
       "  </tbody>\n",
       "</table>\n",
       "</div>"
      ],
      "text/plain": [
       "      crs_dep_time  dep_time  dep_delay  taxi_out  wheels_off  wheels_on  \\\n",
       "3417          1230    1228.0       -2.0      14.0      1242.0     1234.0   \n",
       "4537          1656    1657.0        1.0      26.0      1723.0     1716.0   \n",
       "\n",
       "      taxi_in  crs_arr_time  arr_time  arr_delay  cancelled cancellation_code  \\\n",
       "3417     13.0          1247    1247.0        NaN          0               NaN   \n",
       "4537      3.0          1719    1719.0        NaN          0               NaN   \n",
       "\n",
       "      diverted dup  crs_elapsed_time  actual_elapsed_time  air_time  flights  \\\n",
       "3417         0   N                77                 79.0      52.0        1   \n",
       "4537         0   N                83                 82.0      53.0        1   \n",
       "\n",
       "      distance  \n",
       "3417       264  \n",
       "4537       302  "
      ]
     },
     "execution_count": 6,
     "metadata": {},
     "output_type": "execute_result"
    }
   ],
   "source": [
    "# Find the two other null values and check why they are null\n",
    "null_filter = (flights.arr_delay.isnull()) & (flights.cancelled == 0) & (flights.diverted == 0)\n",
    "flights[null_filter].iloc[:, -28:-9]"
   ]
  },
  {
   "cell_type": "markdown",
   "id": "3e0e1980-8f4c-42f0-8d48-a1069d53b536",
   "metadata": {},
   "source": [
    "### Note: only two null values, but both should be zero since dep_delay + flight_time_delay is zero -> input error!\n",
    "\n",
    "### Will manually change the values"
   ]
  },
  {
   "cell_type": "code",
   "execution_count": 7,
   "id": "366588c3-3114-4cef-b046-a7b993ee69ae",
   "metadata": {},
   "outputs": [
    {
     "data": {
      "text/plain": [
       "(0.0, 0.0)"
      ]
     },
     "execution_count": 7,
     "metadata": {},
     "output_type": "execute_result"
    }
   ],
   "source": [
    "# Manually change two null values to zero\n",
    "flights.loc[3417, 'arr_delay'] = 0\n",
    "flights.loc[4537, 'arr_delay'] = 0\n",
    "flights.loc[4537, 'arr_delay'], flights.loc[3417, 'arr_delay']"
   ]
  },
  {
   "cell_type": "code",
   "execution_count": 8,
   "id": "7cf1f04d-dff5-4bf1-97dd-1699097c8adf",
   "metadata": {},
   "outputs": [
    {
     "data": {
      "text/plain": [
       "count    9813.000000\n",
       "mean        5.634974\n",
       "std        52.540674\n",
       "min      -158.000000\n",
       "25%       -15.000000\n",
       "50%        -6.000000\n",
       "75%         8.000000\n",
       "max      1394.000000\n",
       "Name: arr_delay, dtype: float64"
      ]
     },
     "execution_count": 8,
     "metadata": {},
     "output_type": "execute_result"
    }
   ],
   "source": [
    "# Make a flight delay series for further inspection; drop NAs as they are cancelled or d\n",
    "flights_delay = flights.arr_delay\n",
    "flights_delay.dropna(inplace=True) \n",
    "flights_delay.describe()"
   ]
  },
  {
   "cell_type": "code",
   "execution_count": 9,
   "id": "550577b7-dafb-43ff-bddf-11a62a1fe6a9",
   "metadata": {},
   "outputs": [
    {
     "name": "stderr",
     "output_type": "stream",
     "text": [
      "/Users/robertjfpal/opt/anaconda3/envs/the_way/lib/python3.7/site-packages/scipy/stats/morestats.py:1760: UserWarning: p-value may not be accurate for N > 5000.\n",
      "  warnings.warn(\"p-value may not be accurate for N > 5000.\")\n"
     ]
    },
    {
     "data": {
      "text/plain": [
       "ShapiroResult(statistic=0.44402360916137695, pvalue=0.0)"
      ]
     },
     "execution_count": 9,
     "metadata": {},
     "output_type": "execute_result"
    }
   ],
   "source": [
    "shapiro = st.shapiro(flights_delay)\n",
    "shapiro\n",
    "# Shapiro says no"
   ]
  },
  {
   "cell_type": "code",
   "execution_count": 10,
   "id": "dc61a395-388c-4cba-a8f4-7382ba380d6c",
   "metadata": {},
   "outputs": [
    {
     "data": {
      "image/png": "[encoded data removed]",
      "text/plain": [
       "<Figure size 640x480 with 1 Axes>"
      ]
     },
     "metadata": {},
     "output_type": "display_data"
    }
   ],
   "source": [
    "# Do visual inspection of disturbution\n",
    "import seaborn as sns\n",
    "import matplotlib.pyplot as plt\n",
    "# set a grey background (use sns.set_theme() if seaborn version 0.11.0 or above) \n",
    "sns.set_theme(style=\"darkgrid\")\n",
    "df = flights_delay\n",
    "\n",
    "sns.histplot(data=df).set_title('Delay Disturbution')\n",
    "plt.show()\n",
    "\n",
    "# There are some outlier points -> needs a log transformation"
   ]
  },
  {
   "cell_type": "code",
   "execution_count": 31,
   "id": "54460f9e-f075-444c-bbfb-a43e01d1bf04",
   "metadata": {},
   "outputs": [],
   "source": [
    "# shift all the data by the minimum value plus 1 for log transformation \n",
    "# based on: https://blogs.sas.com/content/iml/2011/04/27/log-transformations-how-to-handle-negative-data-values.html\n",
    "flights_delay_shift = flights_delay + 159"
   ]
  },
  {
   "cell_type": "code",
   "execution_count": 32,
   "id": "306477d2-e1bc-48f6-bf15-18e35acd8be2",
   "metadata": {},
   "outputs": [
    {
     "data": {
      "image/png": "[encoded data removed]",
      "text/plain": [
       "<Figure size 640x480 with 1 Axes>"
      ]
     },
     "metadata": {},
     "output_type": "display_data"
    }
   ],
   "source": [
    "sns.set(style=\"darkgrid\")\n",
    "\n",
    "df_log = np.log(flights_delay_shift)\n",
    "\n",
    "sns.histplot(data=df_log).set_title('Delay Disturbution after Log Transformation')\n",
    "plt.show()"
   ]
  },
  {
   "cell_type": "markdown",
   "id": "fa447fb5-314b-4607-9dd6-650d2281445e",
   "metadata": {},
   "source": [
    "Note: After log transformation, distribution is still slightly skewed. "
   ]
  },
  {
   "cell_type": "code",
   "execution_count": 13,
   "id": "b070fef5-b96d-4ba5-8db4-e6eb6233e41d",
   "metadata": {},
   "outputs": [],
   "source": [
    "# transform fl_date year and month to aggregate and find monthly stats\n",
    "import datetime as dt\n",
    "\n",
    "pd.to_datetime(flights.fl_date)\n",
    "flights['month'] = pd.to_datetime(flights.fl_date).dt.month\n",
    "flights['year'] = pd.to_datetime(flights.fl_date).dt.year"
   ]
  },
  {
   "cell_type": "code",
   "execution_count": 14,
   "id": "6cc4fae8-d233-44bf-a66a-6b4478b3f0cb",
   "metadata": {},
   "outputs": [
    {
     "data": {
      "text/html": [
       "<div>\n",
       "<style scoped>\n",
       "    .dataframe tbody tr th:only-of-type {\n",
       "        vertical-align: middle;\n",
       "    }\n",
       "\n",
       "    .dataframe tbody tr th {\n",
       "        vertical-align: top;\n",
       "    }\n",
       "\n",
       "    .dataframe thead th {\n",
       "        text-align: right;\n",
       "    }\n",
       "</style>\n",
       "<table border=\"1\" class=\"dataframe\">\n",
       "  <thead>\n",
       "    <tr style=\"text-align: right;\">\n",
       "      <th></th>\n",
       "      <th>arr_delay</th>\n",
       "    </tr>\n",
       "  </thead>\n",
       "  <tbody>\n",
       "    <tr>\n",
       "      <th>mean</th>\n",
       "      <td>5.634974</td>\n",
       "    </tr>\n",
       "    <tr>\n",
       "      <th>median</th>\n",
       "      <td>-6.000000</td>\n",
       "    </tr>\n",
       "    <tr>\n",
       "      <th>std</th>\n",
       "      <td>52.540674</td>\n",
       "    </tr>\n",
       "  </tbody>\n",
       "</table>\n",
       "</div>"
      ],
      "text/plain": [
       "        arr_delay\n",
       "mean     5.634974\n",
       "median  -6.000000\n",
       "std     52.540674"
      ]
     },
     "execution_count": 14,
     "metadata": {},
     "output_type": "execute_result"
    }
   ],
   "source": [
    "# Overall stats for delays: same as previously printed\n",
    "pd.DataFrame(flights.arr_delay.agg(['mean', 'median', 'std']))"
   ]
  },
  {
   "cell_type": "code",
   "execution_count": 15,
   "id": "4a188555-f3d1-407d-8f69-8a64ac6fcd4d",
   "metadata": {},
   "outputs": [
    {
     "data": {
      "text/html": [
       "<div>\n",
       "<style scoped>\n",
       "    .dataframe tbody tr th:only-of-type {\n",
       "        vertical-align: middle;\n",
       "    }\n",
       "\n",
       "    .dataframe tbody tr th {\n",
       "        vertical-align: top;\n",
       "    }\n",
       "\n",
       "    .dataframe thead tr th {\n",
       "        text-align: left;\n",
       "    }\n",
       "\n",
       "    .dataframe thead tr:last-of-type th {\n",
       "        text-align: right;\n",
       "    }\n",
       "</style>\n",
       "<table border=\"1\" class=\"dataframe\">\n",
       "  <thead>\n",
       "    <tr>\n",
       "      <th></th>\n",
       "      <th colspan=\"3\" halign=\"left\">arr_delay</th>\n",
       "    </tr>\n",
       "    <tr>\n",
       "      <th></th>\n",
       "      <th>mean</th>\n",
       "      <th>median</th>\n",
       "      <th>std</th>\n",
       "    </tr>\n",
       "    <tr>\n",
       "      <th>month</th>\n",
       "      <th></th>\n",
       "      <th></th>\n",
       "      <th></th>\n",
       "    </tr>\n",
       "  </thead>\n",
       "  <tbody>\n",
       "    <tr>\n",
       "      <th>1</th>\n",
       "      <td>4.877915</td>\n",
       "      <td>-5.0</td>\n",
       "      <td>54.192855</td>\n",
       "    </tr>\n",
       "    <tr>\n",
       "      <th>2</th>\n",
       "      <td>9.150281</td>\n",
       "      <td>-4.0</td>\n",
       "      <td>58.841499</td>\n",
       "    </tr>\n",
       "    <tr>\n",
       "      <th>3</th>\n",
       "      <td>3.530090</td>\n",
       "      <td>-6.0</td>\n",
       "      <td>44.813296</td>\n",
       "    </tr>\n",
       "    <tr>\n",
       "      <th>4</th>\n",
       "      <td>1.802253</td>\n",
       "      <td>-7.0</td>\n",
       "      <td>38.144179</td>\n",
       "    </tr>\n",
       "    <tr>\n",
       "      <th>5</th>\n",
       "      <td>8.966467</td>\n",
       "      <td>-5.0</td>\n",
       "      <td>65.308189</td>\n",
       "    </tr>\n",
       "    <tr>\n",
       "      <th>6</th>\n",
       "      <td>11.159353</td>\n",
       "      <td>-4.0</td>\n",
       "      <td>61.687896</td>\n",
       "    </tr>\n",
       "    <tr>\n",
       "      <th>7</th>\n",
       "      <td>9.722038</td>\n",
       "      <td>-5.0</td>\n",
       "      <td>51.715056</td>\n",
       "    </tr>\n",
       "    <tr>\n",
       "      <th>8</th>\n",
       "      <td>8.735327</td>\n",
       "      <td>-6.0</td>\n",
       "      <td>76.789413</td>\n",
       "    </tr>\n",
       "    <tr>\n",
       "      <th>9</th>\n",
       "      <td>2.071879</td>\n",
       "      <td>-8.0</td>\n",
       "      <td>51.745284</td>\n",
       "    </tr>\n",
       "    <tr>\n",
       "      <th>10</th>\n",
       "      <td>2.017978</td>\n",
       "      <td>-7.0</td>\n",
       "      <td>33.478931</td>\n",
       "    </tr>\n",
       "    <tr>\n",
       "      <th>11</th>\n",
       "      <td>1.503038</td>\n",
       "      <td>-7.0</td>\n",
       "      <td>33.488709</td>\n",
       "    </tr>\n",
       "    <tr>\n",
       "      <th>12</th>\n",
       "      <td>3.252888</td>\n",
       "      <td>-6.0</td>\n",
       "      <td>36.139319</td>\n",
       "    </tr>\n",
       "  </tbody>\n",
       "</table>\n",
       "</div>"
      ],
      "text/plain": [
       "       arr_delay                  \n",
       "            mean median        std\n",
       "month                             \n",
       "1       4.877915   -5.0  54.192855\n",
       "2       9.150281   -4.0  58.841499\n",
       "3       3.530090   -6.0  44.813296\n",
       "4       1.802253   -7.0  38.144179\n",
       "5       8.966467   -5.0  65.308189\n",
       "6      11.159353   -4.0  61.687896\n",
       "7       9.722038   -5.0  51.715056\n",
       "8       8.735327   -6.0  76.789413\n",
       "9       2.071879   -8.0  51.745284\n",
       "10      2.017978   -7.0  33.478931\n",
       "11      1.503038   -7.0  33.488709\n",
       "12      3.252888   -6.0  36.139319"
      ]
     },
     "execution_count": 15,
     "metadata": {},
     "output_type": "execute_result"
    }
   ],
   "source": [
    "summary = pd.DataFrame(flights[['arr_delay','month']].groupby('month').agg(['mean', 'median', 'std']))\n",
    "summary"
   ]
  },
  {
   "cell_type": "code",
   "execution_count": 16,
   "id": "f908520c-7600-43da-9d60-ae97a59a7bce",
   "metadata": {},
   "outputs": [
    {
     "data": {
      "image/png": "[encoded data removed]",
      "text/plain": [
       "<Figure size 640x480 with 1 Axes>"
      ]
     },
     "metadata": {},
     "output_type": "display_data"
    }
   ],
   "source": [
    "# Make a bar chart \n",
    "y = summary[('arr_delay', 'mean')]\n",
    "x = summary.index\n",
    "plt.bar(x, y)\n",
    "plt.title('Monthly Average Delay')\n",
    "plt.xlabel('Month')\n",
    "plt.ylabel('Avg Delay in mins')\n",
    "plt.show()"
   ]
  },
  {
   "cell_type": "markdown",
   "id": "b25595f3-3ad2-4446-8f32-e0b35a6e3957",
   "metadata": {},
   "source": [
    "### Delay times are higher in peak summer season, due to summer travel, and in the winter, due to the weather, as one might expect."
   ]
  },
  {
   "cell_type": "code",
   "execution_count": null,
   "id": "637371e9-e000-4308-8ad0-9bb754789436",
   "metadata": {},
   "outputs": [],
   "source": []
  }
 ],
 "metadata": {
  "kernelspec": {
   "display_name": "the_way",
   "language": "python",
   "name": "the_way"
  },
  "language_info": {
   "codemirror_mode": {
    "name": "ipython",
    "version": 3
   },
   "file_extension": ".py",
   "mimetype": "text/x-python",
   "name": "python",
   "nbconvert_exporter": "python",
   "pygments_lexer": "ipython3",
   "version": "3.7.11"
  }
 },
 "nbformat": 4,
 "nbformat_minor": 5
}
